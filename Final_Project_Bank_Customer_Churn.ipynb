{
  "nbformat": 4,
  "nbformat_minor": 0,
  "metadata": {
    "colab": {
      "provenance": [],
      "authorship_tag": "ABX9TyOjF5Ih2nLlCfrV11TTZ3oi",
      "include_colab_link": true
    },
    "kernelspec": {
      "name": "python3",
      "display_name": "Python 3"
    },
    "language_info": {
      "name": "python"
    }
  },
  "cells": [
    {
      "cell_type": "markdown",
      "metadata": {
        "id": "view-in-github",
        "colab_type": "text"
      },
      "source": [
        "<a href=\"https://colab.research.google.com/github/simonhosea/finalprojectdibimbing/blob/main/Final_Project_Bank_Customer_Churn.ipynb\" target=\"_parent\"><img src=\"https://colab.research.google.com/assets/colab-badge.svg\" alt=\"Open In Colab\"/></a>"
      ]
    },
    {
      "cell_type": "markdown",
      "source": [
        "# 1. Introduction\n",
        "\n",
        "Kami bertujuan untuk melengkapi hal-hal berikut untuk penelitian ini:\n",
        "\n",
        "Identifikasi dan visualisasikan faktor mana yang berkontribusi terhadap churn pelanggan:\n",
        "\n",
        "Bangun model prediksi yang akan melakukan hal berikut:\n",
        "\n",
        "Mengklasifikasikan apakah pelanggan akan melakukan churn atau tidak\n",
        "Lebih disukai dan berdasarkan kinerja model, pilih model yang akan melampirkan probabilitas pada churn untuk memudahkan layanan pelanggan menargetkan buah yang menggantung rendah dalam upaya mereka mencegah churn"
      ],
      "metadata": {
        "id": "Z2GIUNBb6sFt"
      }
    },
    {
      "cell_type": "markdown",
      "source": [
        "Feature Description:\n",
        "\n",
        "Customer ID - Unique ID given to identify a particular customer.\n",
        "\n",
        "Credit Score - It is the score which determines the creditworthiness of a customer.\n",
        "\n",
        "Country - The country where customer lives.\n",
        "\n",
        "Gender - The Sex of customer.\n",
        "\n",
        "Age - The age of customer.\n",
        "\n",
        "Tenure - Number of years the customer has Bank Account in that Bank.\n",
        "\n",
        "Balance - Amount of money present in customer's bank.\n",
        "\n",
        "Products Number - Number of Products from that Bank.\n",
        "\n",
        "Credit Card - Does the customer own a credit card of that Bank.\n",
        "\n",
        "Active Member - Whether the customer is an active member of that Bank.\n",
        "\n",
        "Estimated Salary - Total Income of the Customer.\n",
        "\n",
        "Churn - Churn (Loss of existing customers) of the Bank."
      ],
      "metadata": {
        "id": "ehD4n9RN9hkE"
      }
    },
    {
      "cell_type": "markdown",
      "source": [
        "# 2. Data Set review & Preparation\n",
        "\n",
        "Pada bagian ini kita akan berusaha untuk mengeksplorasi struktur data kami:\n",
        "\n",
        "Untuk memahami ruang input kumpulan data\n",
        "Dan untuk menyiapkan set untuk tugas eksplorasi dan prediksi seperti yang dijelaskan di bagian 1"
      ],
      "metadata": {
        "id": "C2Pnm6r2-Hsb"
      }
    },
    {
      "cell_type": "code",
      "execution_count": 1,
      "metadata": {
        "id": "uHz_Ict16bFN",
        "colab": {
          "base_uri": "https://localhost:8080/"
        },
        "outputId": "7b2a8b33-66d5-44f1-83c2-da773ad081b1"
      },
      "outputs": [
        {
          "output_type": "stream",
          "name": "stdout",
          "text": [
            "Looking in indexes: https://pypi.org/simple, https://us-python.pkg.dev/colab-wheels/public/simple/\n",
            "Collecting lazypredict\n",
            "  Downloading lazypredict-0.2.12-py2.py3-none-any.whl (12 kB)\n",
            "Requirement already satisfied: pandas in /usr/local/lib/python3.8/dist-packages (from lazypredict) (1.3.5)\n",
            "Requirement already satisfied: lightgbm in /usr/local/lib/python3.8/dist-packages (from lazypredict) (2.2.3)\n",
            "Requirement already satisfied: xgboost in /usr/local/lib/python3.8/dist-packages (from lazypredict) (0.90)\n",
            "Requirement already satisfied: joblib in /usr/local/lib/python3.8/dist-packages (from lazypredict) (1.2.0)\n",
            "Requirement already satisfied: scikit-learn in /usr/local/lib/python3.8/dist-packages (from lazypredict) (1.0.2)\n",
            "Requirement already satisfied: click in /usr/local/lib/python3.8/dist-packages (from lazypredict) (7.1.2)\n",
            "Requirement already satisfied: tqdm in /usr/local/lib/python3.8/dist-packages (from lazypredict) (4.64.1)\n",
            "Requirement already satisfied: scipy in /usr/local/lib/python3.8/dist-packages (from lightgbm->lazypredict) (1.7.3)\n",
            "Requirement already satisfied: numpy in /usr/local/lib/python3.8/dist-packages (from lightgbm->lazypredict) (1.21.6)\n",
            "Requirement already satisfied: python-dateutil>=2.7.3 in /usr/local/lib/python3.8/dist-packages (from pandas->lazypredict) (2.8.2)\n",
            "Requirement already satisfied: pytz>=2017.3 in /usr/local/lib/python3.8/dist-packages (from pandas->lazypredict) (2022.6)\n",
            "Requirement already satisfied: six>=1.5 in /usr/local/lib/python3.8/dist-packages (from python-dateutil>=2.7.3->pandas->lazypredict) (1.15.0)\n",
            "Requirement already satisfied: threadpoolctl>=2.0.0 in /usr/local/lib/python3.8/dist-packages (from scikit-learn->lazypredict) (3.1.0)\n",
            "Installing collected packages: lazypredict\n",
            "Successfully installed lazypredict-0.2.12\n"
          ]
        }
      ],
      "source": [
        "## REQUIRED LIBRARIES\n",
        "# For data wrangling \n",
        "import numpy as np\n",
        "import pandas as pd\n",
        "\n",
        "# For visualization\n",
        "import matplotlib.pyplot as plt\n",
        "import plotly.express as px\n",
        "%matplotlib inline\n",
        "import seaborn as sns\n",
        "pd.options.display.max_rows = None\n",
        "pd.options.display.max_columns = None\n",
        "\n",
        "from sklearn.model_selection import train_test_split\n",
        "from sklearn.preprocessing import StandardScaler,LabelEncoder\n",
        "!pip3 install lazypredict\n",
        "import lazypredict\n",
        "from lazypredict.Supervised import LazyClassifier\n",
        "import warnings\n",
        "warnings.filterwarnings('ignore')"
      ]
    },
    {
      "cell_type": "code",
      "source": [
        "# Read the data frame\n",
        "df = pd.read_csv('/content/Bank Customer Churn Prediction.csv', delimiter=',')\n",
        "df.shape"
      ],
      "metadata": {
        "colab": {
          "base_uri": "https://localhost:8080/"
        },
        "id": "yUWOpyvk_CDp",
        "outputId": "5dc9c01c-a960-449f-e8e0-5c9ea4db16a8"
      },
      "execution_count": 2,
      "outputs": [
        {
          "output_type": "execute_result",
          "data": {
            "text/plain": [
              "(10000, 12)"
            ]
          },
          "metadata": {},
          "execution_count": 2
        }
      ]
    },
    {
      "cell_type": "markdown",
      "source": [
        "Df memiliki 1000 baris dengan 12 atribut. Kami meninjau ini lebih lanjut untuk mengidentifikasi atribut apa yang diperlukan dan manipulasi data apa yang perlu dilakukan sebelum analisis Eksplorasi dan pemodelan prediksi"
      ],
      "metadata": {
        "id": "Tf-emu6m_RMZ"
      }
    },
    {
      "cell_type": "code",
      "source": [
        "# Check columns list and missing values\n",
        "df.isnull().sum()"
      ],
      "metadata": {
        "colab": {
          "base_uri": "https://localhost:8080/"
        },
        "id": "71qwtoCz_UEr",
        "outputId": "8d30d379-9fcd-47c4-b04b-480ceacf82ea"
      },
      "execution_count": 3,
      "outputs": [
        {
          "output_type": "execute_result",
          "data": {
            "text/plain": [
              "customer_id         0\n",
              "credit_score        0\n",
              "country             0\n",
              "gender              0\n",
              "age                 0\n",
              "tenure              0\n",
              "balance             0\n",
              "products_number     0\n",
              "credit_card         0\n",
              "active_member       0\n",
              "estimated_salary    0\n",
              "churn               0\n",
              "dtype: int64"
            ]
          },
          "metadata": {},
          "execution_count": 3
        }
      ]
    },
    {
      "cell_type": "markdown",
      "source": [
        "Yeayy ! Tidak ada Missing Values.\n"
      ],
      "metadata": {
        "id": "cIGvOmQw_ZiD"
      }
    },
    {
      "cell_type": "code",
      "source": [
        "# Get unique count for each variable\n",
        "df.nunique()"
      ],
      "metadata": {
        "colab": {
          "base_uri": "https://localhost:8080/"
        },
        "id": "18t5Bx9a_nOy",
        "outputId": "095f6142-c192-4dbf-8a6c-7e818171ba16"
      },
      "execution_count": 4,
      "outputs": [
        {
          "output_type": "execute_result",
          "data": {
            "text/plain": [
              "customer_id         10000\n",
              "credit_score          460\n",
              "country                 3\n",
              "gender                  2\n",
              "age                    70\n",
              "tenure                 11\n",
              "balance              6382\n",
              "products_number         4\n",
              "credit_card             2\n",
              "active_member           2\n",
              "estimated_salary     9999\n",
              "churn                   2\n",
              "dtype: int64"
            ]
          },
          "metadata": {},
          "execution_count": 4
        }
      ]
    },
    {
      "cell_type": "code",
      "source": [
        "#Drop the columns as explained above\n",
        "df = df.drop([\"customer_id\"], axis = 1)"
      ],
      "metadata": {
        "id": "9h4XU1aeCh8J"
      },
      "execution_count": 5,
      "outputs": []
    },
    {
      "cell_type": "markdown",
      "source": [
        "Variabel pertama customer_id jelas tidak memiliki pengaruh apa pun pada apakah pelanggan kemungkinan akan churn atau tidak, sehingga harus dihapus dari kumpulan data untuk menghindari munculnya gangguan yang tidak perlu pada model klasifikasi kami."
      ],
      "metadata": {
        "id": "xRyLIpt-C32p"
      }
    },
    {
      "cell_type": "code",
      "source": [
        "# Review the top rows of what is left of the data frame\n",
        "df.head()\n"
      ],
      "metadata": {
        "colab": {
          "base_uri": "https://localhost:8080/",
          "height": 206
        },
        "id": "4vq0TEO2CrVi",
        "outputId": "dd271962-162b-4cc3-dc04-900226df37b0"
      },
      "execution_count": 6,
      "outputs": [
        {
          "output_type": "execute_result",
          "data": {
            "text/plain": [
              "   credit_score country  gender  age  tenure   balance  products_number  \\\n",
              "0           619  France  Female   42       2      0.00                1   \n",
              "1           608   Spain  Female   41       1  83807.86                1   \n",
              "2           502  France  Female   42       8 159660.80                3   \n",
              "3           699  France  Female   39       1      0.00                2   \n",
              "4           850   Spain  Female   43       2 125510.82                1   \n",
              "\n",
              "   credit_card  active_member  estimated_salary  churn  \n",
              "0            1              1         101348.88      1  \n",
              "1            0              1         112542.58      0  \n",
              "2            1              0         113931.57      1  \n",
              "3            0              0          93826.63      0  \n",
              "4            1              1          79084.10      0  "
            ],
            "text/html": [
              "\n",
              "  <div id=\"df-73969d71-cad8-44d8-8d5e-c55c1719f980\">\n",
              "    <div class=\"colab-df-container\">\n",
              "      <div>\n",
              "<style scoped>\n",
              "    .dataframe tbody tr th:only-of-type {\n",
              "        vertical-align: middle;\n",
              "    }\n",
              "\n",
              "    .dataframe tbody tr th {\n",
              "        vertical-align: top;\n",
              "    }\n",
              "\n",
              "    .dataframe thead th {\n",
              "        text-align: right;\n",
              "    }\n",
              "</style>\n",
              "<table border=\"1\" class=\"dataframe\">\n",
              "  <thead>\n",
              "    <tr style=\"text-align: right;\">\n",
              "      <th></th>\n",
              "      <th>credit_score</th>\n",
              "      <th>country</th>\n",
              "      <th>gender</th>\n",
              "      <th>age</th>\n",
              "      <th>tenure</th>\n",
              "      <th>balance</th>\n",
              "      <th>products_number</th>\n",
              "      <th>credit_card</th>\n",
              "      <th>active_member</th>\n",
              "      <th>estimated_salary</th>\n",
              "      <th>churn</th>\n",
              "    </tr>\n",
              "  </thead>\n",
              "  <tbody>\n",
              "    <tr>\n",
              "      <th>0</th>\n",
              "      <td>619</td>\n",
              "      <td>France</td>\n",
              "      <td>Female</td>\n",
              "      <td>42</td>\n",
              "      <td>2</td>\n",
              "      <td>0.00</td>\n",
              "      <td>1</td>\n",
              "      <td>1</td>\n",
              "      <td>1</td>\n",
              "      <td>101348.88</td>\n",
              "      <td>1</td>\n",
              "    </tr>\n",
              "    <tr>\n",
              "      <th>1</th>\n",
              "      <td>608</td>\n",
              "      <td>Spain</td>\n",
              "      <td>Female</td>\n",
              "      <td>41</td>\n",
              "      <td>1</td>\n",
              "      <td>83807.86</td>\n",
              "      <td>1</td>\n",
              "      <td>0</td>\n",
              "      <td>1</td>\n",
              "      <td>112542.58</td>\n",
              "      <td>0</td>\n",
              "    </tr>\n",
              "    <tr>\n",
              "      <th>2</th>\n",
              "      <td>502</td>\n",
              "      <td>France</td>\n",
              "      <td>Female</td>\n",
              "      <td>42</td>\n",
              "      <td>8</td>\n",
              "      <td>159660.80</td>\n",
              "      <td>3</td>\n",
              "      <td>1</td>\n",
              "      <td>0</td>\n",
              "      <td>113931.57</td>\n",
              "      <td>1</td>\n",
              "    </tr>\n",
              "    <tr>\n",
              "      <th>3</th>\n",
              "      <td>699</td>\n",
              "      <td>France</td>\n",
              "      <td>Female</td>\n",
              "      <td>39</td>\n",
              "      <td>1</td>\n",
              "      <td>0.00</td>\n",
              "      <td>2</td>\n",
              "      <td>0</td>\n",
              "      <td>0</td>\n",
              "      <td>93826.63</td>\n",
              "      <td>0</td>\n",
              "    </tr>\n",
              "    <tr>\n",
              "      <th>4</th>\n",
              "      <td>850</td>\n",
              "      <td>Spain</td>\n",
              "      <td>Female</td>\n",
              "      <td>43</td>\n",
              "      <td>2</td>\n",
              "      <td>125510.82</td>\n",
              "      <td>1</td>\n",
              "      <td>1</td>\n",
              "      <td>1</td>\n",
              "      <td>79084.10</td>\n",
              "      <td>0</td>\n",
              "    </tr>\n",
              "  </tbody>\n",
              "</table>\n",
              "</div>\n",
              "      <button class=\"colab-df-convert\" onclick=\"convertToInteractive('df-73969d71-cad8-44d8-8d5e-c55c1719f980')\"\n",
              "              title=\"Convert this dataframe to an interactive table.\"\n",
              "              style=\"display:none;\">\n",
              "        \n",
              "  <svg xmlns=\"http://www.w3.org/2000/svg\" height=\"24px\"viewBox=\"0 0 24 24\"\n",
              "       width=\"24px\">\n",
              "    <path d=\"M0 0h24v24H0V0z\" fill=\"none\"/>\n",
              "    <path d=\"M18.56 5.44l.94 2.06.94-2.06 2.06-.94-2.06-.94-.94-2.06-.94 2.06-2.06.94zm-11 1L8.5 8.5l.94-2.06 2.06-.94-2.06-.94L8.5 2.5l-.94 2.06-2.06.94zm10 10l.94 2.06.94-2.06 2.06-.94-2.06-.94-.94-2.06-.94 2.06-2.06.94z\"/><path d=\"M17.41 7.96l-1.37-1.37c-.4-.4-.92-.59-1.43-.59-.52 0-1.04.2-1.43.59L10.3 9.45l-7.72 7.72c-.78.78-.78 2.05 0 2.83L4 21.41c.39.39.9.59 1.41.59.51 0 1.02-.2 1.41-.59l7.78-7.78 2.81-2.81c.8-.78.8-2.07 0-2.86zM5.41 20L4 18.59l7.72-7.72 1.47 1.35L5.41 20z\"/>\n",
              "  </svg>\n",
              "      </button>\n",
              "      \n",
              "  <style>\n",
              "    .colab-df-container {\n",
              "      display:flex;\n",
              "      flex-wrap:wrap;\n",
              "      gap: 12px;\n",
              "    }\n",
              "\n",
              "    .colab-df-convert {\n",
              "      background-color: #E8F0FE;\n",
              "      border: none;\n",
              "      border-radius: 50%;\n",
              "      cursor: pointer;\n",
              "      display: none;\n",
              "      fill: #1967D2;\n",
              "      height: 32px;\n",
              "      padding: 0 0 0 0;\n",
              "      width: 32px;\n",
              "    }\n",
              "\n",
              "    .colab-df-convert:hover {\n",
              "      background-color: #E2EBFA;\n",
              "      box-shadow: 0px 1px 2px rgba(60, 64, 67, 0.3), 0px 1px 3px 1px rgba(60, 64, 67, 0.15);\n",
              "      fill: #174EA6;\n",
              "    }\n",
              "\n",
              "    [theme=dark] .colab-df-convert {\n",
              "      background-color: #3B4455;\n",
              "      fill: #D2E3FC;\n",
              "    }\n",
              "\n",
              "    [theme=dark] .colab-df-convert:hover {\n",
              "      background-color: #434B5C;\n",
              "      box-shadow: 0px 1px 3px 1px rgba(0, 0, 0, 0.15);\n",
              "      filter: drop-shadow(0px 1px 2px rgba(0, 0, 0, 0.3));\n",
              "      fill: #FFFFFF;\n",
              "    }\n",
              "  </style>\n",
              "\n",
              "      <script>\n",
              "        const buttonEl =\n",
              "          document.querySelector('#df-73969d71-cad8-44d8-8d5e-c55c1719f980 button.colab-df-convert');\n",
              "        buttonEl.style.display =\n",
              "          google.colab.kernel.accessAllowed ? 'block' : 'none';\n",
              "\n",
              "        async function convertToInteractive(key) {\n",
              "          const element = document.querySelector('#df-73969d71-cad8-44d8-8d5e-c55c1719f980');\n",
              "          const dataTable =\n",
              "            await google.colab.kernel.invokeFunction('convertToInteractive',\n",
              "                                                     [key], {});\n",
              "          if (!dataTable) return;\n",
              "\n",
              "          const docLinkHtml = 'Like what you see? Visit the ' +\n",
              "            '<a target=\"_blank\" href=https://colab.research.google.com/notebooks/data_table.ipynb>data table notebook</a>'\n",
              "            + ' to learn more about interactive tables.';\n",
              "          element.innerHTML = '';\n",
              "          dataTable['output_type'] = 'display_data';\n",
              "          await google.colab.output.renderOutput(dataTable, element);\n",
              "          const docLink = document.createElement('div');\n",
              "          docLink.innerHTML = docLinkHtml;\n",
              "          element.appendChild(docLink);\n",
              "        }\n",
              "      </script>\n",
              "    </div>\n",
              "  </div>\n",
              "  "
            ]
          },
          "metadata": {},
          "execution_count": 6
        }
      ]
    },
    {
      "cell_type": "code",
      "source": [
        "# Check variable data types\n",
        "df.dtypes"
      ],
      "metadata": {
        "colab": {
          "base_uri": "https://localhost:8080/"
        },
        "id": "lLRZ6moARqhx",
        "outputId": "5c8df301-9093-4c17-fc02-542dd40b5464"
      },
      "execution_count": 7,
      "outputs": [
        {
          "output_type": "execute_result",
          "data": {
            "text/plain": [
              "credit_score          int64\n",
              "country              object\n",
              "gender               object\n",
              "age                   int64\n",
              "tenure                int64\n",
              "balance             float64\n",
              "products_number       int64\n",
              "credit_card           int64\n",
              "active_member         int64\n",
              "estimated_salary    float64\n",
              "churn                 int64\n",
              "dtype: object"
            ]
          },
          "metadata": {},
          "execution_count": 7
        }
      ]
    },
    {
      "cell_type": "markdown",
      "source": [
        "So we moslty have categorical variables and 5 continuous variables"
      ],
      "metadata": {
        "id": "LiMwGmI_UpiQ"
      }
    },
    {
      "cell_type": "markdown",
      "source": [
        "# 3. Exploratory Data Analysis dan Data Visualization\n",
        "\n",
        "Here our main interest is to get an understanding as to how the given attributes relate too the 'churn' status."
      ],
      "metadata": {
        "id": "zp6E27l4UsBo"
      }
    },
    {
      "cell_type": "code",
      "source": [
        "labels = 'churn', 'Retained'\n",
        "sizes = [df.churn[df['churn']==1].count(), df.churn[df['churn']==0].count()]\n",
        "explode = (0, 0.1)\n",
        "fig1, ax1 = plt.subplots(figsize=(10, 8))\n",
        "ax1.pie(sizes, explode=explode, labels=labels, autopct='%1.1f%%',\n",
        "        shadow=True, startangle=90)\n",
        "ax1.axis('equal')\n",
        "plt.title(\"Proportion of customer churned and retained\", size = 20)\n",
        "plt.show()"
      ],
      "metadata": {
        "colab": {
          "base_uri": "https://localhost:8080/",
          "height": 487
        },
        "id": "-fyY2kedVCHY",
        "outputId": "a91a6b68-7409-4ef6-cc7c-963638be7b1e"
      },
      "execution_count": 8,
      "outputs": [
        {
          "output_type": "display_data",
          "data": {
            "text/plain": [
              "<Figure size 720x576 with 1 Axes>"
            ],
            "image/png": "[encoded data removed]"
          },
          "metadata": {}
        }
      ]
    },
    {
      "cell_type": "markdown",
      "source": [
        "Jadi sekitar 20% dari pelanggan telah bergejolak. Jadi model dasarnya bisa memprediksi bahwa 20% pelanggan akan berhenti. Mengingat 20% adalah angka kecil, kami perlu memastikan bahwa model yang dipilih benar-benar memprediksi dengan sangat akurat 20% ini karena menarik bagi bank untuk mengidentifikasi dan mempertahankan kumpulan ini sebagai lawan memprediksi secara akurat pelanggan yang dipertahankan."
      ],
      "metadata": {
        "id": "LGG0NdLEbe8m"
      }
    },
    {
      "cell_type": "code",
      "source": [
        "# We first review the 'Status' relation with categorical variables\n",
        "fig, axarr = plt.subplots(2, 2, figsize=(20, 12))\n",
        "sns.countplot(x='country', hue = 'churn',data = df, ax=axarr[0][0])\n",
        "sns.countplot(x='gender', hue = 'churn',data = df, ax=axarr[0][1])\n",
        "sns.countplot(x='credit_card', hue = 'churn',data = df, ax=axarr[1][0])\n",
        "sns.countplot(x='active_member', hue = 'churn',data = df, ax=axarr[1][1])"
      ],
      "metadata": {
        "colab": {
          "base_uri": "https://localhost:8080/",
          "height": 732
        },
        "id": "cAOHMkt5biB2",
        "outputId": "ba0529f4-5744-460a-cb94-faa25ffe25a9"
      },
      "execution_count": 10,
      "outputs": [
        {
          "output_type": "execute_result",
          "data": {
            "text/plain": [
              "<matplotlib.axes._subplots.AxesSubplot at 0x7f7fd1b8f8e0>"
            ]
          },
          "metadata": {},
          "execution_count": 10
        },
        {
          "output_type": "display_data",
          "data": {
            "text/plain": [
              "<Figure size 1440x864 with 4 Axes>"
            ],
            "image/png": "[encoded data removed]"
          },
          "metadata": {
            "needs_background": "light"
          }
        }
      ]
    },
    {
      "cell_type": "code",
      "source": [
        "px.histogram(df,x='country', color = 'churn',barmode = 'group')"
      ],
      "metadata": {
        "colab": {
          "base_uri": "https://localhost:8080/",
          "height": 542
        },
        "id": "BTUXfv7spqn2",
        "outputId": "4fe7227d-56bb-41e2-959a-b6b41d18e463"
      },
      "execution_count": 9,
      "outputs": [
        {
          "output_type": "display_data",
          "data": {
            "text/html": [
              "<html>\n",
              "<head><meta charset=\"utf-8\" /></head>\n",
              "<body>\n",
              "    <div>            <script src=\"https://cdnjs.cloudflare.com/ajax/libs/mathjax/2.7.5/MathJax.js?config=TeX-AMS-MML_SVG\"></script><script type=\"text/javascript\">if (window.MathJax) {MathJax.Hub.Config({SVG: {font: \"STIX-Web\"}});}</script>                <script type=\"text/javascript\">window.PlotlyConfig = {MathJaxConfig: 'local'};</script>\n",
              "        <script src=\"https://cdn.plot.ly/plotly-2.8.3.min.js\"></script>                <div id=\"bcd1c06d-d334-43af-b783-a93b19dd5c65\" class=\"plotly-graph-div\" style=\"height:525px; width:100%;\"></div>            <script type=\"text/javascript\">                                    window.PLOTLYENV=window.PLOTLYENV || {};                                    if (document.getElementById(\"bcd1c06d-d334-43af-b783-a93b19dd5c65\")) {                    Plotly.newPlot(                        \"bcd1c06d-d334-43af-b783-a93b19dd5c65\",                        [{\"alignmentgroup\":\"True\",\"bingroup\":\"x\",\"hovertemplate\":\"churn=1<br>country=%{x}<br>count=%{y}<extra></extra>\",\"legendgroup\":\"1\",\"marker\":{\"color\":\"#636efa\",\"pattern\":{\"shape\":\"\"}},\"name\":\"1\",\"offsetgroup\":\"1\",\"orientation\":\"v\",\"showlegend\":true,\"x\":[\"France\",\"France\",\"Spain\",\"Germany\",\"Germany\",\"Spain\",\"Spain\",\"France\",\"France\",\"France\",\"Germany\",\"Germany\",\"Germany\",\"Germany\",\"Spain\",\"Germany\",\"France\",\"Spain\",\"France\",\"Spain\",\"Spain\",\"Spain\",\"Germany\",\"Germany\",\"Germany\",\"France\",\"France\",\"Germany\",\"Spain\",\"Spain\",\"Spain\",\"France\",\"France\",\"Spain\",\"Spain\",\"Germany\",\"Spain\",\"Germany\",\"Germany\",\"France\",\"France\",\"Spain\",\"France\",\"Spain\",\"France\",\"Germany\",\"France\",\"France\",\"France\",\"Germany\",\"Germany\",\"Germany\",\"Germany\",\"Germany\",\"France\",\"Germany\",\"France\",\"Germany\",\"Spain\",\"Germany\",\"France\",\"France\",\"Germany\",\"Spain\",\"Spain\",\"France\",\"France\",\"France\",\"France\",\"France\",\"Germany\",\"France\",\"Spain\",\"Germany\",\"Germany\",\"Spain\",\"Germany\",\"Germany\",\"Spain\",\"Spain\",\"Spain\",\"France\",\"Spain\",\"Germany\",\"Germany\",\"Germany\",\"Germany\",\"Germany\",\"Germany\",\"Germany\",\"Spain\",\"France\",\"Germany\",\"France\",\"Germany\",\"France\",\"Germany\",\"Spain\",\"France\",\"France\",\"France\",\"France\",\"France\",\"France\",\"France\",\"France\",\"France\",\"Germany\",\"France\",\"Germany\",\"Germany\",\"Spain\",\"France\",\"Germany\",\"Spain\",\"Germany\",\"France\",\"Spain\",\"France\",\"Spain\",\"Spain\",\"Germany\",\"France\",\"Spain\",\"Spain\",\"Germany\",\"Germany\",\"France\",\"France\",\"Spain\",\"Germany\",\"France\",\"Germany\",\"France\",\"Spain\",\"Germany\",\"France\",\"France\",\"Germany\",\"Germany\",\"Spain\",\"Germany\",\"France\",\"Spain\",\"Germany\",\"Germany\",\"Spain\",\"Spain\",\"Spain\",\"France\",\"Germany\",\"Germany\",\"France\",\"France\",\"Germany\",\"Germany\",\"Germany\",\"France\",\"Germany\",\"Germany\",\"Germany\",\"Spain\",\"Germany\",\"Spain\",\"Germany\",\"Germany\",\"Spain\",\"Spain\",\"Germany\",\"Spain\",\"Germany\",\"Germany\",\"France\",\"France\",\"France\",\"France\",\"Germany\",\"Germany\",\"France\",\"France\",\"France\",\"France\",\"Germany\",\"France\",\"Germany\",\"France\",\"France\",\"France\",\"France\",\"Spain\",\"France\",\"Spain\",\"France\",\"France\",\"Spain\",\"France\",\"France\",\"Spain\",\"Spain\",\"Germany\",\"France\",\"Germany\",\"Spain\",\"France\",\"France\",\"Germany\",\"France\",\"France\",\"France\",\"Germany\",\"France\",\"Spain\",\"Spain\",\"France\",\"Germany\",\"France\",\"Germany\",\"France\",\"France\",\"France\",\"France\",\"Germany\",\"Spain\",\"France\",\"France\",\"France\",\"France\",\"Germany\",\"Germany\",\"France\",\"Germany\",\"Germany\",\"France\",\"France\",\"Germany\",\"Germany\",\"Spain\",\"France\",\"France\",\"Germany\",\"Germany\",\"Germany\",\"France\",\"France\",\"Germany\",\"Spain\",\"France\",\"France\",\"France\",\"France\",\"Spain\",\"Spain\",\"Germany\",\"France\",\"Spain\",\"Spain\",\"Spain\",\"France\",\"Germany\",\"Germany\",\"France\",\"Germany\",\"France\",\"Germany\",\"France\",\"France\",\"Germany\",\"Spain\",\"Germany\",\"Germany\",\"Germany\",\"Spain\",\"France\",\"France\",\"France\",\"France\",\"Spain\",\"Germany\",\"France\",\"Spain\",\"Spain\",\"France\",\"Germany\",\"France\",\"Germany\",\"Spain\",\"France\",\"Germany\",\"Germany\",\"Germany\",\"France\",\"France\",\"Spain\",\"France\",\"France\",\"Germany\",\"Spain\",\"Germany\",\"France\",\"Spain\",\"France\",\"France\",\"Spain\",\"Germany\",\"Germany\",\"Germany\",\"France\",\"Spain\",\"Germany\",\"Spain\",\"France\",\"Spain\",\"France\",\"Germany\",\"France\",\"Germany\",\"France\",\"France\",\"Spain\",\"Spain\",\"Germany\",\"Spain\",\"France\",\"France\",\"Germany\",\"France\",\"Germany\",\"Germany\",\"France\",\"France\",\"Germany\",\"Germany\",\"France\",\"Germany\",\"Spain\",\"France\",\"France\",\"Germany\",\"France\",\"Germany\",\"France\",\"Spain\",\"France\",\"Germany\",\"Germany\",\"Spain\",\"Germany\",\"Spain\",\"France\",\"Germany\",\"Germany\",\"France\",\"Spain\",\"Germany\",\"Spain\",\"Germany\",\"Spain\",\"France\",\"Spain\",\"Germany\",\"Spain\",\"Germany\",\"France\",\"Spain\",\"Germany\",\"France\",\"France\",\"Spain\",\"France\",\"Spain\",\"France\",\"Germany\",\"France\",\"France\",\"Germany\",\"Germany\",\"Spain\",\"Germany\",\"Germany\",\"France\",\"Germany\",\"France\",\"Spain\",\"Germany\",\"France\",\"Spain\",\"France\",\"Germany\",\"Spain\",\"Germany\",\"Germany\",\"Germany\",\"Germany\",\"France\",\"France\",\"France\",\"France\",\"Germany\",\"France\",\"Germany\",\"France\",\"France\",\"France\",\"Germany\",\"France\",\"France\",\"Spain\",\"France\",\"France\",\"Spain\",\"Spain\",\"France\",\"Spain\",\"Germany\",\"France\",\"France\",\"Germany\",\"Germany\",\"Germany\",\"Spain\",\"France\",\"Germany\",\"Spain\",\"France\",\"France\",\"France\",\"France\",\"Spain\",\"Germany\",\"Spain\",\"France\",\"Germany\",\"France\",\"France\",\"France\",\"France\",\"France\",\"Spain\",\"France\",\"Germany\",\"Germany\",\"Germany\",\"France\",\"Germany\",\"France\",\"Spain\",\"Germany\",\"France\",\"France\",\"Spain\",\"France\",\"France\",\"France\",\"Germany\",\"Germany\",\"Germany\",\"Germany\",\"Germany\",\"Spain\",\"Spain\",\"Germany\",\"France\",\"Germany\",\"Germany\",\"France\",\"Spain\",\"Germany\",\"France\",\"France\",\"Germany\",\"Spain\",\"France\",\"France\",\"Germany\",\"France\",\"France\",\"Germany\",\"France\",\"France\",\"Germany\",\"France\",\"Spain\",\"France\",\"Germany\",\"Germany\",\"France\",\"Germany\",\"Germany\",\"France\",\"Germany\",\"Germany\",\"Germany\",\"Germany\",\"Germany\",\"Germany\",\"France\",\"Spain\",\"Spain\",\"Germany\",\"Germany\",\"Spain\",\"Germany\",\"Spain\",\"Germany\",\"Germany\",\"France\",\"Germany\",\"Germany\",\"France\",\"France\",\"Germany\",\"Germany\",\"France\",\"Germany\",\"France\",\"Germany\",\"France\",\"Germany\",\"Germany\",\"France\",\"France\",\"Germany\",\"France\",\"Germany\",\"Germany\",\"France\",\"France\",\"Germany\",\"Germany\",\"France\",\"France\",\"France\",\"France\",\"Germany\",\"Spain\",\"France\",\"Germany\",\"France\",\"Germany\",\"Germany\",\"France\",\"Germany\",\"France\",\"France\",\"France\",\"Spain\",\"Spain\",\"France\",\"Germany\",\"Germany\",\"Germany\",\"Germany\",\"Germany\",\"Germany\",\"France\",\"Germany\",\"Germany\",\"Spain\",\"Germany\",\"Spain\",\"Spain\",\"Germany\",\"France\",\"France\",\"Germany\",\"France\",\"France\",\"France\",\"Germany\",\"France\",\"France\",\"Germany\",\"France\",\"Germany\",\"France\",\"Germany\",\"Germany\",\"Spain\",\"Germany\",\"Germany\",\"Spain\",\"France\",\"Germany\",\"France\",\"Spain\",\"France\",\"Germany\",\"Spain\",\"Germany\",\"Germany\",\"France\",\"Germany\",\"France\",\"Spain\",\"France\",\"France\",\"France\",\"Spain\",\"France\",\"Spain\",\"Germany\",\"Spain\",\"France\",\"France\",\"Germany\",\"Spain\",\"Spain\",\"Germany\",\"Germany\",\"France\",\"Spain\",\"Germany\",\"Germany\",\"France\",\"France\",\"Germany\",\"Germany\",\"France\",\"France\",\"France\",\"Germany\",\"Germany\",\"France\",\"France\",\"France\",\"Germany\",\"France\",\"France\",\"Spain\",\"Germany\",\"France\",\"Spain\",\"France\",\"France\",\"France\",\"Spain\",\"Germany\",\"Germany\",\"France\",\"France\",\"Germany\",\"France\",\"France\",\"France\",\"Spain\",\"Germany\",\"France\",\"Spain\",\"Germany\",\"Germany\",\"France\",\"France\",\"Germany\",\"France\",\"Germany\",\"Spain\",\"France\",\"France\",\"Germany\",\"Germany\",\"France\",\"France\",\"France\",\"Germany\",\"Germany\",\"Germany\",\"France\",\"France\",\"Germany\",\"France\",\"France\",\"France\",\"Germany\",\"Germany\",\"France\",\"France\",\"Germany\",\"France\",\"Germany\",\"France\",\"Germany\",\"France\",\"France\",\"France\",\"France\",\"Germany\",\"France\",\"France\",\"Germany\",\"Germany\",\"Spain\",\"Germany\",\"France\",\"France\",\"France\",\"Spain\",\"France\",\"France\",\"Germany\",\"Germany\",\"Germany\",\"France\",\"Spain\",\"France\",\"France\",\"Germany\",\"France\",\"Spain\",\"Spain\",\"Germany\",\"Germany\",\"Spain\",\"Germany\",\"Spain\",\"Germany\",\"France\",\"France\",\"Germany\",\"Germany\",\"France\",\"Spain\",\"France\",\"Germany\",\"Spain\",\"Germany\",\"France\",\"Spain\",\"Germany\",\"France\",\"France\",\"Spain\",\"Germany\",\"France\",\"Spain\",\"Germany\",\"France\",\"France\",\"France\",\"Germany\",\"Spain\",\"France\",\"Spain\",\"France\",\"Germany\",\"France\",\"Germany\",\"France\",\"Spain\",\"France\",\"Spain\",\"France\",\"France\",\"France\",\"France\",\"Germany\",\"France\",\"France\",\"France\",\"Germany\",\"Spain\",\"Spain\",\"France\",\"France\",\"France\",\"France\",\"France\",\"France\",\"Germany\",\"Germany\",\"Germany\",\"Spain\",\"Germany\",\"France\",\"France\",\"France\",\"France\",\"France\",\"France\",\"France\",\"Germany\",\"France\",\"France\",\"France\",\"France\",\"Germany\",\"France\",\"Germany\",\"Germany\",\"France\",\"Germany\",\"Germany\",\"France\",\"Germany\",\"France\",\"Germany\",\"Germany\",\"Germany\",\"Germany\",\"France\",\"Germany\",\"France\",\"Germany\",\"Germany\",\"Spain\",\"Germany\",\"Germany\",\"Spain\",\"Germany\",\"France\",\"Germany\",\"Germany\",\"Germany\",\"Germany\",\"Spain\",\"Germany\",\"Germany\",\"Germany\",\"France\",\"Spain\",\"France\",\"Spain\",\"France\",\"Germany\",\"Germany\",\"Spain\",\"France\",\"Germany\",\"France\",\"France\",\"Germany\",\"Germany\",\"Germany\",\"Germany\",\"France\",\"France\",\"Germany\",\"Germany\",\"France\",\"Spain\",\"France\",\"France\",\"France\",\"France\",\"Germany\",\"Germany\",\"France\",\"Germany\",\"France\",\"Germany\",\"Germany\",\"France\",\"Germany\",\"Germany\",\"Germany\",\"France\",\"France\",\"Spain\",\"France\",\"France\",\"Germany\",\"France\",\"Germany\",\"Germany\",\"Spain\",\"France\",\"France\",\"Germany\",\"France\",\"Spain\",\"France\",\"France\",\"France\",\"France\",\"Germany\",\"Spain\",\"Spain\",\"Germany\",\"Germany\",\"Germany\",\"Spain\",\"France\",\"Spain\",\"France\",\"France\",\"Spain\",\"France\",\"Germany\",\"Germany\",\"Spain\",\"France\",\"Germany\",\"Spain\",\"Germany\",\"France\",\"France\",\"Germany\",\"France\",\"France\",\"Germany\",\"Germany\",\"Germany\",\"Spain\",\"Germany\",\"Spain\",\"Germany\",\"Spain\",\"France\",\"France\",\"Spain\",\"France\",\"Spain\",\"Spain\",\"Germany\",\"Spain\",\"Germany\",\"Spain\",\"Germany\",\"Germany\",\"Spain\",\"Germany\",\"Spain\",\"Germany\",\"Spain\",\"France\",\"Spain\",\"France\",\"Germany\",\"France\",\"France\",\"Germany\",\"Germany\",\"Germany\",\"Germany\",\"Spain\",\"France\",\"Germany\",\"France\",\"Germany\",\"Spain\",\"France\",\"Spain\",\"Germany\",\"Spain\",\"Germany\",\"Spain\",\"Germany\",\"Spain\",\"Spain\",\"France\",\"France\",\"Germany\",\"Germany\",\"France\",\"Spain\",\"Germany\",\"Germany\",\"Germany\",\"France\",\"France\",\"Spain\",\"Spain\",\"Germany\",\"Germany\",\"France\",\"France\",\"Germany\",\"Germany\",\"France\",\"France\",\"Germany\",\"France\",\"France\",\"France\",\"Germany\",\"Spain\",\"France\",\"France\",\"Spain\",\"France\",\"Germany\",\"Germany\",\"Germany\",\"Germany\",\"Germany\",\"Spain\",\"Spain\",\"Germany\",\"Spain\",\"France\",\"Germany\",\"France\",\"Spain\",\"Germany\",\"France\",\"France\",\"France\",\"France\",\"Germany\",\"Germany\",\"Germany\",\"France\",\"France\",\"Spain\",\"Germany\",\"Spain\",\"Spain\",\"France\",\"France\",\"France\",\"Spain\",\"Spain\",\"France\",\"Germany\",\"Spain\",\"France\",\"Spain\",\"France\",\"France\",\"Germany\",\"Spain\",\"Germany\",\"Germany\",\"Germany\",\"France\",\"France\",\"France\",\"Spain\",\"France\",\"France\",\"France\",\"Spain\",\"France\",\"France\",\"Germany\",\"France\",\"Spain\",\"France\",\"France\",\"Germany\",\"Spain\",\"Germany\",\"Spain\",\"France\",\"France\",\"Germany\",\"Spain\",\"France\",\"Germany\",\"Spain\",\"Germany\",\"Spain\",\"France\",\"France\",\"Germany\",\"Germany\",\"Germany\",\"France\",\"France\",\"Germany\",\"France\",\"Germany\",\"Germany\",\"Spain\",\"Germany\",\"Spain\",\"France\",\"France\",\"Germany\",\"Germany\",\"Germany\",\"Germany\",\"France\",\"Germany\",\"Spain\",\"Spain\",\"France\",\"France\",\"Spain\",\"Spain\",\"France\",\"Spain\",\"France\",\"Germany\",\"France\",\"Germany\",\"Germany\",\"Germany\",\"France\",\"Germany\",\"France\",\"France\",\"Germany\",\"France\",\"France\",\"Germany\",\"Germany\",\"France\",\"France\",\"Spain\",\"Spain\",\"Germany\",\"Germany\",\"France\",\"Germany\",\"Germany\",\"Spain\",\"Germany\",\"Spain\",\"Germany\",\"France\",\"France\",\"Germany\",\"Germany\",\"France\",\"Spain\",\"Germany\",\"France\",\"Spain\",\"Germany\",\"Germany\",\"Spain\",\"Germany\",\"France\",\"Spain\",\"Germany\",\"Germany\",\"Spain\",\"France\",\"Spain\",\"France\",\"France\",\"Germany\",\"France\",\"Germany\",\"France\",\"Spain\",\"Germany\",\"France\",\"Spain\",\"Germany\",\"Germany\",\"Germany\",\"Germany\",\"France\",\"Germany\",\"Germany\",\"Spain\",\"Germany\",\"Germany\",\"Germany\",\"Spain\",\"Spain\",\"Germany\",\"France\",\"France\",\"Germany\",\"France\",\"France\",\"France\",\"Germany\",\"Germany\",\"Spain\",\"Germany\",\"Spain\",\"Germany\",\"Germany\",\"Spain\",\"Spain\",\"Germany\",\"Germany\",\"France\",\"France\",\"Germany\",\"Spain\",\"Spain\",\"Germany\",\"Spain\",\"Spain\",\"France\",\"Spain\",\"Spain\",\"France\",\"Germany\",\"France\",\"Spain\",\"Spain\",\"France\",\"Germany\",\"Germany\",\"Germany\",\"Germany\",\"Germany\",\"France\",\"France\",\"France\",\"Germany\",\"Germany\",\"Germany\",\"Spain\",\"France\",\"Germany\",\"Germany\",\"France\",\"Spain\",\"Germany\",\"France\",\"Germany\",\"Germany\",\"Spain\",\"Spain\",\"France\",\"Germany\",\"France\",\"Spain\",\"France\",\"France\",\"Germany\",\"France\",\"France\",\"France\",\"France\",\"France\",\"France\",\"France\",\"Germany\",\"France\",\"France\",\"Germany\",\"Spain\",\"France\",\"France\",\"France\",\"France\",\"Germany\",\"Germany\",\"France\",\"Spain\",\"France\",\"Germany\",\"Germany\",\"Germany\",\"Spain\",\"France\",\"France\",\"Germany\",\"Germany\",\"France\",\"Spain\",\"France\",\"France\",\"France\",\"Germany\",\"Spain\",\"Spain\",\"France\",\"Spain\",\"France\",\"France\",\"Germany\",\"Spain\",\"Germany\",\"Germany\",\"Spain\",\"France\",\"Germany\",\"Germany\",\"France\",\"Germany\",\"Germany\",\"Spain\",\"Germany\",\"Germany\",\"France\",\"France\",\"France\",\"France\",\"France\",\"Germany\",\"Germany\",\"Spain\",\"Germany\",\"Germany\",\"Spain\",\"France\",\"Germany\",\"Germany\",\"France\",\"France\",\"France\",\"Germany\",\"Germany\",\"Germany\",\"France\",\"Germany\",\"Germany\",\"France\",\"France\",\"Germany\",\"France\",\"France\",\"Spain\",\"Germany\",\"Germany\",\"Spain\",\"France\",\"Spain\",\"Spain\",\"France\",\"Germany\",\"Germany\",\"France\",\"Spain\",\"Germany\",\"Spain\",\"Germany\",\"Spain\",\"Germany\",\"Spain\",\"Germany\",\"Spain\",\"Spain\",\"Spain\",\"France\",\"France\",\"France\",\"Germany\",\"Spain\",\"Germany\",\"Germany\",\"Germany\",\"Spain\",\"Germany\",\"Germany\",\"France\",\"Germany\",\"Spain\",\"France\",\"Germany\",\"Germany\",\"Germany\",\"France\",\"Germany\",\"Germany\",\"Spain\",\"Germany\",\"Germany\",\"France\",\"Germany\",\"Spain\",\"Germany\",\"Spain\",\"France\",\"Spain\",\"Germany\",\"Germany\",\"France\",\"France\",\"Germany\",\"Germany\",\"Germany\",\"Germany\",\"France\",\"Germany\",\"Spain\",\"Germany\",\"France\",\"Germany\",\"Germany\",\"France\",\"France\",\"France\",\"France\",\"Germany\",\"France\",\"France\",\"Spain\",\"France\",\"France\",\"France\",\"Germany\",\"Germany\",\"Germany\",\"Germany\",\"Germany\",\"France\",\"Spain\",\"France\",\"Spain\",\"France\",\"Germany\",\"France\",\"France\",\"France\",\"Germany\",\"France\",\"France\",\"France\",\"Germany\",\"France\",\"France\",\"France\",\"France\",\"Germany\",\"France\",\"Spain\",\"France\",\"Germany\",\"France\",\"France\",\"France\",\"Spain\",\"France\",\"Germany\",\"France\",\"France\",\"Germany\",\"Germany\",\"Germany\",\"Spain\",\"Germany\",\"France\",\"France\",\"France\",\"Germany\",\"France\",\"Germany\",\"France\",\"France\",\"Germany\",\"France\",\"France\",\"France\",\"Germany\",\"Spain\",\"France\",\"France\",\"France\",\"Germany\",\"France\",\"Germany\",\"France\",\"Spain\",\"France\",\"Germany\",\"Germany\",\"Spain\",\"Germany\",\"France\",\"Spain\",\"France\",\"Spain\",\"Germany\",\"Germany\",\"France\",\"Germany\",\"France\",\"Germany\",\"Germany\",\"Germany\",\"France\",\"Germany\",\"Germany\",\"Germany\",\"Spain\",\"Germany\",\"Germany\",\"Germany\",\"Spain\",\"Spain\",\"France\",\"Germany\",\"Spain\",\"Germany\",\"France\",\"Germany\",\"Germany\",\"France\",\"Germany\",\"France\",\"Germany\",\"France\",\"France\",\"Germany\",\"France\",\"France\",\"Germany\",\"Spain\",\"France\",\"Spain\",\"Germany\",\"Spain\",\"Germany\",\"Spain\",\"Spain\",\"France\",\"France\",\"Germany\",\"Spain\",\"Germany\",\"France\",\"Spain\",\"Spain\",\"Spain\",\"France\",\"France\",\"Germany\",\"Germany\",\"France\",\"France\",\"Spain\",\"Germany\",\"France\",\"Germany\",\"Spain\",\"Spain\",\"France\",\"France\",\"France\",\"Spain\",\"Germany\",\"Germany\",\"Spain\",\"Germany\",\"Spain\",\"Germany\",\"Germany\",\"Germany\",\"Spain\",\"Germany\",\"Germany\",\"France\",\"Germany\",\"Spain\",\"Germany\",\"France\",\"Spain\",\"Germany\",\"Germany\",\"Germany\",\"Germany\",\"France\",\"France\",\"France\",\"France\",\"France\",\"Germany\",\"Spain\",\"Spain\",\"Germany\",\"Germany\",\"France\",\"France\",\"France\",\"Germany\",\"France\",\"Germany\",\"Spain\",\"Spain\",\"Spain\",\"Germany\",\"France\",\"Spain\",\"France\",\"France\",\"France\",\"France\",\"France\",\"Germany\",\"France\",\"France\",\"Spain\",\"France\",\"Germany\",\"Germany\",\"Germany\",\"Spain\",\"Spain\",\"Germany\",\"Germany\",\"France\",\"France\",\"France\",\"France\",\"Germany\",\"Germany\",\"Germany\",\"France\",\"France\",\"France\",\"Germany\",\"France\",\"France\",\"France\",\"France\",\"Germany\",\"Germany\",\"Germany\",\"France\",\"Spain\",\"Germany\",\"France\",\"Spain\",\"Germany\",\"Germany\",\"Germany\",\"Germany\",\"Germany\",\"Germany\",\"France\",\"Germany\",\"France\",\"Germany\",\"Spain\",\"Germany\",\"Germany\",\"Germany\",\"Germany\",\"Spain\",\"France\",\"Spain\",\"Germany\",\"Germany\",\"Germany\",\"France\",\"Spain\",\"France\",\"Spain\",\"France\",\"Germany\",\"France\",\"Germany\",\"Spain\",\"France\",\"Spain\",\"Spain\",\"Germany\",\"France\",\"France\",\"France\",\"France\",\"France\",\"Germany\",\"France\",\"Germany\",\"Germany\",\"Germany\",\"Germany\",\"Spain\",\"France\",\"Germany\",\"Germany\",\"France\",\"Spain\",\"Spain\",\"Spain\",\"France\",\"France\",\"France\",\"Germany\",\"Germany\",\"Germany\",\"Spain\",\"Germany\",\"Germany\",\"France\",\"Germany\",\"France\",\"France\",\"Germany\",\"Germany\",\"France\",\"France\",\"Germany\",\"Germany\",\"Spain\",\"Germany\",\"Spain\",\"France\",\"France\",\"Germany\",\"Germany\",\"Germany\",\"France\",\"Germany\",\"Spain\",\"Spain\",\"Germany\",\"Germany\",\"Spain\",\"France\",\"France\",\"Spain\",\"Spain\",\"France\",\"France\",\"France\",\"Germany\",\"Spain\",\"Germany\",\"Germany\",\"Germany\",\"France\",\"France\",\"Germany\",\"France\",\"Germany\",\"Germany\",\"Germany\",\"France\",\"France\",\"Germany\",\"France\",\"Germany\",\"Germany\",\"Germany\",\"Spain\",\"Germany\",\"Germany\",\"Germany\",\"Spain\",\"Spain\",\"Spain\",\"Germany\",\"Spain\",\"Germany\",\"Germany\",\"Germany\",\"Spain\",\"France\",\"Germany\",\"Spain\",\"France\",\"France\",\"Germany\",\"Germany\",\"France\",\"Germany\",\"Germany\",\"Spain\",\"Germany\",\"France\",\"Spain\",\"Spain\",\"France\",\"France\",\"France\",\"Germany\",\"France\",\"Germany\",\"France\",\"Spain\",\"France\",\"Germany\",\"Spain\",\"France\",\"France\",\"Germany\",\"Germany\",\"France\",\"Germany\",\"Germany\",\"France\",\"Germany\",\"France\",\"France\",\"France\",\"France\",\"Germany\",\"Spain\",\"France\",\"Spain\",\"Germany\",\"Germany\",\"France\",\"France\",\"France\",\"France\",\"France\",\"Germany\",\"France\",\"France\",\"Germany\",\"Germany\",\"France\",\"France\",\"France\",\"Germany\",\"Germany\",\"France\",\"Germany\",\"Spain\",\"France\",\"Germany\",\"Germany\",\"France\",\"France\",\"Germany\",\"France\",\"France\",\"Germany\",\"France\",\"Spain\",\"France\",\"France\",\"France\",\"Germany\",\"Spain\",\"Germany\",\"Germany\",\"Germany\",\"Spain\",\"Germany\",\"Spain\",\"France\",\"France\",\"Germany\",\"Germany\",\"France\",\"Germany\",\"Spain\",\"Spain\",\"France\",\"France\",\"France\",\"Germany\",\"Germany\",\"Germany\",\"France\",\"France\",\"Spain\",\"France\",\"Germany\",\"Spain\",\"France\",\"Spain\",\"Germany\",\"France\",\"Germany\",\"Germany\",\"Germany\",\"France\",\"Spain\",\"Germany\",\"France\",\"France\",\"Germany\",\"France\",\"Spain\",\"France\",\"France\",\"France\",\"Germany\",\"Spain\",\"France\",\"Spain\",\"Germany\",\"France\",\"Germany\",\"France\",\"Germany\",\"France\",\"Spain\",\"Germany\",\"Germany\",\"Germany\",\"Spain\",\"Germany\",\"Germany\",\"France\",\"Germany\",\"France\",\"Spain\",\"Spain\",\"Germany\",\"France\",\"Germany\",\"Spain\",\"Germany\",\"France\",\"Spain\",\"Germany\",\"Spain\",\"Spain\",\"Spain\",\"Spain\",\"Germany\",\"Spain\",\"Spain\",\"France\",\"Germany\",\"Spain\",\"Germany\",\"Germany\",\"Spain\",\"Germany\",\"France\",\"Spain\",\"Germany\",\"France\",\"Spain\",\"France\",\"Germany\",\"Germany\",\"France\",\"Germany\",\"France\",\"Germany\",\"Germany\",\"Germany\",\"France\",\"France\",\"Germany\",\"France\",\"Germany\",\"Germany\",\"Germany\",\"France\",\"Spain\",\"France\",\"Germany\",\"Germany\",\"Germany\",\"France\",\"France\",\"Germany\",\"France\",\"France\",\"Germany\",\"France\",\"France\",\"Germany\",\"Germany\",\"France\",\"Germany\",\"Spain\",\"Spain\",\"Germany\",\"Spain\",\"Germany\",\"Spain\",\"France\",\"Spain\",\"France\",\"Spain\",\"France\",\"Germany\",\"France\",\"France\",\"Germany\",\"Germany\",\"France\",\"France\",\"France\",\"Germany\",\"Germany\",\"France\",\"Germany\",\"France\",\"Germany\",\"Germany\",\"Spain\",\"France\",\"France\",\"France\",\"Spain\",\"Spain\",\"Germany\",\"Germany\",\"Germany\",\"Germany\",\"France\",\"Spain\",\"France\",\"Germany\",\"France\",\"Germany\",\"Germany\",\"Spain\",\"France\",\"Germany\",\"France\",\"Germany\",\"Germany\",\"Germany\",\"Spain\",\"Germany\",\"France\",\"France\",\"Germany\",\"France\",\"France\",\"Germany\",\"Germany\",\"Germany\",\"France\",\"Spain\",\"Germany\",\"France\",\"France\",\"France\",\"Germany\",\"France\",\"Spain\",\"France\",\"Germany\",\"Germany\",\"Germany\",\"Germany\",\"France\",\"Germany\",\"Spain\",\"Germany\",\"Germany\",\"Germany\",\"Germany\",\"Germany\",\"Germany\",\"France\",\"France\",\"Germany\",\"France\",\"Germany\",\"France\",\"Germany\",\"France\",\"Germany\",\"Germany\",\"France\",\"France\",\"Germany\",\"Spain\",\"Germany\",\"Germany\",\"Germany\",\"France\",\"France\",\"Germany\"],\"xaxis\":\"x\",\"yaxis\":\"y\",\"type\":\"histogram\"},{\"alignmentgroup\":\"True\",\"bingroup\":\"x\",\"hovertemplate\":\"churn=0<br>country=%{x}<br>count=%{y}<extra></extra>\",\"legendgroup\":\"0\",\"marker\":{\"color\":\"#EF553B\",\"pattern\":{\"shape\":\"\"}},\"name\":\"0\",\"offsetgroup\":\"0\",\"orientation\":\"v\",\"showlegend\":true,\"x\":[\"Spain\",\"France\",\"Spain\",\"France\",\"France\",\"France\",\"France\",\"Spain\",\"France\",\"France\",\"Spain\",\"Germany\",\"Spain\",\"Spain\",\"France\",\"France\",\"Spain\",\"France\",\"France\",\"France\",\"Germany\",\"France\",\"Germany\",\"France\",\"France\",\"Germany\",\"Spain\",\"Spain\",\"Spain\",\"Spain\",\"France\",\"Germany\",\"Spain\",\"France\",\"Spain\",\"Germany\",\"Germany\",\"Germany\",\"Germany\",\"Germany\",\"France\",\"France\",\"France\",\"Germany\",\"France\",\"Germany\",\"Germany\",\"Spain\",\"Spain\",\"Germany\",\"Germany\",\"Germany\",\"Germany\",\"Germany\",\"France\",\"France\",\"Spain\",\"Germany\",\"France\",\"France\",\"France\",\"France\",\"Spain\",\"Germany\",\"France\",\"France\",\"France\",\"France\",\"Spain\",\"France\",\"Germany\",\"France\",\"France\",\"France\",\"Spain\",\"Spain\",\"Spain\",\"Germany\",\"Spain\",\"France\",\"France\",\"France\",\"France\",\"Spain\",\"Germany\",\"Germany\",\"Spain\",\"Germany\",\"Germany\",\"France\",\"Spain\",\"Germany\",\"Germany\",\"France\",\"Germany\",\"France\",\"Spain\",\"France\",\"Germany\",\"France\",\"France\",\"France\",\"France\",\"Germany\",\"France\",\"France\",\"Germany\",\"Germany\",\"Germany\",\"France\",\"Germany\",\"France\",\"France\",\"Spain\",\"Spain\",\"France\",\"France\",\"France\",\"Spain\",\"Spain\",\"France\",\"France\",\"France\",\"Spain\",\"France\",\"Germany\",\"Spain\",\"France\",\"France\",\"Spain\",\"Germany\",\"Spain\",\"Germany\",\"France\",\"Germany\",\"France\",\"France\",\"Spain\",\"France\",\"Germany\",\"Spain\",\"Spain\",\"France\",\"Germany\",\"France\",\"France\",\"France\",\"Spain\",\"Spain\",\"Germany\",\"France\",\"France\",\"France\",\"Spain\",\"France\",\"Spain\",\"Germany\",\"France\",\"France\",\"Spain\",\"France\",\"Spain\",\"France\",\"France\",\"France\",\"Germany\",\"France\",\"France\",\"France\",\"Germany\",\"France\",\"Spain\",\"France\",\"Spain\",\"France\",\"France\",\"France\",\"Germany\",\"France\",\"France\",\"France\",\"Germany\",\"France\",\"France\",\"France\",\"Spain\",\"Germany\",\"France\",\"Spain\",\"Germany\",\"France\",\"Germany\",\"Germany\",\"Spain\",\"France\",\"Germany\",\"Spain\",\"Spain\",\"France\",\"Germany\",\"France\",\"Germany\",\"Germany\",\"Spain\",\"France\",\"France\",\"Spain\",\"Spain\",\"France\",\"France\",\"Germany\",\"Spain\",\"Germany\",\"France\",\"Germany\",\"Spain\",\"France\",\"France\",\"France\",\"Spain\",\"France\",\"France\",\"France\",\"Spain\",\"France\",\"Spain\",\"Spain\",\"Germany\",\"Spain\",\"France\",\"France\",\"France\",\"France\",\"France\",\"France\",\"France\",\"Spain\",\"France\",\"France\",\"France\",\"France\",\"Germany\",\"Germany\",\"France\",\"Germany\",\"France\",\"Germany\",\"Spain\",\"Spain\",\"Spain\",\"Spain\",\"France\",\"Spain\",\"France\",\"France\",\"France\",\"France\",\"France\",\"Germany\",\"Germany\",\"France\",\"Spain\",\"Germany\",\"Spain\",\"Germany\",\"France\",\"France\",\"Spain\",\"France\",\"France\",\"France\",\"Germany\",\"Germany\",\"Germany\",\"France\",\"Spain\",\"Spain\",\"Spain\",\"Spain\",\"France\",\"France\",\"Spain\",\"France\",\"France\",\"Spain\",\"France\",\"Germany\",\"France\",\"Spain\",\"Germany\",\"Germany\",\"Germany\",\"France\",\"Spain\",\"Germany\",\"Germany\",\"Germany\",\"Germany\",\"France\",\"Spain\",\"Spain\",\"France\",\"France\",\"Germany\",\"Germany\",\"Germany\",\"France\",\"Spain\",\"Spain\",\"Spain\",\"France\",\"Germany\",\"Germany\",\"Spain\",\"Germany\",\"France\",\"Germany\",\"France\",\"France\",\"Germany\",\"Spain\",\"Spain\",\"France\",\"France\",\"Spain\",\"Germany\",\"Germany\",\"Spain\",\"France\",\"Spain\",\"Spain\",\"Spain\",\"France\",\"France\",\"France\",\"France\",\"France\",\"France\",\"France\",\"Germany\",\"France\",\"Germany\",\"Germany\",\"Germany\",\"France\",\"France\",\"Germany\",\"France\",\"France\",\"Germany\",\"France\",\"France\",\"France\",\"France\",\"France\",\"France\",\"France\",\"Spain\",\"Germany\",\"France\",\"Spain\",\"Spain\",\"France\",\"France\",\"France\",\"France\",\"Spain\",\"Germany\",\"France\",\"Spain\",\"Spain\",\"France\",\"Spain\",\"France\",\"France\",\"Spain\",\"France\",\"France\",\"France\",\"Germany\",\"France\",\"France\",\"France\",\"Spain\",\"France\",\"France\",\"Germany\",\"France\",\"France\",\"France\",\"Germany\",\"Spain\",\"France\",\"France\",\"Germany\",\"France\",\"France\",\"Germany\",\"Spain\",\"France\",\"Spain\",\"Spain\",\"France\",\"Germany\",\"Germany\",\"France\",\"Spain\",\"Germany\",\"Germany\",\"Spain\",\"France\",\"Spain\",\"Germany\",\"France\",\"France\",\"Spain\",\"Germany\",\"France\",\"France\",\"France\",\"France\",\"France\",\"Spain\",\"Spain\",\"France\",\"Spain\",\"France\",\"Germany\",\"Spain\",\"France\",\"France\",\"France\",\"Spain\",\"France\",\"Germany\",\"France\",\"France\",\"Germany\",\"Spain\",\"France\",\"Germany\",\"Germany\",\"Spain\",\"Spain\",\"Germany\",\"Spain\",\"Spain\",\"Spain\",\"France\",\"Spain\",\"Germany\",\"France\",\"France\",\"France\",\"Spain\",\"France\",\"Spain\",\"France\",\"France\",\"France\",\"Spain\",\"Spain\",\"Germany\",\"France\",\"France\",\"France\",\"France\",\"Spain\",\"Spain\",\"Germany\",\"Spain\",\"Germany\",\"Germany\",\"Spain\",\"France\",\"France\",\"France\",\"France\",\"France\",\"France\",\"Germany\",\"France\",\"France\",\"France\",\"Spain\",\"Germany\",\"Spain\",\"Spain\",\"Spain\",\"France\",\"Spain\",\"Germany\",\"Germany\",\"Spain\",\"Spain\",\"France\",\"France\",\"France\",\"Spain\",\"Spain\",\"Germany\",\"Spain\",\"Spain\",\"France\",\"France\",\"France\",\"France\",\"France\",\"France\",\"France\",\"France\",\"France\",\"France\",\"France\",\"France\",\"Spain\",\"Germany\",\"Spain\",\"Germany\",\"France\",\"France\",\"Germany\",\"Spain\",\"France\",\"France\",\"France\",\"France\",\"France\",\"France\",\"Spain\",\"France\",\"Germany\",\"France\",\"France\",\"Spain\",\"Spain\",\"France\",\"Spain\",\"Spain\",\"Spain\",\"France\",\"Spain\",\"Germany\",\"Germany\",\"France\",\"France\",\"France\",\"Germany\",\"France\",\"Germany\",\"France\",\"France\",\"France\",\"Spain\",\"Germany\",\"France\",\"France\",\"Spain\",\"Spain\",\"Germany\",\"Germany\",\"France\",\"France\",\"France\",\"France\",\"Germany\",\"Spain\",\"France\",\"France\",\"Germany\",\"Spain\",\"France\",\"France\",\"France\",\"France\",\"France\",\"France\",\"France\",\"France\",\"France\",\"France\",\"France\",\"Spain\",\"France\",\"Spain\",\"France\",\"France\",\"France\",\"France\",\"France\",\"France\",\"France\",\"France\",\"France\",\"Spain\",\"Spain\",\"Germany\",\"France\",\"Germany\",\"France\",\"Germany\",\"Spain\",\"France\",\"Germany\",\"Spain\",\"France\",\"France\",\"France\",\"Germany\",\"Spain\",\"France\",\"Spain\",\"France\",\"France\",\"France\",\"France\",\"France\",\"Spain\",\"France\",\"France\",\"France\",\"France\",\"Spain\",\"France\",\"Germany\",\"Spain\",\"Spain\",\"France\",\"France\",\"Germany\",\"Germany\",\"France\",\"Germany\",\"France\",\"Germany\",\"France\",\"Germany\",\"France\",\"Germany\",\"Germany\",\"Spain\",\"France\",\"France\",\"France\",\"Germany\",\"France\",\"France\",\"Spain\",\"Spain\",\"France\",\"France\",\"France\",\"Spain\",\"France\",\"Germany\",\"France\",\"Spain\",\"Spain\",\"Germany\",\"France\",\"Spain\",\"Germany\",\"France\",\"France\",\"Spain\",\"Germany\",\"Germany\",\"France\",\"France\",\"Spain\",\"Germany\",\"France\",\"France\",\"Germany\",\"France\",\"France\",\"Germany\",\"France\",\"Spain\",\"France\",\"Germany\",\"Germany\",\"France\",\"France\",\"Spain\",\"Spain\",\"Spain\",\"France\",\"France\",\"France\",\"Germany\",\"France\",\"France\",\"France\",\"France\",\"France\",\"France\",\"France\",\"Germany\",\"Spain\",\"France\",\"France\",\"France\",\"France\",\"France\",\"Spain\",\"France\",\"Germany\",\"France\",\"Spain\",\"Germany\",\"France\",\"Germany\",\"France\",\"France\",\"Germany\",\"France\",\"France\",\"France\",\"France\",\"Spain\",\"Spain\",\"France\",\"Spain\",\"Spain\",\"Germany\",\"France\",\"France\",\"France\",\"Spain\",\"Spain\",\"France\",\"Germany\",\"France\",\"Germany\",\"Spain\",\"Germany\",\"Germany\",\"France\",\"Spain\",\"Germany\",\"Germany\",\"Spain\",\"France\",\"Germany\",\"France\",\"France\",\"Spain\",\"France\",\"Germany\",\"France\",\"Spain\",\"France\",\"France\",\"Germany\",\"Germany\",\"Spain\",\"France\",\"Spain\",\"Spain\",\"Spain\",\"France\",\"Germany\",\"Spain\",\"Spain\",\"France\",\"France\",\"Spain\",\"France\",\"Germany\",\"France\",\"France\",\"Germany\",\"Spain\",\"France\",\"Spain\",\"France\",\"France\",\"France\",\"France\",\"Germany\",\"France\",\"France\",\"Germany\",\"France\",\"Spain\",\"France\",\"France\",\"Germany\",\"Spain\",\"Spain\",\"Spain\",\"Spain\",\"Spain\",\"Germany\",\"France\",\"Germany\",\"France\",\"Germany\",\"Germany\",\"Spain\",\"France\",\"Spain\",\"Spain\",\"France\",\"Spain\",\"Spain\",\"Germany\",\"Germany\",\"France\",\"Spain\",\"France\",\"France\",\"France\",\"France\",\"France\",\"Germany\",\"Spain\",\"Spain\",\"France\",\"France\",\"Spain\",\"France\",\"France\",\"Spain\",\"France\",\"France\",\"France\",\"France\",\"Spain\",\"France\",\"France\",\"France\",\"Spain\",\"Germany\",\"France\",\"Spain\",\"Germany\",\"Spain\",\"Spain\",\"Spain\",\"Spain\",\"Germany\",\"France\",\"Spain\",\"Spain\",\"France\",\"France\",\"Germany\",\"Germany\",\"Spain\",\"Spain\",\"France\",\"Germany\",\"Spain\",\"France\",\"Germany\",\"France\",\"Germany\",\"Spain\",\"France\",\"France\",\"France\",\"Spain\",\"France\",\"Germany\",\"France\",\"France\",\"France\",\"France\",\"France\",\"Spain\",\"France\",\"Spain\",\"Spain\",\"Germany\",\"France\",\"France\",\"France\",\"Germany\",\"France\",\"France\",\"Spain\",\"France\",\"Spain\",\"Spain\",\"Germany\",\"France\",\"Germany\",\"Spain\",\"Germany\",\"France\",\"Germany\",\"Spain\",\"France\",\"France\",\"France\",\"Germany\",\"France\",\"France\",\"Germany\",\"Spain\",\"France\",\"Spain\",\"France\",\"France\",\"Germany\",\"Germany\",\"Spain\",\"France\",\"France\",\"Spain\",\"Germany\",\"Spain\",\"France\",\"France\",\"Spain\",\"Spain\",\"France\",\"Germany\",\"France\",\"Germany\",\"Germany\",\"France\",\"France\",\"France\",\"Spain\",\"Germany\",\"Spain\",\"Spain\",\"France\",\"France\",\"Germany\",\"France\",\"Germany\",\"France\",\"Germany\",\"France\",\"France\",\"France\",\"France\",\"Germany\",\"France\",\"France\",\"Germany\",\"Spain\",\"France\",\"France\",\"Germany\",\"France\",\"France\",\"France\",\"France\",\"Spain\",\"Germany\",\"France\",\"France\",\"France\",\"France\",\"France\",\"Germany\",\"Germany\",\"France\",\"France\",\"Spain\",\"Spain\",\"Spain\",\"Germany\",\"France\",\"France\",\"Spain\",\"Germany\",\"Spain\",\"Germany\",\"France\",\"Germany\",\"Germany\",\"France\",\"France\",\"France\",\"France\",\"France\",\"Germany\",\"Germany\",\"Germany\",\"France\",\"France\",\"Spain\",\"France\",\"Germany\",\"France\",\"Germany\",\"Spain\",\"France\",\"France\",\"France\",\"Germany\",\"Germany\",\"Spain\",\"France\",\"Spain\",\"France\",\"Germany\",\"France\",\"France\",\"Germany\",\"France\",\"Germany\",\"Spain\",\"France\",\"France\",\"Spain\",\"France\",\"Spain\",\"France\",\"France\",\"France\",\"Spain\",\"Spain\",\"Spain\",\"Spain\",\"Germany\",\"Spain\",\"France\",\"France\",\"France\",\"Spain\",\"Spain\",\"France\",\"France\",\"Germany\",\"France\",\"Spain\",\"France\",\"France\",\"Spain\",\"France\",\"Spain\",\"Germany\",\"France\",\"France\",\"Spain\",\"France\",\"Germany\",\"France\",\"France\",\"France\",\"Germany\",\"France\",\"France\",\"Spain\",\"Spain\",\"Germany\",\"France\",\"Germany\",\"Germany\",\"Spain\",\"Germany\",\"France\",\"Spain\",\"Spain\",\"Spain\",\"Spain\",\"France\",\"France\",\"France\",\"Spain\",\"France\",\"Spain\",\"Spain\",\"France\",\"France\",\"France\",\"France\",\"Germany\",\"France\",\"Germany\",\"Spain\",\"Germany\",\"Spain\",\"Spain\",\"France\",\"France\",\"France\",\"France\",\"France\",\"Spain\",\"Spain\",\"Germany\",\"Germany\",\"Spain\",\"France\",\"France\",\"France\",\"France\",\"France\",\"Spain\",\"France\",\"France\",\"Spain\",\"Spain\",\"France\",\"Spain\",\"France\",\"France\",\"Spain\",\"France\",\"France\",\"France\",\"Germany\",\"Germany\",\"Germany\",\"Germany\",\"Germany\",\"Spain\",\"Germany\",\"Germany\",\"France\",\"Spain\",\"Germany\",\"Spain\",\"Germany\",\"France\",\"France\",\"France\",\"France\",\"France\",\"France\",\"Spain\",\"France\",\"France\",\"Spain\",\"Germany\",\"France\",\"France\",\"Spain\",\"France\",\"France\",\"France\",\"France\",\"Germany\",\"France\",\"France\",\"Germany\",\"Spain\",\"France\",\"France\",\"France\",\"Spain\",\"France\",\"Spain\",\"France\",\"France\",\"Germany\",\"Germany\",\"France\",\"Spain\",\"France\",\"Germany\",\"France\",\"France\",\"France\",\"Germany\",\"France\",\"Spain\",\"France\",\"France\",\"Spain\",\"France\",\"France\",\"Spain\",\"Spain\",\"France\",\"Germany\",\"Spain\",\"France\",\"Germany\",\"France\",\"France\",\"Germany\",\"France\",\"France\",\"Germany\",\"France\",\"France\",\"France\",\"Spain\",\"France\",\"France\",\"Spain\",\"Spain\",\"France\",\"France\",\"Spain\",\"Spain\",\"France\",\"Spain\",\"France\",\"Spain\",\"France\",\"Germany\",\"France\",\"Spain\",\"France\",\"France\",\"Germany\",\"France\",\"Spain\",\"France\",\"France\",\"Spain\",\"France\",\"Germany\",\"Germany\",\"France\",\"Spain\",\"Spain\",\"Germany\",\"Germany\",\"Spain\",\"Spain\",\"Spain\",\"Spain\",\"France\",\"France\",\"France\",\"Spain\",\"France\",\"Germany\",\"Germany\",\"Germany\",\"Spain\",\"Germany\",\"France\",\"Germany\",\"France\",\"France\",\"France\",\"Germany\",\"France\",\"France\",\"Spain\",\"France\",\"Germany\",\"France\",\"Germany\",\"France\",\"Spain\",\"France\",\"France\",\"France\",\"France\",\"Germany\",\"Spain\",\"France\",\"Spain\",\"Spain\",\"Germany\",\"France\",\"Germany\",\"France\",\"France\",\"France\",\"France\",\"Germany\",\"France\",\"Germany\",\"Germany\",\"France\",\"France\",\"France\",\"France\",\"Germany\",\"France\",\"Germany\",\"France\",\"Spain\",\"France\",\"France\",\"Germany\",\"France\",\"France\",\"Spain\",\"France\",\"France\",\"Spain\",\"France\",\"France\",\"Spain\",\"France\",\"France\",\"Spain\",\"France\",\"Germany\",\"Spain\",\"Spain\",\"Spain\",\"France\",\"France\",\"Germany\",\"France\",\"Germany\",\"Spain\",\"France\",\"France\",\"France\",\"France\",\"Germany\",\"France\",\"Spain\",\"France\",\"Germany\",\"Germany\",\"France\",\"France\",\"Spain\",\"France\",\"France\",\"Germany\",\"France\",\"Germany\",\"Spain\",\"Spain\",\"France\",\"France\",\"Spain\",\"Spain\",\"France\",\"France\",\"France\",\"Spain\",\"Spain\",\"France\",\"Spain\",\"Spain\",\"France\",\"Spain\",\"France\",\"France\",\"Germany\",\"France\",\"Germany\",\"Germany\",\"France\",\"Spain\",\"Germany\",\"France\",\"France\",\"Spain\",\"France\",\"France\",\"Spain\",\"Spain\",\"Germany\",\"Spain\",\"France\",\"Germany\",\"Germany\",\"Spain\",\"Spain\",\"Spain\",\"Germany\",\"France\",\"Spain\",\"France\",\"Germany\",\"Germany\",\"Germany\",\"Spain\",\"Spain\",\"France\",\"France\",\"Spain\",\"France\",\"Germany\",\"Germany\",\"France\",\"Germany\",\"Spain\",\"Spain\",\"France\",\"France\",\"France\",\"France\",\"France\",\"France\",\"Germany\",\"Germany\",\"France\",\"Germany\",\"Spain\",\"Germany\",\"France\",\"Germany\",\"France\",\"France\",\"France\",\"France\",\"Germany\",\"France\",\"France\",\"Spain\",\"Germany\",\"France\",\"Germany\",\"Spain\",\"France\",\"France\",\"France\",\"France\",\"France\",\"France\",\"France\",\"Spain\",\"Spain\",\"France\",\"Germany\",\"France\",\"Spain\",\"Germany\",\"Spain\",\"Spain\",\"Spain\",\"France\",\"Germany\",\"France\",\"Spain\",\"France\",\"France\",\"Spain\",\"France\",\"France\",\"Germany\",\"France\",\"France\",\"France\",\"France\",\"France\",\"Germany\",\"France\",\"Germany\",\"France\",\"France\",\"Germany\",\"Spain\",\"Spain\",\"Spain\",\"Spain\",\"Spain\",\"France\",\"Germany\",\"Spain\",\"France\",\"France\",\"France\",\"Spain\",\"Germany\",\"Spain\",\"France\",\"Spain\",\"France\",\"Spain\",\"France\",\"France\",\"Spain\",\"Germany\",\"Spain\",\"Germany\",\"France\",\"Spain\",\"France\",\"France\",\"France\",\"France\",\"Spain\",\"Germany\",\"Spain\",\"France\",\"France\",\"France\",\"France\",\"France\",\"Germany\",\"Spain\",\"Spain\",\"Spain\",\"Germany\",\"Spain\",\"Spain\",\"Spain\",\"France\",\"Germany\",\"Spain\",\"France\",\"Germany\",\"France\",\"Spain\",\"Spain\",\"Spain\",\"France\",\"France\",\"France\",\"France\",\"Germany\",\"France\",\"Spain\",\"France\",\"Spain\",\"Spain\",\"Spain\",\"France\",\"Spain\",\"Spain\",\"Spain\",\"Spain\",\"Germany\",\"France\",\"France\",\"Spain\",\"Spain\",\"Spain\",\"France\",\"Germany\",\"Spain\",\"Spain\",\"France\",\"France\",\"France\",\"France\",\"France\",\"Germany\",\"Spain\",\"Germany\",\"Spain\",\"Germany\",\"Germany\",\"France\",\"Germany\",\"France\",\"France\",\"France\",\"Spain\",\"France\",\"Germany\",\"Spain\",\"Germany\",\"France\",\"Spain\",\"France\",\"Germany\",\"France\",\"Spain\",\"France\",\"France\",\"Spain\",\"Spain\",\"Germany\",\"Germany\",\"Spain\",\"Spain\",\"France\",\"France\",\"Spain\",\"Spain\",\"France\",\"France\",\"France\",\"Spain\",\"Germany\",\"France\",\"France\",\"Spain\",\"France\",\"Spain\",\"Spain\",\"Germany\",\"Spain\",\"Spain\",\"Germany\",\"France\",\"France\",\"France\",\"France\",\"Germany\",\"France\",\"France\",\"France\",\"France\",\"Germany\",\"France\",\"France\",\"Spain\",\"France\",\"France\",\"Germany\",\"France\",\"Germany\",\"France\",\"Spain\",\"Germany\",\"France\",\"Germany\",\"Germany\",\"Germany\",\"France\",\"France\",\"Spain\",\"France\",\"France\",\"Spain\",\"France\",\"Spain\",\"Germany\",\"France\",\"Spain\",\"Germany\",\"France\",\"France\",\"Germany\",\"France\",\"France\",\"France\",\"Germany\",\"France\",\"France\",\"France\",\"Germany\",\"France\",\"Germany\",\"France\",\"France\",\"Spain\",\"Spain\",\"Germany\",\"Germany\",\"France\",\"France\",\"Germany\",\"France\",\"Germany\",\"Spain\",\"France\",\"Spain\",\"Germany\",\"Spain\",\"France\",\"Germany\",\"Spain\",\"France\",\"Germany\",\"Spain\",\"Germany\",\"France\",\"Spain\",\"France\",\"France\",\"Spain\",\"Germany\",\"France\",\"Spain\",\"France\",\"France\",\"Spain\",\"Germany\",\"France\",\"France\",\"France\",\"Spain\",\"Germany\",\"Spain\",\"France\",\"Spain\",\"Germany\",\"Spain\",\"France\",\"France\",\"France\",\"France\",\"Spain\",\"Germany\",\"France\",\"France\",\"Germany\",\"France\",\"France\",\"France\",\"France\",\"France\",\"France\",\"France\",\"France\",\"Spain\",\"France\",\"France\",\"France\",\"Spain\",\"Spain\",\"France\",\"France\",\"Spain\",\"France\",\"France\",\"France\",\"France\",\"France\",\"France\",\"France\",\"Germany\",\"France\",\"France\",\"Spain\",\"France\",\"France\",\"France\",\"Germany\",\"France\",\"Germany\",\"Germany\",\"France\",\"France\",\"Germany\",\"Spain\",\"France\",\"Spain\",\"Spain\",\"France\",\"Spain\",\"France\",\"France\",\"Spain\",\"Spain\",\"Spain\",\"France\",\"France\",\"France\",\"France\",\"Spain\",\"Spain\",\"France\",\"France\",\"France\",\"Spain\",\"Spain\",\"France\",\"Spain\",\"France\",\"France\",\"Spain\",\"Germany\",\"France\",\"Germany\",\"France\",\"France\",\"France\",\"Spain\",\"Spain\",\"Germany\",\"Germany\",\"Germany\",\"France\",\"Spain\",\"Germany\",\"Spain\",\"Spain\",\"France\",\"Spain\",\"France\",\"France\",\"Spain\",\"Spain\",\"France\",\"Germany\",\"Germany\",\"France\",\"Spain\",\"Germany\",\"Spain\",\"France\",\"Spain\",\"Spain\",\"Germany\",\"Spain\",\"France\",\"Spain\",\"France\",\"Spain\",\"France\",\"France\",\"France\",\"Germany\",\"France\",\"France\",\"France\",\"France\",\"France\",\"Germany\",\"Spain\",\"France\",\"France\",\"France\",\"Spain\",\"France\",\"Germany\",\"France\",\"France\",\"Germany\",\"Germany\",\"France\",\"France\",\"Spain\",\"Spain\",\"France\",\"France\",\"France\",\"Germany\",\"Germany\",\"Spain\",\"France\",\"France\",\"Spain\",\"Spain\",\"France\",\"France\",\"Germany\",\"Germany\",\"France\",\"France\",\"Germany\",\"Spain\",\"France\",\"France\",\"Spain\",\"Germany\",\"Germany\",\"Germany\",\"Spain\",\"France\",\"France\",\"Spain\",\"Spain\",\"France\",\"Spain\",\"France\",\"Spain\",\"Germany\",\"France\",\"Spain\",\"Spain\",\"Spain\",\"France\",\"Germany\",\"France\",\"Spain\",\"Germany\",\"Spain\",\"France\",\"France\",\"Germany\",\"Germany\",\"France\",\"France\",\"Germany\",\"Germany\",\"Germany\",\"France\",\"France\",\"Germany\",\"France\",\"Spain\",\"France\",\"France\",\"France\",\"Spain\",\"Spain\",\"Spain\",\"France\",\"France\",\"France\",\"France\",\"France\",\"France\",\"France\",\"France\",\"France\",\"Spain\",\"Spain\",\"Germany\",\"France\",\"Spain\",\"France\",\"France\",\"Spain\",\"Spain\",\"Germany\",\"Germany\",\"Spain\",\"France\",\"France\",\"France\",\"Spain\",\"Spain\",\"Germany\",\"France\",\"Germany\",\"France\",\"Germany\",\"France\",\"France\",\"Spain\",\"Spain\",\"France\",\"Germany\",\"France\",\"France\",\"France\",\"Spain\",\"France\",\"France\",\"France\",\"Spain\",\"Germany\",\"Spain\",\"France\",\"Spain\",\"Spain\",\"France\",\"France\",\"Germany\",\"France\",\"France\",\"France\",\"Germany\",\"France\",\"France\",\"France\",\"Spain\",\"Spain\",\"Spain\",\"Spain\",\"France\",\"France\",\"Germany\",\"Spain\",\"Germany\",\"France\",\"France\",\"Spain\",\"Germany\",\"France\",\"France\",\"Germany\",\"France\",\"France\",\"Germany\",\"France\",\"Spain\",\"France\",\"France\",\"France\",\"Spain\",\"France\",\"Spain\",\"France\",\"Germany\",\"Spain\",\"Spain\",\"France\",\"France\",\"France\",\"France\",\"France\",\"Germany\",\"France\",\"France\",\"Spain\",\"Germany\",\"Spain\",\"France\",\"France\",\"France\",\"Germany\",\"France\",\"France\",\"Germany\",\"France\",\"Germany\",\"Spain\",\"Germany\",\"France\",\"France\",\"France\",\"Spain\",\"France\",\"France\",\"France\",\"Germany\",\"France\",\"France\",\"Germany\",\"France\",\"Spain\",\"Spain\",\"Germany\",\"France\",\"Spain\",\"France\",\"France\",\"Spain\",\"Spain\",\"France\",\"Spain\",\"France\",\"Germany\",\"Germany\",\"Spain\",\"France\",\"France\",\"France\",\"Germany\",\"France\",\"Germany\",\"Spain\",\"France\",\"France\",\"Spain\",\"Spain\",\"Germany\",\"France\",\"France\",\"France\",\"France\",\"France\",\"France\",\"France\",\"France\",\"France\",\"France\",\"Spain\",\"Germany\",\"Germany\",\"Germany\",\"France\",\"France\",\"Spain\",\"Spain\",\"Spain\",\"Spain\",\"Germany\",\"Germany\",\"France\",\"Spain\",\"France\",\"France\",\"France\",\"France\",\"France\",\"France\",\"Spain\",\"France\",\"France\",\"Spain\",\"France\",\"France\",\"France\",\"Germany\",\"France\",\"Spain\",\"Germany\",\"Germany\",\"Germany\",\"Germany\",\"France\",\"Spain\",\"France\",\"France\",\"Spain\",\"France\",\"France\",\"Spain\",\"Germany\",\"Spain\",\"France\",\"France\",\"France\",\"Spain\",\"France\",\"France\",\"France\",\"Germany\",\"France\",\"Spain\",\"Germany\",\"Spain\",\"France\",\"France\",\"Spain\",\"France\",\"France\",\"France\",\"France\",\"Spain\",\"France\",\"France\",\"France\",\"Germany\",\"France\",\"France\",\"Spain\",\"France\",\"Germany\",\"Germany\",\"Spain\",\"Spain\",\"France\",\"Germany\",\"France\",\"Germany\",\"Spain\",\"France\",\"France\",\"France\",\"Germany\",\"Spain\",\"France\",\"Germany\",\"France\",\"France\",\"France\",\"France\",\"Spain\",\"France\",\"France\",\"Spain\",\"France\",\"Germany\",\"France\",\"Germany\",\"Spain\",\"France\",\"France\",\"France\",\"Germany\",\"France\",\"France\",\"France\",\"Germany\",\"France\",\"Germany\",\"Germany\",\"Germany\",\"France\",\"Spain\",\"France\",\"France\",\"Germany\",\"Germany\",\"Germany\",\"France\",\"France\",\"Germany\",\"France\",\"France\",\"Spain\",\"Germany\",\"France\",\"France\",\"France\",\"France\",\"France\",\"France\",\"Spain\",\"France\",\"France\",\"France\",\"Germany\",\"Germany\",\"Germany\",\"Germany\",\"France\",\"France\",\"France\",\"Germany\",\"France\",\"France\",\"Germany\",\"Germany\",\"France\",\"France\",\"France\",\"Spain\",\"Germany\",\"Spain\",\"France\",\"France\",\"Germany\",\"Germany\",\"Germany\",\"Spain\",\"France\",\"Germany\",\"France\",\"France\",\"Germany\",\"Germany\",\"France\",\"France\",\"Spain\",\"Germany\",\"France\",\"France\",\"France\",\"France\",\"France\",\"Spain\",\"France\",\"Germany\",\"Germany\",\"France\",\"Spain\",\"France\",\"France\",\"France\",\"Spain\",\"Spain\",\"Germany\",\"France\",\"France\",\"France\",\"France\",\"Spain\",\"Germany\",\"Spain\",\"France\",\"France\",\"Spain\",\"France\",\"Spain\",\"France\",\"Germany\",\"Spain\",\"Germany\",\"Spain\",\"France\",\"Germany\",\"France\",\"Germany\",\"France\",\"France\",\"France\",\"France\",\"France\",\"Spain\",\"Spain\",\"France\",\"Spain\",\"France\",\"France\",\"Germany\",\"France\",\"Germany\",\"France\",\"France\",\"Spain\",\"France\",\"France\",\"Spain\",\"Germany\",\"Germany\",\"Spain\",\"Spain\",\"Spain\",\"Spain\",\"Germany\",\"France\",\"France\",\"France\",\"Spain\",\"France\",\"Germany\",\"Germany\",\"France\",\"Spain\",\"Germany\",\"France\",\"France\",\"France\",\"Germany\",\"France\",\"Germany\",\"France\",\"France\",\"France\",\"France\",\"France\",\"Germany\",\"Spain\",\"France\",\"France\",\"Germany\",\"France\",\"France\",\"France\",\"France\",\"Spain\",\"France\",\"Germany\",\"Spain\",\"Germany\",\"Germany\",\"France\",\"France\",\"France\",\"Germany\",\"Germany\",\"Germany\",\"Spain\",\"Spain\",\"France\",\"Spain\",\"France\",\"Spain\",\"Spain\",\"France\",\"France\",\"France\",\"France\",\"France\",\"France\",\"Spain\",\"Spain\",\"France\",\"France\",\"France\",\"France\",\"France\",\"France\",\"France\",\"Germany\",\"Spain\",\"France\",\"France\",\"Germany\",\"Spain\",\"France\",\"Spain\",\"Spain\",\"Germany\",\"France\",\"France\",\"France\",\"France\",\"Spain\",\"Germany\",\"Spain\",\"Germany\",\"France\",\"France\",\"Germany\",\"Germany\",\"France\",\"France\",\"Spain\",\"France\",\"France\",\"Spain\",\"France\",\"France\",\"France\",\"France\",\"Spain\",\"Germany\",\"France\",\"Germany\",\"France\",\"France\",\"France\",\"Spain\",\"France\",\"France\",\"Spain\",\"Germany\",\"France\",\"Spain\",\"France\",\"France\",\"France\",\"France\",\"Spain\",\"France\",\"Germany\",\"France\",\"France\",\"France\",\"Germany\",\"Spain\",\"France\",\"France\",\"France\",\"France\",\"France\",\"France\",\"France\",\"Spain\",\"France\",\"France\",\"Germany\",\"France\",\"Spain\",\"Germany\",\"Spain\",\"Spain\",\"France\",\"France\",\"France\",\"France\",\"Spain\",\"France\",\"France\",\"France\",\"Spain\",\"France\",\"France\",\"Germany\",\"France\",\"France\",\"Spain\",\"France\",\"France\",\"Germany\",\"France\",\"Spain\",\"France\",\"France\",\"Germany\",\"France\",\"Germany\",\"Germany\",\"Spain\",\"Germany\",\"Spain\",\"France\",\"France\",\"France\",\"France\",\"Germany\",\"France\",\"France\",\"France\",\"Spain\",\"Germany\",\"France\",\"Germany\",\"France\",\"Spain\",\"Germany\",\"Germany\",\"France\",\"France\",\"Germany\",\"France\",\"Spain\",\"Germany\",\"France\",\"France\",\"France\",\"Spain\",\"France\",\"Spain\",\"Germany\",\"France\",\"France\",\"Spain\",\"France\",\"Spain\",\"Germany\",\"Germany\",\"France\",\"France\",\"France\",\"France\",\"France\",\"France\",\"Spain\",\"France\",\"Germany\",\"Spain\",\"Spain\",\"Spain\",\"Germany\",\"France\",\"France\",\"France\",\"Spain\",\"Spain\",\"France\",\"France\",\"France\",\"Spain\",\"Spain\",\"France\",\"France\",\"Spain\",\"Germany\",\"France\",\"Spain\",\"Germany\",\"France\",\"France\",\"France\",\"Spain\",\"France\",\"France\",\"Germany\",\"Spain\",\"France\",\"France\",\"France\",\"France\",\"Spain\",\"France\",\"Germany\",\"France\",\"Spain\",\"France\",\"Spain\",\"France\",\"France\",\"France\",\"Spain\",\"Germany\",\"France\",\"Spain\",\"Germany\",\"Spain\",\"France\",\"France\",\"Germany\",\"Spain\",\"France\",\"Germany\",\"Germany\",\"Spain\",\"France\",\"Spain\",\"Germany\",\"Germany\",\"France\",\"France\",\"France\",\"France\",\"France\",\"Spain\",\"Spain\",\"Spain\",\"Spain\",\"Spain\",\"Germany\",\"France\",\"France\",\"Germany\",\"Spain\",\"France\",\"France\",\"France\",\"France\",\"France\",\"Spain\",\"France\",\"Germany\",\"France\",\"France\",\"France\",\"France\",\"Spain\",\"Germany\",\"Germany\",\"France\",\"Spain\",\"France\",\"Germany\",\"France\",\"France\",\"Spain\",\"France\",\"France\",\"Germany\",\"France\",\"France\",\"France\",\"France\",\"Spain\",\"France\",\"France\",\"France\",\"France\",\"Spain\",\"Germany\",\"Spain\",\"Germany\",\"France\",\"France\",\"Spain\",\"Germany\",\"France\",\"France\",\"France\",\"France\",\"France\",\"Spain\",\"Spain\",\"France\",\"France\",\"France\",\"France\",\"France\",\"France\",\"France\",\"France\",\"Spain\",\"Spain\",\"France\",\"Spain\",\"France\",\"France\",\"France\",\"France\",\"Germany\",\"France\",\"Spain\",\"Spain\",\"Spain\",\"Germany\",\"France\",\"Germany\",\"France\",\"Germany\",\"France\",\"France\",\"France\",\"France\",\"Spain\",\"Germany\",\"France\",\"France\",\"France\",\"Germany\",\"Germany\",\"Germany\",\"Spain\",\"France\",\"Germany\",\"France\",\"Germany\",\"France\",\"Germany\",\"France\",\"France\",\"France\",\"Spain\",\"Germany\",\"Spain\",\"Spain\",\"France\",\"Germany\",\"Germany\",\"France\",\"Spain\",\"Germany\",\"Germany\",\"France\",\"France\",\"Germany\",\"France\",\"France\",\"France\",\"France\",\"France\",\"France\",\"France\",\"France\",\"France\",\"France\",\"France\",\"France\",\"Spain\",\"France\",\"Germany\",\"Germany\",\"France\",\"Germany\",\"France\",\"France\",\"France\",\"France\",\"France\",\"France\",\"France\",\"France\",\"Germany\",\"Spain\",\"Spain\",\"Germany\",\"Spain\",\"France\",\"France\",\"France\",\"France\",\"France\",\"Germany\",\"France\",\"Germany\",\"France\",\"France\",\"France\",\"France\",\"France\",\"Germany\",\"Spain\",\"Germany\",\"France\",\"Spain\",\"Germany\",\"France\",\"France\",\"Germany\",\"France\",\"France\",\"France\",\"France\",\"Germany\",\"Spain\",\"France\",\"Spain\",\"Germany\",\"France\",\"Germany\",\"France\",\"Spain\",\"France\",\"France\",\"France\",\"Spain\",\"France\",\"Spain\",\"France\",\"France\",\"Spain\",\"Spain\",\"Spain\",\"Germany\",\"Spain\",\"France\",\"Spain\",\"Spain\",\"Germany\",\"France\",\"Spain\",\"France\",\"Germany\",\"France\",\"France\",\"France\",\"France\",\"Germany\",\"France\",\"France\",\"France\",\"Spain\",\"France\",\"France\",\"France\",\"France\",\"France\",\"Spain\",\"France\",\"Spain\",\"Spain\",\"France\",\"Spain\",\"France\",\"Spain\",\"France\",\"France\",\"France\",\"Germany\",\"France\",\"France\",\"France\",\"France\",\"Germany\",\"Spain\",\"France\",\"France\",\"France\",\"France\",\"Spain\",\"Spain\",\"Spain\",\"France\",\"Spain\",\"Germany\",\"Germany\",\"France\",\"France\",\"Spain\",\"France\",\"France\",\"Germany\",\"Spain\",\"Spain\",\"Spain\",\"Spain\",\"Spain\",\"Germany\",\"Germany\",\"France\",\"France\",\"France\",\"France\",\"France\",\"Germany\",\"Germany\",\"France\",\"France\",\"Germany\",\"France\",\"France\",\"France\",\"Spain\",\"France\",\"France\",\"France\",\"Germany\",\"Germany\",\"Germany\",\"France\",\"Germany\",\"Germany\",\"France\",\"Spain\",\"France\",\"Germany\",\"France\",\"France\",\"France\",\"Germany\",\"France\",\"Spain\",\"Germany\",\"Germany\",\"France\",\"France\",\"France\",\"Spain\",\"Germany\",\"France\",\"Spain\",\"Spain\",\"Germany\",\"France\",\"France\",\"Spain\",\"Spain\",\"Germany\",\"France\",\"France\",\"Spain\",\"Spain\",\"Germany\",\"Spain\",\"France\",\"France\",\"France\",\"France\",\"France\",\"France\",\"France\",\"France\",\"Germany\",\"Germany\",\"Germany\",\"France\",\"Spain\",\"Germany\",\"France\",\"Germany\",\"France\",\"Spain\",\"Germany\",\"France\",\"France\",\"Germany\",\"France\",\"France\",\"France\",\"France\",\"France\",\"Spain\",\"France\",\"Spain\",\"Spain\",\"Spain\",\"France\",\"Spain\",\"France\",\"France\",\"Germany\",\"France\",\"Spain\",\"France\",\"Spain\",\"France\",\"France\",\"Germany\",\"France\",\"France\",\"France\",\"France\",\"France\",\"France\",\"France\",\"Spain\",\"Spain\",\"France\",\"France\",\"Spain\",\"Germany\",\"France\",\"Germany\",\"Germany\",\"France\",\"Germany\",\"France\",\"France\",\"Germany\",\"France\",\"Spain\",\"Spain\",\"Spain\",\"Germany\",\"Germany\",\"France\",\"Germany\",\"Spain\",\"Germany\",\"France\",\"France\",\"Germany\",\"Germany\",\"France\",\"France\",\"France\",\"France\",\"Spain\",\"Spain\",\"France\",\"Spain\",\"France\",\"France\",\"Spain\",\"France\",\"Spain\",\"France\",\"Germany\",\"France\",\"France\",\"Spain\",\"France\",\"Spain\",\"France\",\"France\",\"Germany\",\"Spain\",\"France\",\"Germany\",\"France\",\"France\",\"Spain\",\"France\",\"Germany\",\"France\",\"Germany\",\"Germany\",\"Spain\",\"France\",\"France\",\"France\",\"France\",\"France\",\"Spain\",\"Spain\",\"France\",\"Spain\",\"Germany\",\"France\",\"Spain\",\"Spain\",\"France\",\"Germany\",\"Spain\",\"France\",\"France\",\"France\",\"Spain\",\"France\",\"France\",\"France\",\"France\",\"France\",\"Spain\",\"France\",\"France\",\"France\",\"Spain\",\"France\",\"Germany\",\"France\",\"France\",\"France\",\"Spain\",\"Germany\",\"Spain\",\"Germany\",\"Spain\",\"France\",\"France\",\"France\",\"France\",\"France\",\"Germany\",\"Spain\",\"France\",\"France\",\"France\",\"Germany\",\"Germany\",\"Germany\",\"Germany\",\"France\",\"France\",\"France\",\"France\",\"Spain\",\"France\",\"Germany\",\"France\",\"France\",\"France\",\"France\",\"France\",\"France\",\"Spain\",\"France\",\"Spain\",\"Germany\",\"Spain\",\"Germany\",\"Germany\",\"France\",\"France\",\"France\",\"France\",\"France\",\"Germany\",\"France\",\"France\",\"France\",\"Germany\",\"Germany\",\"Germany\",\"France\",\"Spain\",\"Germany\",\"France\",\"Germany\",\"France\",\"France\",\"Spain\",\"Spain\",\"Germany\",\"France\",\"France\",\"Germany\",\"Spain\",\"France\",\"France\",\"Spain\",\"France\",\"Germany\",\"Spain\",\"France\",\"Spain\",\"Germany\",\"France\",\"France\",\"France\",\"Spain\",\"Germany\",\"Spain\",\"France\",\"Germany\",\"France\",\"France\",\"France\",\"Spain\",\"Spain\",\"France\",\"Germany\",\"Spain\",\"France\",\"France\",\"Spain\",\"France\",\"France\",\"Spain\",\"Germany\",\"Spain\",\"France\",\"Spain\",\"France\",\"France\",\"Germany\",\"France\",\"France\",\"France\",\"France\",\"France\",\"Spain\",\"France\",\"France\",\"Germany\",\"France\",\"Spain\",\"France\",\"Spain\",\"Spain\",\"Germany\",\"Spain\",\"Germany\",\"France\",\"France\",\"Spain\",\"France\",\"Spain\",\"France\",\"France\",\"France\",\"Germany\",\"Spain\",\"Spain\",\"Spain\",\"France\",\"France\",\"France\",\"France\",\"Germany\",\"France\",\"Spain\",\"France\",\"France\",\"Spain\",\"France\",\"Spain\",\"Germany\",\"Spain\",\"France\",\"France\",\"Germany\",\"Spain\",\"France\",\"Germany\",\"France\",\"France\",\"France\",\"Germany\",\"Germany\",\"Germany\",\"Spain\",\"Spain\",\"France\",\"Spain\",\"France\",\"Spain\",\"France\",\"France\",\"Spain\",\"Spain\",\"France\",\"Spain\",\"France\",\"Spain\",\"France\",\"Spain\",\"Germany\",\"France\",\"Germany\",\"Spain\",\"France\",\"Spain\",\"France\",\"France\",\"France\",\"France\",\"Spain\",\"France\",\"Spain\",\"France\",\"Germany\",\"Spain\",\"France\",\"Spain\",\"Spain\",\"France\",\"Spain\",\"France\",\"France\",\"Spain\",\"Spain\",\"France\",\"Spain\",\"Spain\",\"France\",\"France\",\"Germany\",\"France\",\"Germany\",\"France\",\"France\",\"Germany\",\"Spain\",\"France\",\"Spain\",\"Spain\",\"Spain\",\"France\",\"France\",\"Germany\",\"Spain\",\"Spain\",\"Spain\",\"Spain\",\"Spain\",\"Germany\",\"Germany\",\"France\",\"Spain\",\"France\",\"France\",\"France\",\"Spain\",\"France\",\"France\",\"France\",\"Germany\",\"Spain\",\"France\",\"Spain\",\"Spain\",\"Spain\",\"Germany\",\"France\",\"France\",\"Spain\",\"Spain\",\"France\",\"France\",\"Germany\",\"Germany\",\"Germany\",\"Germany\",\"Spain\",\"France\",\"France\",\"France\",\"France\",\"Germany\",\"France\",\"France\",\"France\",\"Germany\",\"France\",\"Spain\",\"Germany\",\"Spain\",\"France\",\"France\",\"Germany\",\"France\",\"France\",\"France\",\"France\",\"France\",\"Spain\",\"France\",\"Spain\",\"Germany\",\"France\",\"France\",\"France\",\"France\",\"Germany\",\"France\",\"France\",\"Spain\",\"Germany\",\"Spain\",\"France\",\"Spain\",\"France\",\"Spain\",\"Germany\",\"France\",\"Spain\",\"France\",\"France\",\"Spain\",\"Germany\",\"Spain\",\"Spain\",\"Germany\",\"France\",\"France\",\"France\",\"France\",\"France\",\"France\",\"Spain\",\"Spain\",\"France\",\"France\",\"France\",\"Germany\",\"Germany\",\"Spain\",\"Spain\",\"France\",\"France\",\"France\",\"France\",\"France\",\"France\",\"France\",\"France\",\"France\",\"France\",\"France\",\"France\",\"France\",\"France\",\"Spain\",\"Germany\",\"France\",\"France\",\"Spain\",\"France\",\"France\",\"France\",\"France\",\"Germany\",\"Spain\",\"Germany\",\"France\",\"Spain\",\"France\",\"Germany\",\"Spain\",\"Spain\",\"France\",\"Spain\",\"France\",\"France\",\"France\",\"France\",\"France\",\"Spain\",\"France\",\"France\",\"Germany\",\"Germany\",\"Germany\",\"France\",\"Spain\",\"France\",\"France\",\"Germany\",\"France\",\"France\",\"Germany\",\"Spain\",\"Spain\",\"France\",\"Spain\",\"Germany\",\"France\",\"France\",\"France\",\"Germany\",\"France\",\"Spain\",\"France\",\"Spain\",\"France\",\"France\",\"Spain\",\"France\",\"Germany\",\"France\",\"Germany\",\"Spain\",\"Germany\",\"France\",\"France\",\"France\",\"Spain\",\"Spain\",\"Germany\",\"France\",\"Spain\",\"France\",\"Spain\",\"Germany\",\"Spain\",\"France\",\"Spain\",\"France\",\"Spain\",\"Germany\",\"France\",\"Germany\",\"Spain\",\"France\",\"France\",\"France\",\"Spain\",\"France\",\"France\",\"France\",\"France\",\"Germany\",\"France\",\"Spain\",\"Spain\",\"Germany\",\"France\",\"France\",\"Germany\",\"France\",\"France\",\"France\",\"Germany\",\"Germany\",\"France\",\"France\",\"France\",\"France\",\"France\",\"France\",\"France\",\"France\",\"Germany\",\"Spain\",\"Spain\",\"France\",\"France\",\"France\",\"Germany\",\"Germany\",\"France\",\"Germany\",\"Germany\",\"France\",\"Spain\",\"Spain\",\"Spain\",\"Germany\",\"France\",\"France\",\"Germany\",\"France\",\"Germany\",\"Germany\",\"France\",\"France\",\"Spain\",\"Spain\",\"Germany\",\"Germany\",\"Spain\",\"Germany\",\"France\",\"Germany\",\"France\",\"France\",\"France\",\"France\",\"Spain\",\"Germany\",\"Spain\",\"France\",\"Spain\",\"France\",\"Germany\",\"France\",\"France\",\"France\",\"France\",\"Germany\",\"France\",\"France\",\"France\",\"Germany\",\"France\",\"France\",\"France\",\"Germany\",\"Spain\",\"France\",\"Germany\",\"France\",\"Germany\",\"France\",\"Spain\",\"France\",\"Germany\",\"Spain\",\"France\",\"France\",\"Germany\",\"Germany\",\"France\",\"France\",\"France\",\"Germany\",\"France\",\"France\",\"France\",\"France\",\"France\",\"France\",\"Germany\",\"France\",\"Germany\",\"France\",\"France\",\"Spain\",\"Germany\",\"France\",\"Spain\",\"Spain\",\"France\",\"France\",\"France\",\"Germany\",\"Germany\",\"France\",\"France\",\"Spain\",\"France\",\"Spain\",\"France\",\"France\",\"Germany\",\"Germany\",\"France\",\"France\",\"Spain\",\"Spain\",\"Spain\",\"Spain\",\"Spain\",\"Spain\",\"Germany\",\"France\",\"Spain\",\"France\",\"France\",\"Spain\",\"Germany\",\"France\",\"Spain\",\"France\",\"France\",\"Spain\",\"Spain\",\"France\",\"Germany\",\"Spain\",\"France\",\"Spain\",\"Germany\",\"France\",\"France\",\"France\",\"France\",\"France\",\"France\",\"Germany\",\"France\",\"Spain\",\"Germany\",\"Germany\",\"Germany\",\"Spain\",\"France\",\"Spain\",\"Germany\",\"France\",\"Germany\",\"Germany\",\"Germany\",\"France\",\"France\",\"Germany\",\"Spain\",\"Germany\",\"France\",\"France\",\"France\",\"France\",\"Spain\",\"France\",\"France\",\"France\",\"France\",\"France\",\"France\",\"France\",\"France\",\"France\",\"France\",\"France\",\"France\",\"France\",\"France\",\"Germany\",\"Spain\",\"France\",\"France\",\"France\",\"Spain\",\"Germany\",\"Germany\",\"France\",\"France\",\"France\",\"France\",\"France\",\"France\",\"France\",\"Spain\",\"Spain\",\"France\",\"France\",\"France\",\"France\",\"Spain\",\"Germany\",\"Germany\",\"France\",\"Germany\",\"France\",\"Germany\",\"France\",\"Germany\",\"France\",\"Germany\",\"Germany\",\"Spain\",\"France\",\"Germany\",\"France\",\"Germany\",\"France\",\"Germany\",\"Spain\",\"Spain\",\"France\",\"France\",\"Spain\",\"Germany\",\"France\",\"France\",\"Spain\",\"Germany\",\"France\",\"France\",\"Germany\",\"France\",\"Germany\",\"France\",\"France\",\"Germany\",\"Germany\",\"Spain\",\"Spain\",\"Spain\",\"Germany\",\"France\",\"France\",\"France\",\"France\",\"Spain\",\"France\",\"France\",\"Germany\",\"Spain\",\"Spain\",\"France\",\"Spain\",\"France\",\"Spain\",\"France\",\"Spain\",\"France\",\"France\",\"Spain\",\"France\",\"Germany\",\"France\",\"France\",\"Spain\",\"France\",\"Germany\",\"France\",\"Germany\",\"France\",\"Spain\",\"France\",\"Germany\",\"France\",\"Germany\",\"France\",\"France\",\"Spain\",\"Germany\",\"France\",\"Germany\",\"France\",\"Germany\",\"France\",\"France\",\"France\",\"France\",\"France\",\"France\",\"France\",\"Germany\",\"Spain\",\"France\",\"Spain\",\"Germany\",\"France\",\"France\",\"Spain\",\"France\",\"Spain\",\"Spain\",\"Spain\",\"France\",\"France\",\"France\",\"France\",\"Spain\",\"Spain\",\"Spain\",\"Spain\",\"Spain\",\"Spain\",\"Germany\",\"Spain\",\"Germany\",\"France\",\"Spain\",\"Spain\",\"France\",\"Spain\",\"Spain\",\"France\",\"France\",\"France\",\"France\",\"France\",\"Spain\",\"Spain\",\"Spain\",\"Spain\",\"France\",\"France\",\"France\",\"Spain\",\"Germany\",\"France\",\"France\",\"France\",\"Spain\",\"Spain\",\"Spain\",\"Germany\",\"France\",\"France\",\"France\",\"France\",\"France\",\"Spain\",\"France\",\"Spain\",\"Spain\",\"Germany\",\"France\",\"France\",\"France\",\"France\",\"France\",\"France\",\"Spain\",\"France\",\"France\",\"France\",\"Spain\",\"France\",\"Spain\",\"France\",\"France\",\"France\",\"Spain\",\"France\",\"France\",\"France\",\"France\",\"France\",\"Germany\",\"France\",\"France\",\"France\",\"France\",\"Germany\",\"France\",\"Spain\",\"France\",\"Germany\",\"Germany\",\"France\",\"France\",\"France\",\"Spain\",\"Spain\",\"Spain\",\"France\",\"France\",\"Germany\",\"France\",\"France\",\"France\",\"Spain\",\"France\",\"France\",\"France\",\"Spain\",\"France\",\"Spain\",\"Spain\",\"France\",\"Germany\",\"Germany\",\"Spain\",\"Germany\",\"France\",\"France\",\"Spain\",\"Germany\",\"Spain\",\"France\",\"France\",\"France\",\"Spain\",\"France\",\"France\",\"France\",\"France\",\"France\",\"Spain\",\"Spain\",\"France\",\"Spain\",\"France\",\"Germany\",\"France\",\"Spain\",\"France\",\"Spain\",\"France\",\"Germany\",\"Germany\",\"Germany\",\"Germany\",\"Spain\",\"France\",\"Germany\",\"Germany\",\"France\",\"Germany\",\"France\",\"Germany\",\"France\",\"Germany\",\"France\",\"France\",\"Spain\",\"France\",\"France\",\"France\",\"Spain\",\"France\",\"Germany\",\"France\",\"Spain\",\"Spain\",\"Spain\",\"Germany\",\"Spain\",\"France\",\"France\",\"Spain\",\"France\",\"Germany\",\"France\",\"France\",\"France\",\"France\",\"Spain\",\"Spain\",\"Spain\",\"Spain\",\"Germany\",\"France\",\"France\",\"Germany\",\"Spain\",\"Germany\",\"Germany\",\"France\",\"France\",\"France\",\"Germany\",\"Spain\",\"France\",\"France\",\"Spain\",\"France\",\"France\",\"France\",\"Germany\",\"Spain\",\"Spain\",\"Germany\",\"Spain\",\"France\",\"France\",\"Germany\",\"France\",\"Spain\",\"France\",\"Spain\",\"France\",\"France\",\"Germany\",\"France\",\"France\",\"France\",\"France\",\"Germany\",\"France\",\"Germany\",\"Germany\",\"Germany\",\"Spain\",\"Germany\",\"Spain\",\"France\",\"France\",\"Spain\",\"Spain\",\"France\",\"Spain\",\"France\",\"France\",\"Spain\",\"Spain\",\"France\",\"Spain\",\"France\",\"Spain\",\"France\",\"Germany\",\"Spain\",\"Spain\",\"Germany\",\"France\",\"France\",\"France\",\"France\",\"Germany\",\"Spain\",\"France\",\"France\",\"France\",\"Spain\",\"Spain\",\"France\",\"France\",\"France\",\"Germany\",\"France\",\"Spain\",\"France\",\"France\",\"Spain\",\"France\",\"France\",\"France\",\"Spain\",\"France\",\"Spain\",\"Germany\",\"France\",\"Germany\",\"France\",\"Spain\",\"France\",\"Spain\",\"Germany\",\"Spain\",\"Spain\",\"Spain\",\"Spain\",\"France\",\"Spain\",\"Spain\",\"Spain\",\"France\",\"France\",\"Spain\",\"France\",\"Germany\",\"France\",\"France\",\"France\",\"France\",\"Spain\",\"France\",\"Spain\",\"Spain\",\"Spain\",\"France\",\"Germany\",\"Germany\",\"France\",\"France\",\"Spain\",\"France\",\"Germany\",\"France\",\"France\",\"Spain\",\"Spain\",\"France\",\"Germany\",\"Germany\",\"France\",\"Spain\",\"France\",\"France\",\"France\",\"Spain\",\"France\",\"Germany\",\"France\",\"Spain\",\"Spain\",\"France\",\"Spain\",\"France\",\"Spain\",\"France\",\"France\",\"France\",\"France\",\"Spain\",\"Spain\",\"Germany\",\"France\",\"France\",\"France\",\"Spain\",\"France\",\"Spain\",\"France\",\"Germany\",\"Germany\",\"Spain\",\"Spain\",\"France\",\"France\",\"France\",\"Spain\",\"Spain\",\"Spain\",\"France\",\"France\",\"Spain\",\"France\",\"Spain\",\"France\",\"France\",\"France\",\"Spain\",\"Germany\",\"France\",\"Germany\",\"France\",\"France\",\"France\",\"Germany\",\"Spain\",\"Spain\",\"France\",\"Germany\",\"Germany\",\"Spain\",\"France\",\"France\",\"France\",\"Spain\",\"France\",\"Spain\",\"Spain\",\"France\",\"Spain\",\"France\",\"France\",\"France\",\"Germany\",\"France\",\"Spain\",\"France\",\"Germany\",\"France\",\"France\",\"Spain\",\"France\",\"France\",\"France\",\"France\",\"Germany\",\"France\",\"France\",\"Spain\",\"Spain\",\"Germany\",\"France\",\"France\",\"Germany\",\"France\",\"France\",\"Germany\",\"France\",\"France\",\"France\",\"France\",\"Germany\",\"France\",\"France\",\"France\",\"France\",\"Spain\",\"Spain\",\"Spain\",\"France\",\"Germany\",\"Germany\",\"Spain\",\"Spain\",\"France\",\"Spain\",\"France\",\"France\",\"Spain\",\"Germany\",\"Germany\",\"France\",\"France\",\"France\",\"France\",\"France\",\"Spain\",\"Spain\",\"France\",\"Spain\",\"Spain\",\"France\",\"Spain\",\"France\",\"France\",\"Spain\",\"France\",\"Spain\",\"Germany\",\"Spain\",\"France\",\"France\",\"France\",\"Germany\",\"Germany\",\"Germany\",\"France\",\"France\",\"Spain\",\"Spain\",\"Germany\",\"France\",\"Spain\",\"France\",\"Germany\",\"France\",\"France\",\"France\",\"France\",\"Germany\",\"Germany\",\"France\",\"France\",\"France\",\"Germany\",\"France\",\"France\",\"France\",\"Germany\",\"Germany\",\"Spain\",\"Germany\",\"France\",\"Spain\",\"Spain\",\"Spain\",\"Spain\",\"Spain\",\"France\",\"Germany\",\"France\",\"Spain\",\"Germany\",\"France\",\"France\",\"Spain\",\"Spain\",\"France\",\"Spain\",\"France\",\"Spain\",\"Germany\",\"France\",\"France\",\"Spain\",\"France\",\"France\",\"France\",\"Spain\",\"France\",\"Germany\",\"France\",\"France\",\"Spain\",\"Spain\",\"France\",\"France\",\"France\",\"France\",\"France\",\"France\",\"France\",\"Germany\",\"France\",\"France\",\"France\",\"France\",\"Germany\",\"Spain\",\"Germany\",\"France\",\"France\",\"France\",\"France\",\"Spain\",\"France\",\"Spain\",\"France\",\"France\",\"Germany\",\"France\",\"Germany\",\"France\",\"Spain\",\"France\",\"France\",\"France\",\"Germany\",\"France\",\"France\",\"France\",\"France\",\"France\",\"Germany\",\"Germany\",\"Spain\",\"Spain\",\"Germany\",\"Spain\",\"France\",\"France\",\"France\",\"Germany\",\"Germany\",\"Spain\",\"France\",\"France\",\"France\",\"Germany\",\"Germany\",\"France\",\"Germany\",\"France\",\"Germany\",\"Spain\",\"Germany\",\"Spain\",\"Spain\",\"Spain\",\"Spain\",\"France\",\"France\",\"France\",\"Spain\",\"France\",\"France\",\"France\",\"France\",\"Spain\",\"France\",\"Germany\",\"France\",\"France\",\"Spain\",\"Spain\",\"France\",\"France\",\"Spain\",\"France\",\"France\",\"Germany\",\"France\",\"France\",\"Germany\",\"France\",\"France\",\"France\",\"France\",\"France\",\"France\",\"France\",\"France\",\"France\",\"Germany\",\"France\",\"France\",\"France\",\"France\",\"France\",\"France\",\"Spain\",\"France\",\"Spain\",\"Germany\",\"Germany\",\"Spain\",\"Spain\",\"France\",\"France\",\"Germany\",\"France\",\"France\",\"Spain\",\"France\",\"Germany\",\"France\",\"Germany\",\"Spain\",\"Spain\",\"France\",\"Germany\",\"France\",\"Spain\",\"Spain\",\"Spain\",\"Germany\",\"Germany\",\"Germany\",\"France\",\"France\",\"France\",\"France\",\"Spain\",\"France\",\"France\",\"Spain\",\"Spain\",\"Spain\",\"Spain\",\"France\",\"Spain\",\"Spain\",\"Germany\",\"Germany\",\"France\",\"France\",\"Germany\",\"France\",\"Spain\",\"France\",\"France\",\"France\",\"Germany\",\"France\",\"Spain\",\"France\",\"Spain\",\"France\",\"France\",\"Germany\",\"France\",\"Spain\",\"France\",\"Germany\",\"France\",\"France\",\"Spain\",\"France\",\"Spain\",\"France\",\"Spain\",\"France\",\"France\",\"France\",\"Spain\",\"Spain\",\"France\",\"Spain\",\"France\",\"Germany\",\"Spain\",\"Spain\",\"France\",\"France\",\"France\",\"Spain\",\"France\",\"France\",\"France\",\"France\",\"Germany\",\"Spain\",\"Spain\",\"France\",\"France\",\"Spain\",\"Germany\",\"Germany\",\"France\",\"Germany\",\"Spain\",\"France\",\"France\",\"Spain\",\"France\",\"France\",\"France\",\"France\",\"France\",\"Germany\",\"France\",\"France\",\"France\",\"Spain\",\"Spain\",\"France\",\"France\",\"Germany\",\"France\",\"Germany\",\"Spain\",\"Spain\",\"France\",\"Germany\",\"Germany\",\"Spain\",\"Spain\",\"Spain\",\"France\",\"France\",\"France\",\"France\",\"France\",\"France\",\"Spain\",\"France\",\"France\",\"France\",\"Germany\",\"Spain\",\"France\",\"France\",\"France\",\"France\",\"France\",\"France\",\"France\",\"France\",\"Germany\",\"France\",\"France\",\"France\",\"Spain\",\"France\",\"France\",\"Spain\",\"France\",\"Spain\",\"France\",\"France\",\"France\",\"Spain\",\"France\",\"Spain\",\"France\",\"Germany\",\"France\",\"France\",\"Germany\",\"France\",\"Spain\",\"Spain\",\"Spain\",\"Spain\",\"Spain\",\"France\",\"France\",\"France\",\"Spain\",\"Spain\",\"Germany\",\"France\",\"Germany\",\"France\",\"Germany\",\"Spain\",\"France\",\"Germany\",\"France\",\"France\",\"France\",\"France\",\"France\",\"France\",\"France\",\"France\",\"Spain\",\"France\",\"Spain\",\"Germany\",\"France\",\"Spain\",\"France\",\"Germany\",\"Germany\",\"Spain\",\"France\",\"France\",\"France\",\"France\",\"Germany\",\"Spain\",\"France\",\"Spain\",\"France\",\"France\",\"Spain\",\"France\",\"Spain\",\"France\",\"France\",\"Spain\",\"Spain\",\"Spain\",\"France\",\"France\",\"Spain\",\"Spain\",\"France\",\"France\",\"Germany\",\"Germany\",\"France\",\"Germany\",\"Germany\",\"France\",\"Germany\",\"Spain\",\"Germany\",\"Spain\",\"Spain\",\"France\",\"Germany\",\"France\",\"Spain\",\"Germany\",\"France\",\"Germany\",\"Spain\",\"Spain\",\"France\",\"France\",\"Germany\",\"Spain\",\"Germany\",\"France\",\"Germany\",\"Spain\",\"Spain\",\"France\",\"Spain\",\"Spain\",\"France\",\"France\",\"France\",\"France\",\"France\",\"France\",\"Germany\",\"France\",\"Germany\",\"France\",\"Spain\",\"France\",\"France\",\"France\",\"France\",\"Germany\",\"France\",\"France\",\"Spain\",\"France\",\"Germany\",\"France\",\"Germany\",\"France\",\"France\",\"France\",\"Germany\",\"Spain\",\"France\",\"Germany\",\"Spain\",\"France\",\"France\",\"France\",\"France\",\"France\",\"France\",\"France\",\"France\",\"Spain\",\"France\",\"France\",\"France\",\"France\",\"Spain\",\"Germany\",\"Spain\",\"France\",\"Germany\",\"Spain\",\"France\",\"Spain\",\"France\",\"Germany\",\"Germany\",\"France\",\"France\",\"France\",\"France\",\"Spain\",\"Spain\",\"Spain\",\"Germany\",\"France\",\"France\",\"Germany\",\"France\",\"France\",\"France\",\"Germany\",\"France\",\"Spain\",\"France\",\"Germany\",\"Germany\",\"France\",\"Spain\",\"Spain\",\"Germany\",\"Spain\",\"France\",\"France\",\"Spain\",\"France\",\"France\",\"France\",\"Spain\",\"France\",\"France\",\"France\",\"France\",\"Spain\",\"France\",\"Spain\",\"Germany\",\"Germany\",\"Germany\",\"France\",\"Spain\",\"Germany\",\"France\",\"France\",\"France\",\"France\",\"France\",\"Germany\",\"France\",\"Germany\",\"France\",\"Spain\",\"France\",\"France\",\"Spain\",\"Spain\",\"France\",\"France\",\"France\",\"Spain\",\"Spain\",\"Spain\",\"France\",\"Spain\",\"Spain\",\"Germany\",\"France\",\"France\",\"Spain\",\"France\",\"France\",\"Spain\",\"France\",\"Spain\",\"Germany\",\"Spain\",\"Germany\",\"France\",\"Spain\",\"Spain\",\"France\",\"France\",\"Spain\",\"Germany\",\"Spain\",\"Spain\",\"France\",\"France\",\"France\",\"France\",\"Germany\",\"Germany\",\"Spain\",\"France\",\"Spain\",\"France\",\"Spain\",\"Germany\",\"Spain\",\"Germany\",\"France\",\"France\",\"Spain\",\"Spain\",\"France\",\"France\",\"France\",\"France\",\"France\",\"Spain\",\"Spain\",\"Spain\",\"France\",\"Germany\",\"France\",\"France\",\"France\",\"Germany\",\"France\",\"Germany\",\"Germany\",\"Germany\",\"Spain\",\"France\",\"France\",\"France\",\"Germany\",\"Germany\",\"Germany\",\"France\",\"Spain\",\"Germany\",\"Germany\",\"France\",\"Spain\",\"France\",\"France\",\"Germany\",\"Germany\",\"France\",\"France\",\"France\",\"Germany\",\"Spain\",\"France\",\"France\",\"Spain\",\"France\",\"France\",\"France\",\"France\",\"Spain\",\"Spain\",\"Germany\",\"France\",\"France\",\"France\",\"Germany\",\"Germany\",\"France\",\"Germany\",\"Spain\",\"Spain\",\"Spain\",\"France\",\"France\",\"France\",\"France\",\"Germany\",\"Spain\",\"Spain\",\"Spain\",\"Germany\",\"France\",\"Spain\",\"Spain\",\"France\",\"France\",\"Germany\",\"France\",\"Spain\",\"France\",\"France\",\"France\",\"France\",\"France\",\"Germany\",\"Germany\",\"France\",\"Spain\",\"France\",\"France\",\"France\",\"Spain\",\"France\",\"Germany\",\"Spain\",\"Germany\",\"Germany\",\"Germany\",\"Spain\",\"France\",\"France\",\"France\",\"Germany\",\"France\",\"Germany\",\"Spain\",\"France\",\"France\",\"Germany\",\"France\",\"France\",\"France\",\"Germany\",\"Spain\",\"Germany\",\"France\",\"Spain\",\"Spain\",\"France\",\"Spain\",\"France\",\"France\",\"Spain\",\"Germany\",\"Spain\",\"Germany\",\"Germany\",\"Spain\",\"France\",\"France\",\"Spain\",\"Spain\",\"France\",\"France\",\"France\",\"France\",\"Germany\",\"France\",\"Germany\",\"France\",\"France\",\"France\",\"France\",\"Spain\",\"France\",\"France\",\"France\",\"France\",\"France\",\"Germany\",\"Germany\",\"Germany\",\"Spain\",\"Spain\",\"France\",\"France\",\"France\",\"France\",\"France\",\"Germany\",\"Germany\",\"Germany\",\"France\",\"Germany\",\"France\",\"Spain\",\"France\",\"Germany\",\"France\",\"Spain\",\"France\",\"Spain\",\"Spain\",\"Spain\",\"Spain\",\"France\",\"Germany\",\"France\",\"France\",\"France\",\"Germany\",\"France\",\"Spain\",\"France\",\"France\",\"Spain\",\"France\",\"France\",\"Germany\",\"France\",\"France\",\"France\",\"France\",\"Germany\",\"Spain\",\"France\",\"Germany\",\"France\",\"Germany\",\"France\",\"Spain\",\"France\",\"Germany\",\"France\",\"France\",\"France\",\"Germany\",\"Spain\",\"France\",\"France\",\"France\",\"France\",\"Spain\",\"Spain\",\"Germany\",\"France\",\"Germany\",\"France\",\"France\",\"Spain\",\"France\",\"Germany\",\"Spain\",\"Germany\",\"France\",\"Spain\",\"Germany\",\"France\",\"France\",\"France\",\"Germany\",\"Spain\",\"France\",\"Germany\",\"France\",\"France\",\"France\",\"Spain\",\"France\",\"France\",\"France\",\"Germany\",\"Germany\",\"Spain\",\"Spain\",\"Spain\",\"Germany\",\"France\",\"France\",\"France\",\"France\",\"France\",\"France\",\"France\",\"France\",\"Spain\",\"France\",\"France\",\"France\",\"Germany\",\"France\",\"France\",\"Spain\",\"France\",\"Spain\",\"Germany\",\"Germany\",\"Germany\",\"Germany\",\"Spain\",\"Spain\",\"Spain\",\"France\",\"France\",\"Spain\",\"France\",\"Spain\",\"France\",\"Spain\",\"Germany\",\"France\",\"France\",\"France\",\"France\",\"Spain\",\"Spain\",\"France\",\"Germany\",\"France\",\"France\",\"Spain\",\"France\",\"Spain\",\"France\",\"Spain\",\"Spain\",\"Spain\",\"Germany\",\"Spain\",\"France\",\"France\",\"Germany\",\"France\",\"France\",\"France\",\"France\",\"France\",\"Germany\",\"France\",\"Spain\",\"Spain\",\"Spain\",\"France\",\"Spain\",\"Spain\",\"Germany\",\"Spain\",\"France\",\"France\",\"Spain\",\"France\",\"Germany\",\"France\",\"France\",\"France\",\"France\",\"Spain\",\"France\",\"France\",\"Germany\",\"France\",\"France\",\"France\",\"France\",\"France\",\"France\",\"France\",\"Germany\",\"France\",\"Germany\",\"Spain\",\"Germany\",\"France\",\"France\",\"France\",\"France\",\"France\",\"France\",\"Germany\",\"France\",\"France\",\"France\",\"France\",\"France\",\"France\",\"France\",\"Germany\",\"France\",\"France\",\"Germany\",\"France\",\"Spain\",\"Spain\",\"France\",\"Spain\",\"Germany\",\"France\",\"Germany\",\"France\",\"Spain\",\"France\",\"France\",\"France\",\"Spain\",\"Spain\",\"Germany\",\"France\",\"France\",\"France\",\"Spain\",\"France\",\"France\",\"Spain\",\"Germany\",\"Spain\",\"France\",\"Germany\",\"France\",\"Spain\",\"France\",\"France\",\"France\",\"France\",\"Spain\",\"Germany\",\"France\",\"France\",\"Spain\",\"France\",\"Germany\",\"France\",\"Germany\",\"France\",\"Germany\",\"Germany\",\"Spain\",\"France\",\"Germany\",\"Germany\",\"France\",\"Germany\",\"France\",\"France\",\"Germany\",\"Spain\",\"Germany\",\"Germany\",\"France\",\"Germany\",\"France\",\"Spain\",\"Germany\",\"Spain\",\"France\",\"France\",\"Germany\",\"Spain\",\"France\",\"Spain\",\"Germany\",\"France\",\"France\",\"Spain\",\"France\",\"Germany\",\"France\",\"France\",\"France\",\"Spain\",\"France\",\"France\",\"France\",\"France\",\"Spain\",\"Germany\",\"Germany\",\"France\",\"France\",\"France\",\"France\",\"France\",\"Spain\",\"France\",\"Spain\",\"France\",\"France\",\"France\",\"Spain\",\"France\",\"France\",\"France\",\"France\",\"France\",\"Germany\",\"France\",\"Spain\",\"France\",\"Spain\",\"Germany\",\"France\",\"Spain\",\"France\",\"France\",\"Spain\",\"Germany\",\"France\",\"France\",\"Germany\",\"France\",\"France\",\"Germany\",\"Spain\",\"Germany\",\"France\",\"France\",\"France\",\"Germany\",\"France\",\"Spain\",\"Spain\",\"Spain\",\"France\",\"Spain\",\"France\",\"Spain\",\"France\",\"France\",\"Spain\",\"Spain\",\"Spain\",\"Spain\",\"Spain\",\"France\",\"France\",\"Spain\",\"Spain\",\"France\",\"Spain\",\"Germany\",\"France\",\"Spain\",\"Germany\",\"Spain\",\"France\",\"France\",\"Germany\",\"France\",\"France\",\"France\",\"France\",\"France\",\"Spain\",\"France\",\"France\",\"France\",\"France\",\"France\",\"Germany\",\"France\",\"France\",\"Spain\",\"Spain\",\"France\",\"France\",\"France\",\"Germany\",\"France\",\"Germany\",\"Germany\",\"Germany\",\"Spain\",\"France\",\"France\",\"France\",\"Spain\",\"Germany\",\"France\",\"Germany\",\"Spain\",\"France\",\"France\",\"Spain\",\"Spain\",\"France\",\"France\",\"Spain\",\"Spain\",\"Spain\",\"Spain\",\"Spain\",\"Spain\",\"Spain\",\"France\",\"France\",\"France\",\"France\",\"France\",\"France\",\"France\",\"Spain\",\"Spain\",\"France\",\"France\",\"Germany\",\"France\",\"France\",\"Spain\",\"France\",\"Germany\",\"France\",\"France\",\"France\",\"Germany\",\"Spain\",\"France\",\"France\",\"Germany\",\"France\",\"Spain\",\"Germany\",\"Spain\",\"France\",\"Spain\",\"France\",\"Germany\",\"France\",\"France\",\"France\",\"France\",\"France\",\"France\",\"France\",\"Germany\",\"France\",\"Germany\",\"France\",\"Germany\",\"France\",\"Spain\",\"France\",\"Spain\",\"France\",\"Germany\",\"France\",\"Spain\",\"France\",\"Germany\",\"France\",\"France\",\"Germany\",\"France\",\"France\",\"France\",\"Spain\",\"France\",\"France\",\"Germany\",\"France\",\"Germany\",\"France\",\"France\",\"France\",\"Germany\",\"Spain\",\"France\",\"France\",\"France\",\"France\",\"Germany\",\"France\",\"Spain\",\"France\",\"Germany\",\"France\",\"Spain\",\"France\",\"Spain\",\"Germany\",\"Spain\",\"Spain\",\"France\",\"Germany\",\"France\",\"France\",\"France\",\"France\",\"Spain\",\"France\",\"France\",\"Spain\",\"France\",\"France\",\"France\",\"France\",\"Germany\",\"France\",\"France\",\"France\",\"France\",\"Spain\",\"France\",\"Spain\",\"Spain\",\"France\",\"Spain\",\"Germany\",\"Germany\",\"France\",\"Spain\",\"France\",\"Spain\",\"Spain\",\"Spain\",\"France\",\"Germany\",\"France\",\"Germany\",\"Spain\",\"France\",\"France\",\"Spain\",\"France\",\"France\",\"Spain\",\"Germany\",\"France\",\"France\",\"France\",\"France\",\"France\",\"Spain\",\"Spain\",\"France\",\"France\",\"France\",\"France\",\"France\",\"France\",\"Germany\",\"Germany\",\"Spain\",\"Germany\",\"Germany\",\"France\",\"Spain\",\"Germany\",\"Spain\",\"France\",\"Germany\",\"France\",\"Spain\",\"France\",\"France\",\"Spain\",\"Spain\",\"France\",\"France\",\"Germany\",\"Spain\",\"Spain\",\"France\",\"France\",\"Germany\",\"Spain\",\"Germany\",\"France\",\"Germany\",\"France\",\"Spain\",\"Spain\",\"Spain\",\"France\",\"France\",\"Germany\",\"France\",\"France\",\"France\",\"Spain\",\"France\",\"France\",\"France\",\"France\",\"France\",\"France\",\"France\",\"Spain\",\"France\",\"France\",\"Germany\",\"Germany\",\"France\",\"France\",\"France\",\"France\",\"France\",\"France\",\"France\",\"Spain\",\"France\",\"Spain\",\"France\",\"Spain\",\"France\",\"France\",\"France\",\"Germany\",\"Germany\",\"France\",\"Germany\",\"Germany\",\"France\",\"Spain\",\"Spain\",\"France\",\"Germany\",\"France\",\"Germany\",\"France\",\"France\",\"France\",\"Germany\",\"France\",\"France\",\"Germany\",\"Spain\",\"Spain\",\"France\",\"Spain\",\"France\",\"Spain\",\"France\",\"France\",\"Germany\",\"Germany\",\"France\",\"Germany\",\"France\",\"Germany\",\"France\",\"Spain\",\"Spain\",\"France\",\"France\",\"France\",\"Spain\",\"France\",\"France\",\"Germany\",\"France\",\"France\",\"Germany\",\"France\",\"Germany\",\"France\",\"France\",\"Spain\",\"France\",\"France\",\"Spain\",\"Spain\",\"France\",\"Spain\",\"France\",\"Spain\",\"France\",\"Spain\",\"Spain\",\"France\",\"Spain\",\"Spain\",\"France\",\"Germany\",\"Spain\",\"France\",\"Spain\",\"Spain\",\"Germany\",\"France\",\"France\",\"France\",\"France\",\"France\",\"Spain\",\"France\",\"Spain\",\"France\",\"Germany\",\"France\",\"France\",\"France\",\"Spain\",\"Spain\",\"Germany\",\"France\",\"France\",\"France\",\"Spain\",\"Germany\",\"France\",\"Spain\",\"Germany\",\"France\",\"France\",\"France\",\"Spain\",\"Spain\",\"France\",\"France\",\"France\",\"Spain\",\"France\",\"Germany\",\"France\",\"Germany\",\"France\",\"Spain\",\"France\",\"Germany\",\"Spain\",\"France\",\"France\",\"France\",\"France\",\"Germany\",\"France\",\"Spain\",\"France\",\"France\",\"Germany\",\"Germany\",\"France\",\"France\",\"France\",\"Germany\",\"Spain\",\"Germany\",\"Germany\",\"France\",\"France\",\"France\",\"France\",\"Germany\",\"France\",\"France\",\"Germany\",\"France\",\"France\",\"France\",\"France\",\"France\",\"Spain\",\"France\",\"Spain\",\"France\",\"Spain\",\"France\",\"Germany\",\"Spain\",\"Germany\",\"Spain\",\"France\",\"France\",\"Germany\",\"France\",\"France\",\"Spain\",\"France\",\"Spain\",\"Spain\",\"Germany\",\"Germany\",\"France\",\"France\",\"France\",\"Germany\",\"France\",\"Spain\",\"France\",\"Spain\",\"France\",\"France\",\"France\",\"France\",\"France\",\"Germany\",\"France\",\"France\",\"Spain\",\"Germany\",\"Germany\",\"France\",\"Germany\",\"Spain\",\"France\",\"France\",\"Spain\",\"France\",\"Spain\",\"France\",\"Germany\",\"Germany\",\"Germany\",\"Germany\",\"France\",\"Spain\",\"France\",\"France\",\"France\",\"Germany\",\"France\",\"Germany\",\"France\",\"France\",\"Spain\",\"France\",\"France\",\"Spain\",\"France\",\"Spain\",\"France\",\"Spain\",\"France\",\"Germany\",\"Germany\",\"Germany\",\"Germany\",\"France\",\"France\",\"Germany\",\"Germany\",\"France\",\"France\",\"Germany\",\"France\",\"France\",\"France\",\"Spain\",\"France\",\"France\",\"France\",\"Germany\",\"Spain\",\"Germany\",\"Germany\",\"France\",\"Spain\",\"Spain\",\"France\",\"France\",\"France\",\"Spain\",\"Germany\",\"Spain\",\"France\",\"France\",\"France\",\"France\",\"France\",\"France\",\"France\",\"France\",\"France\",\"Spain\",\"Spain\",\"Germany\",\"Spain\",\"Spain\",\"France\",\"Germany\",\"Spain\",\"France\",\"Spain\",\"France\",\"Spain\",\"France\",\"France\",\"France\",\"Spain\",\"Spain\",\"Germany\",\"Spain\",\"France\",\"France\",\"Spain\",\"Germany\",\"France\",\"France\",\"France\",\"France\",\"France\",\"Germany\",\"Spain\",\"France\",\"France\",\"Germany\",\"France\",\"France\",\"Spain\",\"Spain\",\"France\",\"Spain\",\"France\",\"France\",\"France\",\"France\",\"Spain\",\"France\",\"France\",\"Spain\",\"France\",\"France\",\"Germany\",\"Spain\",\"Germany\",\"France\",\"Germany\",\"Germany\",\"France\",\"France\",\"Germany\",\"France\",\"Germany\",\"Germany\",\"Spain\",\"France\",\"Germany\",\"Spain\",\"Spain\",\"Spain\",\"France\",\"France\",\"Germany\",\"Spain\",\"France\",\"France\",\"France\",\"Spain\",\"France\",\"Spain\",\"France\",\"France\",\"France\",\"Germany\",\"France\",\"Spain\",\"France\",\"Spain\",\"France\",\"Spain\",\"Spain\",\"Spain\",\"Germany\",\"Spain\",\"France\",\"France\",\"Germany\",\"Germany\",\"Germany\",\"Spain\",\"France\",\"Germany\",\"Germany\",\"France\",\"Spain\",\"France\",\"France\",\"Spain\",\"Spain\",\"Spain\",\"France\",\"Germany\",\"France\",\"France\",\"France\",\"Germany\",\"France\",\"France\",\"France\",\"Spain\",\"France\",\"France\",\"Germany\",\"France\",\"France\",\"France\",\"France\",\"Germany\",\"Spain\",\"Germany\",\"Germany\",\"France\",\"France\",\"France\",\"France\",\"France\",\"France\",\"Germany\",\"France\",\"Germany\",\"Spain\",\"Spain\",\"France\",\"Germany\",\"France\",\"Spain\",\"France\",\"France\",\"Germany\",\"France\",\"Spain\",\"France\",\"Germany\",\"France\",\"Spain\",\"France\",\"France\",\"France\",\"Spain\",\"France\",\"France\",\"France\",\"France\",\"France\",\"Germany\",\"France\",\"France\",\"Spain\",\"Spain\",\"Spain\",\"France\",\"Spain\",\"France\",\"France\",\"France\",\"France\",\"Spain\",\"Spain\",\"Germany\",\"Spain\",\"France\",\"Germany\",\"Spain\",\"Germany\",\"France\",\"France\",\"Germany\",\"Germany\",\"France\",\"Spain\",\"Spain\",\"Spain\",\"Spain\",\"France\",\"Spain\",\"Germany\",\"France\",\"France\",\"France\",\"Germany\",\"France\",\"Spain\",\"France\",\"France\",\"Spain\",\"Germany\",\"Spain\",\"Spain\",\"France\",\"France\",\"Spain\",\"Spain\",\"France\",\"France\",\"Spain\",\"France\",\"France\",\"France\",\"France\",\"France\",\"France\",\"France\",\"France\",\"France\",\"Germany\",\"Germany\",\"Spain\",\"France\",\"Germany\",\"Spain\",\"France\",\"Germany\",\"France\",\"France\",\"Germany\",\"France\",\"Germany\",\"France\",\"France\",\"Spain\",\"France\",\"Germany\",\"Spain\",\"France\",\"Spain\",\"France\",\"Germany\",\"Germany\",\"France\",\"France\",\"France\",\"Germany\",\"France\",\"France\",\"Spain\",\"France\",\"France\",\"Spain\",\"France\",\"France\",\"Germany\",\"Spain\",\"France\",\"France\",\"Spain\",\"France\",\"Spain\",\"France\",\"France\",\"Spain\",\"Spain\",\"Spain\",\"Germany\",\"Spain\",\"Germany\",\"France\",\"France\",\"Spain\",\"France\",\"Germany\",\"Germany\",\"Spain\",\"Spain\",\"Spain\",\"Spain\",\"France\",\"Germany\",\"Spain\",\"Spain\",\"Spain\",\"France\",\"Spain\",\"France\",\"France\",\"France\",\"France\",\"France\",\"Spain\",\"Germany\",\"France\",\"Germany\",\"Germany\",\"Spain\",\"France\",\"France\",\"France\",\"France\",\"France\",\"Spain\",\"France\",\"France\",\"France\",\"Spain\",\"France\",\"Spain\",\"Germany\",\"France\",\"France\",\"France\",\"France\",\"France\",\"Spain\",\"Spain\",\"Germany\",\"France\",\"Spain\",\"France\",\"France\",\"Germany\",\"France\",\"Spain\",\"Germany\",\"Spain\",\"Spain\",\"France\",\"France\",\"Germany\",\"Germany\",\"Spain\",\"France\",\"France\",\"Spain\",\"France\",\"Germany\",\"France\",\"France\",\"France\",\"France\",\"Spain\",\"France\",\"Spain\",\"Germany\",\"France\",\"Germany\",\"France\",\"France\",\"France\",\"Germany\",\"France\",\"Germany\",\"France\",\"Germany\",\"Spain\",\"Germany\",\"Germany\",\"France\",\"France\",\"Germany\",\"Germany\",\"France\",\"Germany\",\"Germany\",\"France\",\"Germany\",\"France\",\"Germany\",\"Spain\",\"France\",\"France\",\"France\",\"France\",\"France\",\"France\",\"France\",\"France\",\"France\",\"Spain\",\"France\",\"France\",\"Germany\",\"France\",\"Germany\",\"France\",\"France\",\"France\",\"France\",\"Spain\",\"France\",\"Germany\",\"France\",\"Germany\",\"Spain\",\"Germany\",\"Germany\",\"France\",\"France\",\"Germany\",\"France\",\"Spain\",\"Germany\",\"France\",\"Spain\",\"Spain\",\"France\",\"Spain\",\"Germany\",\"France\",\"France\",\"Germany\",\"France\",\"Germany\",\"France\",\"France\",\"France\",\"Spain\",\"France\",\"France\",\"France\",\"Germany\",\"France\",\"Germany\",\"France\",\"Germany\",\"Spain\",\"France\",\"Spain\",\"Spain\",\"Spain\",\"France\",\"France\",\"Germany\",\"France\",\"Spain\",\"Spain\",\"Spain\",\"Spain\",\"Germany\",\"France\",\"Spain\",\"Germany\",\"France\",\"Germany\",\"France\",\"France\",\"Germany\",\"France\",\"Spain\",\"France\",\"Spain\",\"Spain\",\"Spain\",\"France\",\"Spain\",\"France\",\"France\",\"Spain\",\"France\",\"France\",\"France\",\"Spain\",\"Spain\",\"France\",\"France\",\"France\",\"Spain\",\"Germany\",\"France\",\"France\",\"Spain\",\"France\",\"Germany\",\"France\",\"Germany\",\"Germany\",\"France\",\"Germany\",\"France\",\"Germany\",\"France\",\"France\",\"France\",\"France\",\"France\",\"Germany\",\"Spain\",\"France\",\"Spain\",\"France\",\"Spain\",\"Germany\",\"Germany\",\"Germany\",\"France\",\"Spain\",\"Germany\",\"France\",\"Spain\",\"Germany\",\"Germany\",\"France\",\"France\",\"Germany\",\"Spain\",\"France\",\"France\",\"France\",\"Spain\",\"Spain\",\"France\",\"France\",\"France\",\"France\",\"Germany\",\"France\",\"Germany\",\"Spain\",\"Spain\",\"France\",\"France\",\"Germany\",\"Germany\",\"France\",\"France\",\"France\",\"France\",\"Spain\",\"Germany\",\"Spain\",\"Germany\",\"France\",\"France\",\"France\",\"France\",\"France\",\"France\",\"France\",\"Spain\",\"Spain\",\"Spain\",\"France\",\"Spain\",\"Spain\",\"France\",\"Spain\",\"France\",\"Germany\",\"France\",\"Spain\",\"Spain\",\"Spain\",\"France\",\"Germany\",\"Spain\",\"France\",\"France\",\"Germany\",\"Spain\",\"Germany\",\"France\",\"France\",\"Spain\",\"Germany\",\"Spain\",\"Germany\",\"France\",\"Germany\",\"Germany\",\"Germany\",\"Germany\",\"Germany\",\"France\",\"France\",\"France\",\"France\",\"Germany\",\"Spain\",\"Germany\",\"Germany\",\"France\",\"France\",\"Spain\",\"Germany\",\"France\",\"France\",\"France\",\"France\",\"Spain\",\"France\",\"France\",\"France\",\"Germany\",\"France\",\"Spain\",\"France\",\"Germany\",\"France\",\"Germany\",\"France\",\"France\",\"Spain\",\"Germany\",\"France\",\"Spain\",\"France\",\"France\",\"France\",\"Germany\",\"Spain\",\"Spain\",\"France\",\"Germany\",\"Spain\",\"France\",\"France\",\"Germany\",\"France\",\"Germany\",\"France\",\"France\",\"Spain\",\"France\",\"France\",\"France\",\"France\",\"France\",\"Spain\",\"Germany\",\"Germany\",\"Spain\",\"Spain\",\"Spain\",\"Germany\",\"Spain\",\"France\",\"Spain\",\"Germany\",\"France\",\"France\",\"Spain\",\"Spain\",\"Spain\",\"Germany\",\"Spain\",\"France\",\"Spain\",\"Germany\",\"Spain\",\"France\",\"France\",\"Germany\",\"France\",\"France\",\"France\",\"France\",\"Spain\",\"Spain\",\"Germany\",\"Spain\",\"Germany\",\"France\",\"France\",\"France\",\"France\",\"France\",\"France\",\"Germany\",\"France\",\"France\",\"France\",\"Spain\",\"Spain\",\"Spain\",\"France\",\"Germany\",\"France\",\"Spain\",\"France\",\"Germany\",\"Spain\",\"Germany\",\"Spain\",\"Germany\",\"Germany\",\"Germany\",\"France\",\"France\",\"Germany\",\"France\",\"France\",\"Spain\",\"France\",\"France\",\"Germany\",\"Germany\",\"Spain\",\"Spain\",\"Spain\",\"Spain\",\"France\",\"Spain\",\"Spain\",\"France\",\"France\",\"Spain\",\"Spain\",\"France\",\"Germany\",\"Germany\",\"France\",\"France\",\"Germany\",\"France\",\"Germany\",\"France\",\"Spain\",\"France\",\"France\",\"Spain\",\"Germany\",\"France\",\"France\",\"Spain\",\"France\",\"France\",\"France\",\"Germany\",\"Spain\",\"France\",\"Germany\",\"France\",\"Germany\",\"Spain\",\"Spain\",\"Germany\",\"France\",\"France\",\"Spain\",\"Spain\",\"France\",\"France\",\"France\",\"France\",\"Spain\",\"France\",\"France\",\"France\",\"France\",\"Spain\",\"Germany\",\"Germany\",\"Spain\",\"France\",\"France\",\"France\",\"Germany\",\"France\",\"France\",\"France\",\"France\",\"France\",\"France\",\"Spain\",\"France\",\"France\",\"France\",\"France\",\"France\",\"France\",\"France\",\"Spain\",\"Germany\",\"France\",\"France\",\"Spain\",\"France\",\"France\",\"France\",\"France\",\"Spain\",\"France\",\"Spain\",\"Spain\",\"Germany\",\"France\",\"France\",\"France\",\"Spain\",\"France\",\"Germany\",\"Spain\",\"France\",\"Spain\",\"Spain\",\"France\",\"France\",\"Germany\",\"Spain\",\"Spain\",\"France\",\"Germany\",\"France\",\"France\",\"France\",\"France\",\"France\",\"France\",\"Germany\",\"Spain\",\"Germany\",\"Spain\",\"Germany\",\"Germany\",\"Spain\",\"France\",\"France\",\"France\",\"France\",\"France\",\"Spain\",\"Germany\",\"France\",\"France\",\"France\",\"France\",\"France\",\"Germany\",\"France\",\"Spain\",\"France\",\"Germany\",\"Spain\",\"France\",\"Spain\",\"Spain\",\"Germany\",\"Spain\",\"Germany\",\"France\",\"Germany\",\"Germany\",\"Spain\",\"France\",\"France\",\"France\",\"Germany\",\"Germany\",\"France\",\"Germany\",\"France\",\"Spain\",\"France\",\"France\",\"Spain\",\"France\",\"France\",\"Germany\",\"France\",\"France\",\"France\",\"Spain\",\"France\",\"Germany\",\"Spain\",\"France\",\"France\",\"France\",\"France\",\"France\",\"Spain\",\"France\",\"France\",\"France\",\"France\",\"Spain\",\"Spain\",\"France\",\"France\",\"France\",\"France\",\"Spain\",\"France\",\"France\",\"France\",\"France\",\"Spain\",\"France\",\"Spain\",\"France\",\"Germany\",\"France\",\"Spain\",\"France\",\"Germany\",\"Spain\",\"France\",\"Germany\",\"Germany\",\"France\",\"Spain\",\"France\",\"France\",\"France\",\"France\",\"Germany\",\"Spain\",\"Spain\",\"Germany\",\"Spain\",\"Germany\",\"Spain\",\"Germany\",\"France\",\"France\",\"France\",\"Spain\",\"France\",\"Spain\",\"France\",\"France\",\"France\",\"Spain\",\"Spain\",\"France\",\"France\",\"France\",\"France\",\"France\",\"Spain\",\"Spain\",\"Germany\",\"Germany\",\"Spain\",\"Germany\",\"France\",\"Germany\",\"Germany\",\"Germany\",\"Spain\",\"France\",\"Spain\",\"France\",\"Spain\",\"Germany\",\"Spain\",\"France\",\"France\",\"Germany\",\"Germany\",\"Spain\",\"France\",\"France\",\"France\",\"Spain\",\"France\",\"France\",\"Germany\",\"France\",\"France\",\"Spain\",\"France\",\"France\",\"France\",\"France\",\"France\",\"Spain\",\"France\",\"France\",\"Germany\",\"Germany\",\"Spain\",\"France\",\"Spain\",\"Spain\",\"Germany\",\"Spain\",\"France\",\"Spain\",\"France\",\"Germany\",\"France\",\"Spain\",\"France\",\"Spain\",\"Germany\",\"Germany\",\"France\",\"France\",\"Spain\",\"Germany\",\"Germany\",\"Germany\",\"France\",\"Spain\",\"France\",\"Spain\",\"Spain\",\"France\",\"France\",\"Germany\",\"Germany\",\"Germany\",\"France\",\"France\",\"Spain\",\"Germany\",\"Germany\",\"France\",\"France\",\"France\",\"France\",\"Germany\",\"France\",\"France\",\"Germany\",\"Spain\",\"Spain\",\"France\",\"France\",\"France\",\"Germany\",\"France\",\"France\",\"Spain\",\"France\",\"Germany\",\"France\",\"Spain\",\"Germany\",\"Spain\",\"France\",\"Germany\",\"France\",\"Spain\",\"France\",\"Germany\",\"France\",\"Spain\",\"Spain\",\"France\",\"France\",\"France\",\"France\",\"Germany\",\"France\",\"France\",\"France\",\"Germany\",\"France\",\"France\",\"Germany\",\"France\",\"Spain\",\"France\",\"France\",\"Germany\",\"France\",\"Spain\",\"Spain\",\"Germany\",\"Germany\",\"Germany\",\"France\",\"France\",\"France\",\"Spain\",\"France\",\"Germany\",\"France\",\"Germany\",\"Spain\",\"Spain\",\"Spain\",\"France\",\"Germany\",\"France\",\"France\",\"France\",\"France\",\"Spain\",\"France\",\"Spain\",\"Spain\",\"Germany\",\"France\",\"Germany\",\"France\",\"Spain\",\"France\",\"France\",\"France\",\"France\",\"France\",\"France\",\"Spain\",\"Spain\",\"Spain\",\"Spain\",\"Spain\",\"France\",\"France\",\"France\",\"France\",\"Spain\",\"Spain\",\"France\",\"France\",\"Germany\",\"France\",\"France\",\"Spain\",\"Germany\",\"France\",\"Spain\",\"France\",\"France\",\"France\",\"Germany\",\"France\",\"Spain\",\"France\",\"Germany\",\"Spain\",\"Spain\",\"Spain\",\"France\",\"France\",\"Spain\",\"Germany\",\"Germany\",\"Spain\",\"Germany\",\"France\",\"Spain\",\"France\",\"France\",\"Germany\",\"France\",\"France\",\"Spain\",\"France\",\"France\",\"Spain\",\"France\",\"France\",\"Spain\",\"Germany\",\"Germany\",\"France\",\"France\",\"France\",\"Germany\",\"France\",\"Spain\",\"Spain\",\"France\",\"Germany\",\"Germany\",\"Spain\",\"France\",\"Spain\",\"Spain\",\"France\",\"Spain\",\"Spain\",\"France\",\"France\",\"France\",\"France\",\"France\",\"Spain\",\"France\",\"Germany\",\"Spain\",\"Spain\",\"France\",\"Spain\",\"Spain\",\"Germany\",\"France\",\"France\",\"France\",\"France\",\"Germany\",\"Spain\",\"Spain\",\"Spain\",\"France\",\"France\",\"Spain\",\"France\",\"France\",\"France\",\"France\",\"France\",\"Germany\",\"France\",\"Spain\",\"France\",\"France\",\"France\",\"France\",\"Germany\",\"Germany\",\"Spain\",\"France\",\"France\",\"Spain\",\"Spain\",\"Spain\",\"France\",\"France\",\"France\",\"Spain\",\"France\",\"Spain\",\"France\",\"France\",\"France\",\"France\",\"France\",\"France\",\"France\",\"Spain\",\"France\",\"France\",\"Spain\",\"France\",\"Spain\",\"Spain\",\"Germany\",\"France\",\"France\",\"France\",\"France\",\"France\",\"France\",\"France\",\"France\",\"Germany\",\"France\",\"Germany\",\"France\",\"France\",\"France\",\"France\",\"France\",\"France\",\"France\",\"France\",\"Spain\",\"France\",\"France\",\"Germany\",\"France\",\"France\",\"Spain\",\"Spain\",\"France\",\"France\",\"Spain\",\"France\",\"Germany\",\"Spain\",\"Germany\",\"France\",\"Germany\",\"France\",\"France\",\"Spain\",\"Germany\",\"Germany\",\"France\",\"Germany\",\"France\",\"Spain\",\"France\",\"Spain\",\"Germany\",\"Spain\",\"Germany\",\"France\",\"Spain\",\"Spain\",\"France\",\"Germany\",\"Spain\",\"France\",\"Germany\",\"France\",\"Spain\",\"Spain\",\"Spain\",\"France\",\"Germany\",\"Germany\",\"Germany\",\"France\",\"France\",\"Spain\",\"Spain\",\"France\",\"Germany\",\"Spain\",\"France\",\"Spain\",\"France\",\"France\",\"Spain\",\"Spain\",\"Spain\",\"France\",\"Germany\",\"France\",\"France\",\"France\",\"Spain\",\"Spain\",\"Spain\",\"Germany\",\"France\",\"France\",\"Spain\",\"Germany\",\"France\",\"France\",\"Spain\",\"Spain\",\"Germany\",\"France\",\"Germany\",\"France\",\"France\",\"Germany\",\"France\",\"France\",\"Spain\",\"Germany\",\"Germany\",\"France\",\"Germany\",\"Germany\",\"Germany\",\"Germany\",\"France\",\"Germany\",\"Germany\",\"France\",\"France\",\"France\",\"Spain\",\"Germany\",\"France\",\"France\",\"Germany\",\"France\",\"Germany\",\"Germany\",\"France\",\"Spain\",\"Germany\",\"France\",\"France\",\"France\",\"France\",\"Spain\",\"France\",\"France\",\"France\",\"Spain\",\"France\",\"Spain\",\"France\",\"France\",\"France\",\"France\",\"France\",\"Germany\",\"Germany\",\"France\",\"France\",\"Germany\",\"France\",\"France\",\"Spain\",\"Germany\",\"France\",\"France\",\"Spain\",\"Spain\",\"Spain\",\"Germany\",\"Germany\",\"France\",\"Germany\",\"France\",\"Germany\",\"France\",\"France\",\"Spain\",\"Spain\",\"France\",\"France\",\"France\",\"France\",\"Germany\",\"France\",\"France\",\"Spain\",\"France\",\"France\",\"France\",\"France\",\"France\",\"Germany\",\"France\",\"France\",\"Germany\",\"Spain\",\"Germany\",\"France\",\"France\",\"Germany\",\"France\",\"France\",\"Germany\",\"France\",\"Spain\",\"France\",\"Spain\",\"France\",\"France\",\"France\",\"France\",\"Spain\",\"Germany\",\"France\",\"France\",\"France\",\"France\",\"France\",\"France\",\"France\",\"France\",\"France\",\"Germany\",\"Germany\",\"Spain\",\"France\",\"France\",\"France\",\"France\",\"Spain\",\"France\",\"Germany\",\"France\",\"Spain\",\"Germany\",\"France\",\"France\",\"Spain\",\"France\",\"France\",\"Spain\",\"France\",\"France\",\"France\",\"Germany\",\"France\",\"France\",\"France\",\"France\",\"France\",\"Spain\",\"France\",\"France\",\"France\",\"France\",\"France\",\"France\",\"France\",\"France\",\"Germany\",\"France\",\"France\",\"France\",\"Germany\",\"Germany\",\"France\",\"France\",\"France\",\"Spain\",\"France\",\"Germany\",\"Spain\",\"France\",\"Germany\",\"Spain\",\"Germany\",\"France\",\"France\",\"Spain\",\"Spain\",\"Spain\",\"Spain\",\"France\",\"France\",\"Spain\",\"France\",\"Germany\",\"Germany\",\"France\",\"France\",\"Germany\",\"France\",\"Germany\",\"France\",\"Spain\",\"France\",\"France\",\"Spain\",\"France\",\"France\",\"Spain\",\"France\",\"France\",\"Spain\",\"Germany\",\"France\",\"France\",\"France\",\"France\",\"France\",\"Spain\",\"France\",\"France\",\"Spain\",\"France\",\"Germany\",\"France\",\"France\",\"France\",\"Germany\",\"Germany\",\"France\",\"Germany\",\"Germany\",\"France\",\"Germany\",\"Germany\",\"Spain\",\"France\",\"Spain\",\"France\",\"France\",\"France\",\"France\",\"France\",\"Germany\",\"Spain\",\"Germany\",\"Germany\",\"France\",\"Spain\",\"France\",\"France\",\"France\",\"Germany\",\"Spain\",\"Spain\",\"Germany\",\"Spain\",\"France\",\"Germany\",\"France\",\"Spain\",\"Germany\",\"France\",\"Germany\",\"Spain\",\"France\",\"France\",\"France\",\"Germany\",\"France\",\"France\",\"France\",\"Spain\",\"France\",\"France\",\"Spain\",\"Germany\",\"France\",\"Spain\",\"France\",\"Spain\",\"France\",\"Germany\",\"Germany\",\"France\",\"Spain\",\"France\",\"France\",\"France\",\"France\",\"Spain\",\"France\",\"France\",\"Spain\",\"Spain\",\"France\",\"Spain\",\"Spain\",\"France\",\"Spain\",\"France\",\"France\",\"Germany\",\"Germany\",\"France\",\"Spain\",\"France\",\"Germany\",\"Spain\",\"Spain\",\"Germany\",\"Germany\",\"Spain\",\"France\",\"France\",\"France\",\"France\",\"Germany\",\"France\",\"Spain\",\"France\",\"Spain\",\"France\",\"Spain\",\"Germany\",\"France\",\"France\",\"Germany\",\"Germany\",\"Spain\",\"Spain\",\"Germany\",\"France\",\"France\",\"France\",\"Spain\",\"France\",\"Spain\",\"Spain\",\"France\",\"France\",\"France\",\"Spain\",\"Germany\",\"France\",\"Spain\",\"Germany\",\"France\",\"France\",\"France\",\"France\",\"France\",\"Germany\",\"France\",\"Germany\",\"Germany\",\"Germany\",\"France\",\"France\",\"France\",\"Spain\",\"France\",\"France\",\"France\",\"France\",\"Spain\",\"France\",\"Spain\",\"France\",\"France\",\"France\",\"Spain\",\"Germany\",\"France\",\"Germany\",\"France\",\"Germany\",\"France\",\"France\",\"Germany\",\"Spain\",\"France\",\"Spain\",\"France\",\"Germany\",\"Spain\",\"France\",\"Spain\",\"Spain\",\"France\",\"France\",\"France\",\"France\",\"France\",\"France\",\"France\",\"Germany\",\"Spain\",\"Germany\",\"Spain\",\"France\",\"France\",\"France\",\"France\",\"France\",\"Spain\",\"France\",\"France\",\"France\",\"France\",\"France\",\"Spain\",\"France\",\"Germany\",\"Germany\",\"France\",\"Germany\",\"Spain\",\"France\",\"France\",\"Germany\",\"Germany\",\"France\",\"France\",\"France\",\"France\",\"France\",\"Spain\",\"Spain\",\"France\",\"France\",\"France\",\"Spain\",\"France\",\"Germany\",\"Spain\",\"France\",\"France\",\"France\",\"Spain\",\"France\",\"Germany\",\"France\",\"France\",\"Germany\",\"Spain\",\"Germany\",\"France\",\"France\",\"Spain\",\"France\",\"France\",\"Spain\",\"France\",\"Germany\",\"Spain\",\"France\",\"Germany\",\"France\",\"Germany\",\"France\",\"France\",\"France\",\"Spain\",\"Spain\",\"France\",\"Germany\",\"Germany\",\"France\",\"Germany\",\"Spain\",\"Germany\",\"France\",\"France\",\"France\",\"France\",\"France\",\"France\",\"Germany\",\"France\",\"France\",\"France\",\"France\",\"France\",\"France\",\"Spain\",\"France\",\"France\",\"Spain\",\"France\",\"France\",\"Spain\",\"Germany\",\"France\",\"Germany\",\"Spain\",\"Germany\",\"France\",\"France\",\"Spain\",\"Spain\",\"France\",\"Spain\",\"France\",\"France\",\"Germany\",\"France\",\"France\",\"France\",\"Spain\",\"France\",\"France\",\"Spain\",\"France\",\"France\",\"France\",\"France\",\"Germany\",\"France\",\"Spain\",\"France\",\"Germany\",\"Spain\",\"France\",\"Germany\",\"France\",\"France\",\"Germany\",\"France\",\"France\",\"Spain\",\"Germany\",\"Germany\",\"France\",\"Spain\",\"France\",\"Spain\",\"France\",\"France\",\"Germany\",\"Germany\",\"France\",\"France\",\"Spain\",\"France\",\"Spain\",\"France\",\"France\",\"Spain\",\"Germany\",\"France\",\"France\",\"France\",\"France\",\"France\",\"France\",\"France\",\"France\",\"Spain\",\"France\",\"Germany\",\"France\",\"France\",\"France\",\"Spain\",\"Spain\",\"Spain\",\"Germany\",\"France\",\"Spain\",\"France\",\"France\",\"Germany\",\"France\",\"Germany\",\"Germany\",\"France\",\"France\",\"Spain\",\"Spain\",\"Spain\",\"France\",\"France\",\"France\",\"France\",\"France\",\"Spain\",\"France\",\"Germany\",\"Germany\",\"Spain\",\"France\",\"Germany\",\"Spain\",\"Spain\",\"France\",\"Germany\",\"France\",\"France\",\"Germany\",\"France\",\"Germany\",\"France\",\"France\",\"France\",\"Germany\",\"Spain\",\"Germany\",\"France\",\"Germany\",\"France\",\"France\",\"Germany\",\"Germany\",\"France\",\"France\",\"France\",\"Germany\",\"France\",\"France\",\"Spain\",\"Germany\",\"France\",\"France\",\"France\",\"France\",\"France\",\"France\",\"Spain\",\"Germany\",\"France\",\"Germany\",\"France\",\"Germany\",\"France\",\"France\",\"France\",\"Spain\",\"Spain\",\"Germany\",\"Spain\",\"France\",\"Germany\",\"Spain\",\"Germany\",\"Spain\",\"France\",\"France\",\"France\",\"France\",\"Spain\",\"France\",\"France\",\"Spain\",\"Germany\",\"Germany\",\"Spain\",\"France\",\"France\",\"Spain\",\"Spain\",\"France\",\"Germany\",\"Spain\",\"Germany\",\"France\",\"Germany\",\"Spain\",\"Spain\",\"France\",\"France\",\"France\",\"Germany\",\"France\",\"France\",\"France\",\"France\",\"Spain\",\"Germany\",\"Spain\",\"Germany\",\"France\",\"Spain\",\"Spain\",\"France\",\"Spain\",\"France\",\"France\",\"Germany\",\"Spain\",\"Spain\",\"Spain\",\"France\",\"France\",\"France\",\"France\",\"Germany\",\"France\",\"France\",\"France\",\"France\",\"France\",\"Spain\",\"France\",\"Spain\",\"Germany\",\"France\",\"France\",\"Spain\",\"Spain\",\"Germany\",\"Spain\",\"France\",\"France\",\"Spain\",\"Spain\",\"France\",\"Spain\",\"Spain\",\"France\",\"Spain\",\"France\",\"France\",\"France\",\"Spain\",\"Spain\",\"Germany\",\"Germany\",\"France\",\"France\",\"Spain\",\"France\",\"France\",\"Germany\",\"France\",\"France\",\"Spain\",\"France\",\"France\",\"Spain\",\"Spain\",\"Spain\",\"France\",\"Germany\",\"France\",\"France\",\"France\",\"France\",\"France\",\"France\",\"Germany\",\"Germany\",\"France\",\"Spain\",\"France\",\"Germany\",\"France\",\"France\",\"Spain\",\"Spain\",\"France\",\"Spain\",\"Germany\",\"Spain\",\"Germany\",\"France\",\"France\",\"Germany\",\"France\",\"Germany\",\"Spain\",\"Germany\",\"France\",\"France\",\"Spain\",\"France\",\"France\",\"Spain\",\"Spain\",\"Germany\",\"France\",\"Germany\",\"Spain\",\"France\",\"Germany\",\"France\",\"France\",\"France\",\"France\",\"France\",\"France\",\"France\",\"France\",\"France\",\"France\",\"Spain\",\"France\",\"Germany\",\"France\",\"Germany\",\"Spain\",\"France\",\"Spain\",\"Germany\",\"Spain\",\"France\",\"France\",\"France\",\"France\",\"France\"],\"xaxis\":\"x\",\"yaxis\":\"y\",\"type\":\"histogram\"}],                        {\"template\":{\"data\":{\"bar\":[{\"error_x\":{\"color\":\"#2a3f5f\"},\"error_y\":{\"color\":\"#2a3f5f\"},\"marker\":{\"line\":{\"color\":\"#E5ECF6\",\"width\":0.5},\"pattern\":{\"fillmode\":\"overlay\",\"size\":10,\"solidity\":0.2}},\"type\":\"bar\"}],\"barpolar\":[{\"marker\":{\"line\":{\"color\":\"#E5ECF6\",\"width\":0.5},\"pattern\":{\"fillmode\":\"overlay\",\"size\":10,\"solidity\":0.2}},\"type\":\"barpolar\"}],\"carpet\":[{\"aaxis\":{\"endlinecolor\":\"#2a3f5f\",\"gridcolor\":\"white\",\"linecolor\":\"white\",\"minorgridcolor\":\"white\",\"startlinecolor\":\"#2a3f5f\"},\"baxis\":{\"endlinecolor\":\"#2a3f5f\",\"gridcolor\":\"white\",\"linecolor\":\"white\",\"minorgridcolor\":\"white\",\"startlinecolor\":\"#2a3f5f\"},\"type\":\"carpet\"}],\"choropleth\":[{\"colorbar\":{\"outlinewidth\":0,\"ticks\":\"\"},\"type\":\"choropleth\"}],\"contour\":[{\"colorbar\":{\"outlinewidth\":0,\"ticks\":\"\"},\"colorscale\":[[0.0,\"#0d0887\"],[0.1111111111111111,\"#46039f\"],[0.2222222222222222,\"#7201a8\"],[0.3333333333333333,\"#9c179e\"],[0.4444444444444444,\"#bd3786\"],[0.5555555555555556,\"#d8576b\"],[0.6666666666666666,\"#ed7953\"],[0.7777777777777778,\"#fb9f3a\"],[0.8888888888888888,\"#fdca26\"],[1.0,\"#f0f921\"]],\"type\":\"contour\"}],\"contourcarpet\":[{\"colorbar\":{\"outlinewidth\":0,\"ticks\":\"\"},\"type\":\"contourcarpet\"}],\"heatmap\":[{\"colorbar\":{\"outlinewidth\":0,\"ticks\":\"\"},\"colorscale\":[[0.0,\"#0d0887\"],[0.1111111111111111,\"#46039f\"],[0.2222222222222222,\"#7201a8\"],[0.3333333333333333,\"#9c179e\"],[0.4444444444444444,\"#bd3786\"],[0.5555555555555556,\"#d8576b\"],[0.6666666666666666,\"#ed7953\"],[0.7777777777777778,\"#fb9f3a\"],[0.8888888888888888,\"#fdca26\"],[1.0,\"#f0f921\"]],\"type\":\"heatmap\"}],\"heatmapgl\":[{\"colorbar\":{\"outlinewidth\":0,\"ticks\":\"\"},\"colorscale\":[[0.0,\"#0d0887\"],[0.1111111111111111,\"#46039f\"],[0.2222222222222222,\"#7201a8\"],[0.3333333333333333,\"#9c179e\"],[0.4444444444444444,\"#bd3786\"],[0.5555555555555556,\"#d8576b\"],[0.6666666666666666,\"#ed7953\"],[0.7777777777777778,\"#fb9f3a\"],[0.8888888888888888,\"#fdca26\"],[1.0,\"#f0f921\"]],\"type\":\"heatmapgl\"}],\"histogram\":[{\"marker\":{\"pattern\":{\"fillmode\":\"overlay\",\"size\":10,\"solidity\":0.2}},\"type\":\"histogram\"}],\"histogram2d\":[{\"colorbar\":{\"outlinewidth\":0,\"ticks\":\"\"},\"colorscale\":[[0.0,\"#0d0887\"],[0.1111111111111111,\"#46039f\"],[0.2222222222222222,\"#7201a8\"],[0.3333333333333333,\"#9c179e\"],[0.4444444444444444,\"#bd3786\"],[0.5555555555555556,\"#d8576b\"],[0.6666666666666666,\"#ed7953\"],[0.7777777777777778,\"#fb9f3a\"],[0.8888888888888888,\"#fdca26\"],[1.0,\"#f0f921\"]],\"type\":\"histogram2d\"}],\"histogram2dcontour\":[{\"colorbar\":{\"outlinewidth\":0,\"ticks\":\"\"},\"colorscale\":[[0.0,\"#0d0887\"],[0.1111111111111111,\"#46039f\"],[0.2222222222222222,\"#7201a8\"],[0.3333333333333333,\"#9c179e\"],[0.4444444444444444,\"#bd3786\"],[0.5555555555555556,\"#d8576b\"],[0.6666666666666666,\"#ed7953\"],[0.7777777777777778,\"#fb9f3a\"],[0.8888888888888888,\"#fdca26\"],[1.0,\"#f0f921\"]],\"type\":\"histogram2dcontour\"}],\"mesh3d\":[{\"colorbar\":{\"outlinewidth\":0,\"ticks\":\"\"},\"type\":\"mesh3d\"}],\"parcoords\":[{\"line\":{\"colorbar\":{\"outlinewidth\":0,\"ticks\":\"\"}},\"type\":\"parcoords\"}],\"pie\":[{\"automargin\":true,\"type\":\"pie\"}],\"scatter\":[{\"marker\":{\"colorbar\":{\"outlinewidth\":0,\"ticks\":\"\"}},\"type\":\"scatter\"}],\"scatter3d\":[{\"line\":{\"colorbar\":{\"outlinewidth\":0,\"ticks\":\"\"}},\"marker\":{\"colorbar\":{\"outlinewidth\":0,\"ticks\":\"\"}},\"type\":\"scatter3d\"}],\"scattercarpet\":[{\"marker\":{\"colorbar\":{\"outlinewidth\":0,\"ticks\":\"\"}},\"type\":\"scattercarpet\"}],\"scattergeo\":[{\"marker\":{\"colorbar\":{\"outlinewidth\":0,\"ticks\":\"\"}},\"type\":\"scattergeo\"}],\"scattergl\":[{\"marker\":{\"colorbar\":{\"outlinewidth\":0,\"ticks\":\"\"}},\"type\":\"scattergl\"}],\"scattermapbox\":[{\"marker\":{\"colorbar\":{\"outlinewidth\":0,\"ticks\":\"\"}},\"type\":\"scattermapbox\"}],\"scatterpolar\":[{\"marker\":{\"colorbar\":{\"outlinewidth\":0,\"ticks\":\"\"}},\"type\":\"scatterpolar\"}],\"scatterpolargl\":[{\"marker\":{\"colorbar\":{\"outlinewidth\":0,\"ticks\":\"\"}},\"type\":\"scatterpolargl\"}],\"scatterternary\":[{\"marker\":{\"colorbar\":{\"outlinewidth\":0,\"ticks\":\"\"}},\"type\":\"scatterternary\"}],\"surface\":[{\"colorbar\":{\"outlinewidth\":0,\"ticks\":\"\"},\"colorscale\":[[0.0,\"#0d0887\"],[0.1111111111111111,\"#46039f\"],[0.2222222222222222,\"#7201a8\"],[0.3333333333333333,\"#9c179e\"],[0.4444444444444444,\"#bd3786\"],[0.5555555555555556,\"#d8576b\"],[0.6666666666666666,\"#ed7953\"],[0.7777777777777778,\"#fb9f3a\"],[0.8888888888888888,\"#fdca26\"],[1.0,\"#f0f921\"]],\"type\":\"surface\"}],\"table\":[{\"cells\":{\"fill\":{\"color\":\"#EBF0F8\"},\"line\":{\"color\":\"white\"}},\"header\":{\"fill\":{\"color\":\"#C8D4E3\"},\"line\":{\"color\":\"white\"}},\"type\":\"table\"}]},\"layout\":{\"annotationdefaults\":{\"arrowcolor\":\"#2a3f5f\",\"arrowhead\":0,\"arrowwidth\":1},\"autotypenumbers\":\"strict\",\"coloraxis\":{\"colorbar\":{\"outlinewidth\":0,\"ticks\":\"\"}},\"colorscale\":{\"diverging\":[[0,\"#8e0152\"],[0.1,\"#c51b7d\"],[0.2,\"#de77ae\"],[0.3,\"#f1b6da\"],[0.4,\"#fde0ef\"],[0.5,\"#f7f7f7\"],[0.6,\"#e6f5d0\"],[0.7,\"#b8e186\"],[0.8,\"#7fbc41\"],[0.9,\"#4d9221\"],[1,\"#276419\"]],\"sequential\":[[0.0,\"#0d0887\"],[0.1111111111111111,\"#46039f\"],[0.2222222222222222,\"#7201a8\"],[0.3333333333333333,\"#9c179e\"],[0.4444444444444444,\"#bd3786\"],[0.5555555555555556,\"#d8576b\"],[0.6666666666666666,\"#ed7953\"],[0.7777777777777778,\"#fb9f3a\"],[0.8888888888888888,\"#fdca26\"],[1.0,\"#f0f921\"]],\"sequentialminus\":[[0.0,\"#0d0887\"],[0.1111111111111111,\"#46039f\"],[0.2222222222222222,\"#7201a8\"],[0.3333333333333333,\"#9c179e\"],[0.4444444444444444,\"#bd3786\"],[0.5555555555555556,\"#d8576b\"],[0.6666666666666666,\"#ed7953\"],[0.7777777777777778,\"#fb9f3a\"],[0.8888888888888888,\"#fdca26\"],[1.0,\"#f0f921\"]]},\"colorway\":[\"#636efa\",\"#EF553B\",\"#00cc96\",\"#ab63fa\",\"#FFA15A\",\"#19d3f3\",\"#FF6692\",\"#B6E880\",\"#FF97FF\",\"#FECB52\"],\"font\":{\"color\":\"#2a3f5f\"},\"geo\":{\"bgcolor\":\"white\",\"lakecolor\":\"white\",\"landcolor\":\"#E5ECF6\",\"showlakes\":true,\"showland\":true,\"subunitcolor\":\"white\"},\"hoverlabel\":{\"align\":\"left\"},\"hovermode\":\"closest\",\"mapbox\":{\"style\":\"light\"},\"paper_bgcolor\":\"white\",\"plot_bgcolor\":\"#E5ECF6\",\"polar\":{\"angularaxis\":{\"gridcolor\":\"white\",\"linecolor\":\"white\",\"ticks\":\"\"},\"bgcolor\":\"#E5ECF6\",\"radialaxis\":{\"gridcolor\":\"white\",\"linecolor\":\"white\",\"ticks\":\"\"}},\"scene\":{\"xaxis\":{\"backgroundcolor\":\"#E5ECF6\",\"gridcolor\":\"white\",\"gridwidth\":2,\"linecolor\":\"white\",\"showbackground\":true,\"ticks\":\"\",\"zerolinecolor\":\"white\"},\"yaxis\":{\"backgroundcolor\":\"#E5ECF6\",\"gridcolor\":\"white\",\"gridwidth\":2,\"linecolor\":\"white\",\"showbackground\":true,\"ticks\":\"\",\"zerolinecolor\":\"white\"},\"zaxis\":{\"backgroundcolor\":\"#E5ECF6\",\"gridcolor\":\"white\",\"gridwidth\":2,\"linecolor\":\"white\",\"showbackground\":true,\"ticks\":\"\",\"zerolinecolor\":\"white\"}},\"shapedefaults\":{\"line\":{\"color\":\"#2a3f5f\"}},\"ternary\":{\"aaxis\":{\"gridcolor\":\"white\",\"linecolor\":\"white\",\"ticks\":\"\"},\"baxis\":{\"gridcolor\":\"white\",\"linecolor\":\"white\",\"ticks\":\"\"},\"bgcolor\":\"#E5ECF6\",\"caxis\":{\"gridcolor\":\"white\",\"linecolor\":\"white\",\"ticks\":\"\"}},\"title\":{\"x\":0.05},\"xaxis\":{\"automargin\":true,\"gridcolor\":\"white\",\"linecolor\":\"white\",\"ticks\":\"\",\"title\":{\"standoff\":15},\"zerolinecolor\":\"white\",\"zerolinewidth\":2},\"yaxis\":{\"automargin\":true,\"gridcolor\":\"white\",\"linecolor\":\"white\",\"ticks\":\"\",\"title\":{\"standoff\":15},\"zerolinecolor\":\"white\",\"zerolinewidth\":2}}},\"xaxis\":{\"anchor\":\"y\",\"domain\":[0.0,1.0],\"title\":{\"text\":\"country\"}},\"yaxis\":{\"anchor\":\"x\",\"domain\":[0.0,1.0],\"title\":{\"text\":\"count\"}},\"legend\":{\"title\":{\"text\":\"churn\"},\"tracegroupgap\":0},\"margin\":{\"t\":60},\"barmode\":\"group\"},                        {\"responsive\": true}                    ).then(function(){\n",
              "                            \n",
              "var gd = document.getElementById('bcd1c06d-d334-43af-b783-a93b19dd5c65');\n",
              "var x = new MutationObserver(function (mutations, observer) {{\n",
              "        var display = window.getComputedStyle(gd).display;\n",
              "        if (!display || display === 'none') {{\n",
              "            console.log([gd, 'removed!']);\n",
              "            Plotly.purge(gd);\n",
              "            observer.disconnect();\n",
              "        }}\n",
              "}});\n",
              "\n",
              "// Listen for the removal of the full notebook cells\n",
              "var notebookContainer = gd.closest('#notebook-container');\n",
              "if (notebookContainer) {{\n",
              "    x.observe(notebookContainer, {childList: true});\n",
              "}}\n",
              "\n",
              "// Listen for the clearing of the current output cell\n",
              "var outputEl = gd.closest('.output');\n",
              "if (outputEl) {{\n",
              "    x.observe(outputEl, {childList: true});\n",
              "}}\n",
              "\n",
              "                        })                };                            </script>        </div>\n",
              "</body>\n",
              "</html>"
            ]
          },
          "metadata": {}
        }
      ]
    },
    {
      "cell_type": "markdown",
      "source": [
        "Kami mencatat hal-hal berikut:\n",
        "\n",
        "Sebagian besar data berasal dari orang-orang dari Perancis. Namun, proporsi pelanggan yang churn berbanding terbalik dengan populasi pelanggan yang mengacu pada bank yang mungkin memiliki masalah (mungkin sumber daya layanan pelanggan tidak cukup dialokasikan) di area di mana bank tersebut memiliki lebih sedikit klien.\n",
        "\n",
        "Proporsi pelanggan perempuan yang melakukan churning juga lebih besar dibandingkan pelanggan laki-laki\n",
        "Menariknya, mayoritas pelanggan yang melakukan churn adalah mereka yang memiliki kartu kredit. Mengingat sebagian besar pelanggan memiliki kartu kredit dapat membuktikan bahwa ini hanya kebetulan.\n",
        "\n",
        "Tidak mengherankan jika anggota yang tidak aktif memiliki churn yang lebih besar. Yang mengkhawatirkan adalah proporsi keseluruhan anggota yang tidak aktif cukup tinggi yang menunjukkan bahwa bank mungkin memerlukan program yang diterapkan untuk mengubah kelompok ini menjadi nasabah aktif karena hal ini pasti akan berdampak positif pada churn nasabah."
      ],
      "metadata": {
        "id": "u_xXGkB5NrLt"
      }
    },
    {
      "cell_type": "code",
      "source": [
        "# Relations based on the continuous data attributes\n",
        "fig, axarr = plt.subplots(3, 2, figsize=(20, 12))\n",
        "sns.boxplot(y='credit_score',x = 'churn', hue = 'churn',data = df, ax=axarr[0][0])\n",
        "sns.boxplot(y='age',x = 'churn', hue = 'churn',data = df , ax=axarr[0][1])\n",
        "sns.boxplot(y='tenure',x = 'churn', hue = 'churn',data = df, ax=axarr[1][0])\n",
        "sns.boxplot(y='balance',x = 'churn', hue = 'churn',data = df, ax=axarr[1][1])\n",
        "sns.boxplot(y='products_number',x = 'churn', hue = 'churn',data = df, ax=axarr[2][0])\n",
        "sns.boxplot(y='estimated_salary',x = 'churn', hue = 'churn',data = df, ax=axarr[2][1])"
      ],
      "metadata": {
        "colab": {
          "base_uri": "https://localhost:8080/",
          "height": 731
        },
        "id": "_bxl7zBsOErM",
        "outputId": "83ed3d22-332f-4e21-8877-e9844fa763b5"
      },
      "execution_count": 11,
      "outputs": [
        {
          "output_type": "execute_result",
          "data": {
            "text/plain": [
              "<matplotlib.axes._subplots.AxesSubplot at 0x7f7fd19d5070>"
            ]
          },
          "metadata": {},
          "execution_count": 11
        },
        {
          "output_type": "display_data",
          "data": {
            "text/plain": [
              "<Figure size 1440x864 with 6 Axes>"
            ],
            "image/png": "[encoded data removed]"
          },
          "metadata": {
            "needs_background": "light"
          }
        }
      ]
    },
    {
      "cell_type": "markdown",
      "source": [
        "Kami mencatat hal-hal berikut:\n",
        "\n",
        "Tidak ada perbedaan yang terlalu mencolok dalam distribusi skor kredit antara pelanggan yang dipertahankan dan pelanggan yang di-churn.\n",
        "\n",
        "Pelanggan yang lebih tua berputar lebih banyak daripada pelanggan yang lebih muda yang menyinggung perbedaan dalam preferensi layanan dalam kategori usia. Bank mungkin perlu meninjau pasar target mereka atau meninjau strategi retensi di antara kelompok usia yang berbeda\n",
        "\n",
        "Berkenaan dengan masa kerja, klien di kedua ujung ekstrim (menghabiskan sedikit waktu dengan bank atau banyak waktu dengan bank) lebih mungkin untuk berhenti dibandingkan dengan masa kerja rata-rata.\n",
        "\n",
        "Yang mengkhawatirkan, bank kehilangan pelanggan dengan saldo bank yang signifikan yang kemungkinan akan mencapai modal yang tersedia untuk pinjaman.\n",
        "Baik produk maupun gaji tidak berpengaruh signifikan terhadap kemungkinan terjadinya churn."
      ],
      "metadata": {
        "id": "xYO5D1IJPbnV"
      }
    },
    {
      "cell_type": "code",
      "source": [
        "plt.figure(figsize=(16,10))\n",
        "sns.heatmap(df.corr(), cbar = True , annot=True)"
      ],
      "metadata": {
        "colab": {
          "base_uri": "https://localhost:8080/",
          "height": 690
        },
        "id": "lueD0IL2RE-q",
        "outputId": "e9bb1fa6-0557-4e30-d180-3fdb93c40a70"
      },
      "execution_count": 12,
      "outputs": [
        {
          "output_type": "execute_result",
          "data": {
            "text/plain": [
              "<matplotlib.axes._subplots.AxesSubplot at 0x7f7fd3d12250>"
            ]
          },
          "metadata": {},
          "execution_count": 12
        },
        {
          "output_type": "display_data",
          "data": {
            "text/plain": [
              "<Figure size 1152x720 with 2 Axes>"
            ],
            "image/png": "[encoded data removed]"
          },
          "metadata": {
            "needs_background": "light"
          }
        }
      ]
    },
    {
      "cell_type": "code",
      "source": [
        "labels = 'churn', 'Not Churn'\n",
        "f,ax=plt.subplots(1,2,figsize=(18,8))\n",
        "df['churn'].value_counts().plot.pie(explode=[0,0.1],autopct='%1.1f%%',labels=labels,ax=ax[0],shadow=True)\n",
        "ax[0].set_title('Distribution of Customers Churn and Not Churn')\n",
        "ax[0].set_ylabel('')\n",
        "sns.countplot('churn',data=df,ax=ax[1])\n",
        "ax[1].set_title('churn')\n",
        "plt.show()\n",
        "\n"
      ],
      "metadata": {
        "colab": {
          "base_uri": "https://localhost:8080/",
          "height": 513
        },
        "id": "zd5r6cvzzXkC",
        "outputId": "6e94911e-5da4-4028-946f-1cd86edf0713"
      },
      "execution_count": 21,
      "outputs": [
        {
          "output_type": "display_data",
          "data": {
            "text/plain": [
              "<Figure size 1296x576 with 2 Axes>"
            ],
            "image/png": "[encoded data removed]"
          },
          "metadata": {
            "needs_background": "light"
          }
        }
      ]
    },
    {
      "cell_type": "markdown",
      "source": [
        "# 4. Preprocesssing\n",
        "\n",
        "di sini kita memiliki masalah data yang tidak seimbang dan untuk menyelesaikannya kita memiliki dua teknik \"oversampling\" dan \"undersampling\" dan mari kita coba dan terapkan yang terbaik\n",
        "\n"
      ],
      "metadata": {
        "id": "qVcHL-uWU8i_"
      }
    },
    {
      "cell_type": "code",
      "source": [
        "#One Hot encoding\n",
        "df = pd.get_dummies(df, columns =[\"country\", \"gender\"], drop_first = False)\n",
        "df.head()\n",
        "\n"
      ],
      "metadata": {
        "colab": {
          "base_uri": "https://localhost:8080/",
          "height": 206
        },
        "id": "p6lsfmrnys-5",
        "outputId": "2583c54a-3b19-44f1-bf69-dc77eb1fb528"
      },
      "execution_count": 25,
      "outputs": [
        {
          "output_type": "execute_result",
          "data": {
            "text/plain": [
              "   credit_score  age  tenure   balance  products_number  credit_card  \\\n",
              "0           619   42       2      0.00                1            1   \n",
              "1           608   41       1  83807.86                1            0   \n",
              "2           502   42       8 159660.80                3            1   \n",
              "3           699   39       1      0.00                2            0   \n",
              "4           850   43       2 125510.82                1            1   \n",
              "\n",
              "   active_member  estimated_salary  churn  country_France  country_Germany  \\\n",
              "0              1         101348.88      1               1                0   \n",
              "1              1         112542.58      0               0                0   \n",
              "2              0         113931.57      1               1                0   \n",
              "3              0          93826.63      0               1                0   \n",
              "4              1          79084.10      0               0                0   \n",
              "\n",
              "   country_Spain  gender_Female  gender_Male  \n",
              "0              0              1            0  \n",
              "1              1              1            0  \n",
              "2              0              1            0  \n",
              "3              0              1            0  \n",
              "4              1              1            0  "
            ],
            "text/html": [
              "\n",
              "  <div id=\"df-93b080a3-fc3c-4914-8753-cd9b3c06e655\">\n",
              "    <div class=\"colab-df-container\">\n",
              "      <div>\n",
              "<style scoped>\n",
              "    .dataframe tbody tr th:only-of-type {\n",
              "        vertical-align: middle;\n",
              "    }\n",
              "\n",
              "    .dataframe tbody tr th {\n",
              "        vertical-align: top;\n",
              "    }\n",
              "\n",
              "    .dataframe thead th {\n",
              "        text-align: right;\n",
              "    }\n",
              "</style>\n",
              "<table border=\"1\" class=\"dataframe\">\n",
              "  <thead>\n",
              "    <tr style=\"text-align: right;\">\n",
              "      <th></th>\n",
              "      <th>credit_score</th>\n",
              "      <th>age</th>\n",
              "      <th>tenure</th>\n",
              "      <th>balance</th>\n",
              "      <th>products_number</th>\n",
              "      <th>credit_card</th>\n",
              "      <th>active_member</th>\n",
              "      <th>estimated_salary</th>\n",
              "      <th>churn</th>\n",
              "      <th>country_France</th>\n",
              "      <th>country_Germany</th>\n",
              "      <th>country_Spain</th>\n",
              "      <th>gender_Female</th>\n",
              "      <th>gender_Male</th>\n",
              "    </tr>\n",
              "  </thead>\n",
              "  <tbody>\n",
              "    <tr>\n",
              "      <th>0</th>\n",
              "      <td>619</td>\n",
              "      <td>42</td>\n",
              "      <td>2</td>\n",
              "      <td>0.00</td>\n",
              "      <td>1</td>\n",
              "      <td>1</td>\n",
              "      <td>1</td>\n",
              "      <td>101348.88</td>\n",
              "      <td>1</td>\n",
              "      <td>1</td>\n",
              "      <td>0</td>\n",
              "      <td>0</td>\n",
              "      <td>1</td>\n",
              "      <td>0</td>\n",
              "    </tr>\n",
              "    <tr>\n",
              "      <th>1</th>\n",
              "      <td>608</td>\n",
              "      <td>41</td>\n",
              "      <td>1</td>\n",
              "      <td>83807.86</td>\n",
              "      <td>1</td>\n",
              "      <td>0</td>\n",
              "      <td>1</td>\n",
              "      <td>112542.58</td>\n",
              "      <td>0</td>\n",
              "      <td>0</td>\n",
              "      <td>0</td>\n",
              "      <td>1</td>\n",
              "      <td>1</td>\n",
              "      <td>0</td>\n",
              "    </tr>\n",
              "    <tr>\n",
              "      <th>2</th>\n",
              "      <td>502</td>\n",
              "      <td>42</td>\n",
              "      <td>8</td>\n",
              "      <td>159660.80</td>\n",
              "      <td>3</td>\n",
              "      <td>1</td>\n",
              "      <td>0</td>\n",
              "      <td>113931.57</td>\n",
              "      <td>1</td>\n",
              "      <td>1</td>\n",
              "      <td>0</td>\n",
              "      <td>0</td>\n",
              "      <td>1</td>\n",
              "      <td>0</td>\n",
              "    </tr>\n",
              "    <tr>\n",
              "      <th>3</th>\n",
              "      <td>699</td>\n",
              "      <td>39</td>\n",
              "      <td>1</td>\n",
              "      <td>0.00</td>\n",
              "      <td>2</td>\n",
              "      <td>0</td>\n",
              "      <td>0</td>\n",
              "      <td>93826.63</td>\n",
              "      <td>0</td>\n",
              "      <td>1</td>\n",
              "      <td>0</td>\n",
              "      <td>0</td>\n",
              "      <td>1</td>\n",
              "      <td>0</td>\n",
              "    </tr>\n",
              "    <tr>\n",
              "      <th>4</th>\n",
              "      <td>850</td>\n",
              "      <td>43</td>\n",
              "      <td>2</td>\n",
              "      <td>125510.82</td>\n",
              "      <td>1</td>\n",
              "      <td>1</td>\n",
              "      <td>1</td>\n",
              "      <td>79084.10</td>\n",
              "      <td>0</td>\n",
              "      <td>0</td>\n",
              "      <td>0</td>\n",
              "      <td>1</td>\n",
              "      <td>1</td>\n",
              "      <td>0</td>\n",
              "    </tr>\n",
              "  </tbody>\n",
              "</table>\n",
              "</div>\n",
              "      <button class=\"colab-df-convert\" onclick=\"convertToInteractive('df-93b080a3-fc3c-4914-8753-cd9b3c06e655')\"\n",
              "              title=\"Convert this dataframe to an interactive table.\"\n",
              "              style=\"display:none;\">\n",
              "        \n",
              "  <svg xmlns=\"http://www.w3.org/2000/svg\" height=\"24px\"viewBox=\"0 0 24 24\"\n",
              "       width=\"24px\">\n",
              "    <path d=\"M0 0h24v24H0V0z\" fill=\"none\"/>\n",
              "    <path d=\"M18.56 5.44l.94 2.06.94-2.06 2.06-.94-2.06-.94-.94-2.06-.94 2.06-2.06.94zm-11 1L8.5 8.5l.94-2.06 2.06-.94-2.06-.94L8.5 2.5l-.94 2.06-2.06.94zm10 10l.94 2.06.94-2.06 2.06-.94-2.06-.94-.94-2.06-.94 2.06-2.06.94z\"/><path d=\"M17.41 7.96l-1.37-1.37c-.4-.4-.92-.59-1.43-.59-.52 0-1.04.2-1.43.59L10.3 9.45l-7.72 7.72c-.78.78-.78 2.05 0 2.83L4 21.41c.39.39.9.59 1.41.59.51 0 1.02-.2 1.41-.59l7.78-7.78 2.81-2.81c.8-.78.8-2.07 0-2.86zM5.41 20L4 18.59l7.72-7.72 1.47 1.35L5.41 20z\"/>\n",
              "  </svg>\n",
              "      </button>\n",
              "      \n",
              "  <style>\n",
              "    .colab-df-container {\n",
              "      display:flex;\n",
              "      flex-wrap:wrap;\n",
              "      gap: 12px;\n",
              "    }\n",
              "\n",
              "    .colab-df-convert {\n",
              "      background-color: #E8F0FE;\n",
              "      border: none;\n",
              "      border-radius: 50%;\n",
              "      cursor: pointer;\n",
              "      display: none;\n",
              "      fill: #1967D2;\n",
              "      height: 32px;\n",
              "      padding: 0 0 0 0;\n",
              "      width: 32px;\n",
              "    }\n",
              "\n",
              "    .colab-df-convert:hover {\n",
              "      background-color: #E2EBFA;\n",
              "      box-shadow: 0px 1px 2px rgba(60, 64, 67, 0.3), 0px 1px 3px 1px rgba(60, 64, 67, 0.15);\n",
              "      fill: #174EA6;\n",
              "    }\n",
              "\n",
              "    [theme=dark] .colab-df-convert {\n",
              "      background-color: #3B4455;\n",
              "      fill: #D2E3FC;\n",
              "    }\n",
              "\n",
              "    [theme=dark] .colab-df-convert:hover {\n",
              "      background-color: #434B5C;\n",
              "      box-shadow: 0px 1px 3px 1px rgba(0, 0, 0, 0.15);\n",
              "      filter: drop-shadow(0px 1px 2px rgba(0, 0, 0, 0.3));\n",
              "      fill: #FFFFFF;\n",
              "    }\n",
              "  </style>\n",
              "\n",
              "      <script>\n",
              "        const buttonEl =\n",
              "          document.querySelector('#df-93b080a3-fc3c-4914-8753-cd9b3c06e655 button.colab-df-convert');\n",
              "        buttonEl.style.display =\n",
              "          google.colab.kernel.accessAllowed ? 'block' : 'none';\n",
              "\n",
              "        async function convertToInteractive(key) {\n",
              "          const element = document.querySelector('#df-93b080a3-fc3c-4914-8753-cd9b3c06e655');\n",
              "          const dataTable =\n",
              "            await google.colab.kernel.invokeFunction('convertToInteractive',\n",
              "                                                     [key], {});\n",
              "          if (!dataTable) return;\n",
              "\n",
              "          const docLinkHtml = 'Like what you see? Visit the ' +\n",
              "            '<a target=\"_blank\" href=https://colab.research.google.com/notebooks/data_table.ipynb>data table notebook</a>'\n",
              "            + ' to learn more about interactive tables.';\n",
              "          element.innerHTML = '';\n",
              "          dataTable['output_type'] = 'display_data';\n",
              "          await google.colab.output.renderOutput(dataTable, element);\n",
              "          const docLink = document.createElement('div');\n",
              "          docLink.innerHTML = docLinkHtml;\n",
              "          element.appendChild(docLink);\n",
              "        }\n",
              "      </script>\n",
              "    </div>\n",
              "  </div>\n",
              "  "
            ]
          },
          "metadata": {},
          "execution_count": 25
        }
      ]
    },
    {
      "cell_type": "code",
      "source": [
        "df.head()"
      ],
      "metadata": {
        "colab": {
          "base_uri": "https://localhost:8080/",
          "height": 206
        },
        "id": "q8Es8D9sAfEI",
        "outputId": "74236d25-248f-4f45-c29b-d5f42791db67"
      },
      "execution_count": 24,
      "outputs": [
        {
          "output_type": "execute_result",
          "data": {
            "text/plain": [
              "   credit_score country  gender  age  tenure   balance  products_number  \\\n",
              "0           619  France  Female   42       2      0.00                1   \n",
              "1           608   Spain  Female   41       1  83807.86                1   \n",
              "2           502  France  Female   42       8 159660.80                3   \n",
              "3           699  France  Female   39       1      0.00                2   \n",
              "4           850   Spain  Female   43       2 125510.82                1   \n",
              "\n",
              "   credit_card  active_member  estimated_salary  churn  \n",
              "0            1              1         101348.88      1  \n",
              "1            0              1         112542.58      0  \n",
              "2            1              0         113931.57      1  \n",
              "3            0              0          93826.63      0  \n",
              "4            1              1          79084.10      0  "
            ],
            "text/html": [
              "\n",
              "  <div id=\"df-2e95afdc-e510-4f6a-a818-9acb473652af\">\n",
              "    <div class=\"colab-df-container\">\n",
              "      <div>\n",
              "<style scoped>\n",
              "    .dataframe tbody tr th:only-of-type {\n",
              "        vertical-align: middle;\n",
              "    }\n",
              "\n",
              "    .dataframe tbody tr th {\n",
              "        vertical-align: top;\n",
              "    }\n",
              "\n",
              "    .dataframe thead th {\n",
              "        text-align: right;\n",
              "    }\n",
              "</style>\n",
              "<table border=\"1\" class=\"dataframe\">\n",
              "  <thead>\n",
              "    <tr style=\"text-align: right;\">\n",
              "      <th></th>\n",
              "      <th>credit_score</th>\n",
              "      <th>country</th>\n",
              "      <th>gender</th>\n",
              "      <th>age</th>\n",
              "      <th>tenure</th>\n",
              "      <th>balance</th>\n",
              "      <th>products_number</th>\n",
              "      <th>credit_card</th>\n",
              "      <th>active_member</th>\n",
              "      <th>estimated_salary</th>\n",
              "      <th>churn</th>\n",
              "    </tr>\n",
              "  </thead>\n",
              "  <tbody>\n",
              "    <tr>\n",
              "      <th>0</th>\n",
              "      <td>619</td>\n",
              "      <td>France</td>\n",
              "      <td>Female</td>\n",
              "      <td>42</td>\n",
              "      <td>2</td>\n",
              "      <td>0.00</td>\n",
              "      <td>1</td>\n",
              "      <td>1</td>\n",
              "      <td>1</td>\n",
              "      <td>101348.88</td>\n",
              "      <td>1</td>\n",
              "    </tr>\n",
              "    <tr>\n",
              "      <th>1</th>\n",
              "      <td>608</td>\n",
              "      <td>Spain</td>\n",
              "      <td>Female</td>\n",
              "      <td>41</td>\n",
              "      <td>1</td>\n",
              "      <td>83807.86</td>\n",
              "      <td>1</td>\n",
              "      <td>0</td>\n",
              "      <td>1</td>\n",
              "      <td>112542.58</td>\n",
              "      <td>0</td>\n",
              "    </tr>\n",
              "    <tr>\n",
              "      <th>2</th>\n",
              "      <td>502</td>\n",
              "      <td>France</td>\n",
              "      <td>Female</td>\n",
              "      <td>42</td>\n",
              "      <td>8</td>\n",
              "      <td>159660.80</td>\n",
              "      <td>3</td>\n",
              "      <td>1</td>\n",
              "      <td>0</td>\n",
              "      <td>113931.57</td>\n",
              "      <td>1</td>\n",
              "    </tr>\n",
              "    <tr>\n",
              "      <th>3</th>\n",
              "      <td>699</td>\n",
              "      <td>France</td>\n",
              "      <td>Female</td>\n",
              "      <td>39</td>\n",
              "      <td>1</td>\n",
              "      <td>0.00</td>\n",
              "      <td>2</td>\n",
              "      <td>0</td>\n",
              "      <td>0</td>\n",
              "      <td>93826.63</td>\n",
              "      <td>0</td>\n",
              "    </tr>\n",
              "    <tr>\n",
              "      <th>4</th>\n",
              "      <td>850</td>\n",
              "      <td>Spain</td>\n",
              "      <td>Female</td>\n",
              "      <td>43</td>\n",
              "      <td>2</td>\n",
              "      <td>125510.82</td>\n",
              "      <td>1</td>\n",
              "      <td>1</td>\n",
              "      <td>1</td>\n",
              "      <td>79084.10</td>\n",
              "      <td>0</td>\n",
              "    </tr>\n",
              "  </tbody>\n",
              "</table>\n",
              "</div>\n",
              "      <button class=\"colab-df-convert\" onclick=\"convertToInteractive('df-2e95afdc-e510-4f6a-a818-9acb473652af')\"\n",
              "              title=\"Convert this dataframe to an interactive table.\"\n",
              "              style=\"display:none;\">\n",
              "        \n",
              "  <svg xmlns=\"http://www.w3.org/2000/svg\" height=\"24px\"viewBox=\"0 0 24 24\"\n",
              "       width=\"24px\">\n",
              "    <path d=\"M0 0h24v24H0V0z\" fill=\"none\"/>\n",
              "    <path d=\"M18.56 5.44l.94 2.06.94-2.06 2.06-.94-2.06-.94-.94-2.06-.94 2.06-2.06.94zm-11 1L8.5 8.5l.94-2.06 2.06-.94-2.06-.94L8.5 2.5l-.94 2.06-2.06.94zm10 10l.94 2.06.94-2.06 2.06-.94-2.06-.94-.94-2.06-.94 2.06-2.06.94z\"/><path d=\"M17.41 7.96l-1.37-1.37c-.4-.4-.92-.59-1.43-.59-.52 0-1.04.2-1.43.59L10.3 9.45l-7.72 7.72c-.78.78-.78 2.05 0 2.83L4 21.41c.39.39.9.59 1.41.59.51 0 1.02-.2 1.41-.59l7.78-7.78 2.81-2.81c.8-.78.8-2.07 0-2.86zM5.41 20L4 18.59l7.72-7.72 1.47 1.35L5.41 20z\"/>\n",
              "  </svg>\n",
              "      </button>\n",
              "      \n",
              "  <style>\n",
              "    .colab-df-container {\n",
              "      display:flex;\n",
              "      flex-wrap:wrap;\n",
              "      gap: 12px;\n",
              "    }\n",
              "\n",
              "    .colab-df-convert {\n",
              "      background-color: #E8F0FE;\n",
              "      border: none;\n",
              "      border-radius: 50%;\n",
              "      cursor: pointer;\n",
              "      display: none;\n",
              "      fill: #1967D2;\n",
              "      height: 32px;\n",
              "      padding: 0 0 0 0;\n",
              "      width: 32px;\n",
              "    }\n",
              "\n",
              "    .colab-df-convert:hover {\n",
              "      background-color: #E2EBFA;\n",
              "      box-shadow: 0px 1px 2px rgba(60, 64, 67, 0.3), 0px 1px 3px 1px rgba(60, 64, 67, 0.15);\n",
              "      fill: #174EA6;\n",
              "    }\n",
              "\n",
              "    [theme=dark] .colab-df-convert {\n",
              "      background-color: #3B4455;\n",
              "      fill: #D2E3FC;\n",
              "    }\n",
              "\n",
              "    [theme=dark] .colab-df-convert:hover {\n",
              "      background-color: #434B5C;\n",
              "      box-shadow: 0px 1px 3px 1px rgba(0, 0, 0, 0.15);\n",
              "      filter: drop-shadow(0px 1px 2px rgba(0, 0, 0, 0.3));\n",
              "      fill: #FFFFFF;\n",
              "    }\n",
              "  </style>\n",
              "\n",
              "      <script>\n",
              "        const buttonEl =\n",
              "          document.querySelector('#df-2e95afdc-e510-4f6a-a818-9acb473652af button.colab-df-convert');\n",
              "        buttonEl.style.display =\n",
              "          google.colab.kernel.accessAllowed ? 'block' : 'none';\n",
              "\n",
              "        async function convertToInteractive(key) {\n",
              "          const element = document.querySelector('#df-2e95afdc-e510-4f6a-a818-9acb473652af');\n",
              "          const dataTable =\n",
              "            await google.colab.kernel.invokeFunction('convertToInteractive',\n",
              "                                                     [key], {});\n",
              "          if (!dataTable) return;\n",
              "\n",
              "          const docLinkHtml = 'Like what you see? Visit the ' +\n",
              "            '<a target=\"_blank\" href=https://colab.research.google.com/notebooks/data_table.ipynb>data table notebook</a>'\n",
              "            + ' to learn more about interactive tables.';\n",
              "          element.innerHTML = '';\n",
              "          dataTable['output_type'] = 'display_data';\n",
              "          await google.colab.output.renderOutput(dataTable, element);\n",
              "          const docLink = document.createElement('div');\n",
              "          docLink.innerHTML = docLinkHtml;\n",
              "          element.appendChild(docLink);\n",
              "        }\n",
              "      </script>\n",
              "    </div>\n",
              "  </div>\n",
              "  "
            ]
          },
          "metadata": {},
          "execution_count": 24
        }
      ]
    },
    {
      "cell_type": "code",
      "source": [
        "y= df['churn']\n",
        "cat_df = df[[\"country_Germany\", \"country_France\",\"country_Spain\", \"gender_Male\",\"gender_Female\" ,\"credit_card\",\"active_member\"]]\n",
        "X= df.drop(labels=[\"churn\",\"country_Germany\", \"country_France\",\"country_Spain\", \"gender_Male\",\"gender_Female\" ,\"credit_card\",\"active_member\"],axis=1)\n"
      ],
      "metadata": {
        "id": "Xn3v-1ZwyzL8"
      },
      "execution_count": 28,
      "outputs": []
    },
    {
      "cell_type": "code",
      "source": [
        "cols = X.columns\n",
        "index = X.index\n",
        "\n",
        "from sklearn.preprocessing import RobustScaler\n",
        "transformer = RobustScaler().fit(X)\n",
        "X = transformer.transform(X)\n",
        "X = pd.DataFrame(X, columns = cols, index = index)\n",
        "X = pd.concat([X,cat_df], axis = 1)\n",
        "X.head()\n"
      ],
      "metadata": {
        "colab": {
          "base_uri": "https://localhost:8080/",
          "height": 206
        },
        "id": "WEQNkz3yy1Fs",
        "outputId": "612147c0-4827-42ff-f0ca-2a9aa5c8b49c"
      },
      "execution_count": 30,
      "outputs": [
        {
          "output_type": "execute_result",
          "data": {
            "text/plain": [
              "   credit_score  age  tenure  balance  products_number  estimated_salary  \\\n",
              "0         -0.25 0.42   -0.75    -0.76             0.00              0.01   \n",
              "1         -0.33 0.33   -1.00    -0.10             0.00              0.13   \n",
              "2         -1.12 0.42    0.75     0.49             2.00              0.14   \n",
              "3          0.35 0.17   -1.00    -0.76             1.00             -0.06   \n",
              "4          1.48 0.50   -0.75     0.22             0.00             -0.21   \n",
              "\n",
              "   country_Germany  country_France  country_Spain  gender_Male  gender_Female  \\\n",
              "0                0               1              0            0              1   \n",
              "1                0               0              1            0              1   \n",
              "2                0               1              0            0              1   \n",
              "3                0               1              0            0              1   \n",
              "4                0               0              1            0              1   \n",
              "\n",
              "   credit_card  active_member  \n",
              "0            1              1  \n",
              "1            0              1  \n",
              "2            1              0  \n",
              "3            0              0  \n",
              "4            1              1  "
            ],
            "text/html": [
              "\n",
              "  <div id=\"df-068ee8ca-d6bd-47b8-a90e-281851906d5e\">\n",
              "    <div class=\"colab-df-container\">\n",
              "      <div>\n",
              "<style scoped>\n",
              "    .dataframe tbody tr th:only-of-type {\n",
              "        vertical-align: middle;\n",
              "    }\n",
              "\n",
              "    .dataframe tbody tr th {\n",
              "        vertical-align: top;\n",
              "    }\n",
              "\n",
              "    .dataframe thead th {\n",
              "        text-align: right;\n",
              "    }\n",
              "</style>\n",
              "<table border=\"1\" class=\"dataframe\">\n",
              "  <thead>\n",
              "    <tr style=\"text-align: right;\">\n",
              "      <th></th>\n",
              "      <th>credit_score</th>\n",
              "      <th>age</th>\n",
              "      <th>tenure</th>\n",
              "      <th>balance</th>\n",
              "      <th>products_number</th>\n",
              "      <th>estimated_salary</th>\n",
              "      <th>country_Germany</th>\n",
              "      <th>country_France</th>\n",
              "      <th>country_Spain</th>\n",
              "      <th>gender_Male</th>\n",
              "      <th>gender_Female</th>\n",
              "      <th>credit_card</th>\n",
              "      <th>active_member</th>\n",
              "    </tr>\n",
              "  </thead>\n",
              "  <tbody>\n",
              "    <tr>\n",
              "      <th>0</th>\n",
              "      <td>-0.25</td>\n",
              "      <td>0.42</td>\n",
              "      <td>-0.75</td>\n",
              "      <td>-0.76</td>\n",
              "      <td>0.00</td>\n",
              "      <td>0.01</td>\n",
              "      <td>0</td>\n",
              "      <td>1</td>\n",
              "      <td>0</td>\n",
              "      <td>0</td>\n",
              "      <td>1</td>\n",
              "      <td>1</td>\n",
              "      <td>1</td>\n",
              "    </tr>\n",
              "    <tr>\n",
              "      <th>1</th>\n",
              "      <td>-0.33</td>\n",
              "      <td>0.33</td>\n",
              "      <td>-1.00</td>\n",
              "      <td>-0.10</td>\n",
              "      <td>0.00</td>\n",
              "      <td>0.13</td>\n",
              "      <td>0</td>\n",
              "      <td>0</td>\n",
              "      <td>1</td>\n",
              "      <td>0</td>\n",
              "      <td>1</td>\n",
              "      <td>0</td>\n",
              "      <td>1</td>\n",
              "    </tr>\n",
              "    <tr>\n",
              "      <th>2</th>\n",
              "      <td>-1.12</td>\n",
              "      <td>0.42</td>\n",
              "      <td>0.75</td>\n",
              "      <td>0.49</td>\n",
              "      <td>2.00</td>\n",
              "      <td>0.14</td>\n",
              "      <td>0</td>\n",
              "      <td>1</td>\n",
              "      <td>0</td>\n",
              "      <td>0</td>\n",
              "      <td>1</td>\n",
              "      <td>1</td>\n",
              "      <td>0</td>\n",
              "    </tr>\n",
              "    <tr>\n",
              "      <th>3</th>\n",
              "      <td>0.35</td>\n",
              "      <td>0.17</td>\n",
              "      <td>-1.00</td>\n",
              "      <td>-0.76</td>\n",
              "      <td>1.00</td>\n",
              "      <td>-0.06</td>\n",
              "      <td>0</td>\n",
              "      <td>1</td>\n",
              "      <td>0</td>\n",
              "      <td>0</td>\n",
              "      <td>1</td>\n",
              "      <td>0</td>\n",
              "      <td>0</td>\n",
              "    </tr>\n",
              "    <tr>\n",
              "      <th>4</th>\n",
              "      <td>1.48</td>\n",
              "      <td>0.50</td>\n",
              "      <td>-0.75</td>\n",
              "      <td>0.22</td>\n",
              "      <td>0.00</td>\n",
              "      <td>-0.21</td>\n",
              "      <td>0</td>\n",
              "      <td>0</td>\n",
              "      <td>1</td>\n",
              "      <td>0</td>\n",
              "      <td>1</td>\n",
              "      <td>1</td>\n",
              "      <td>1</td>\n",
              "    </tr>\n",
              "  </tbody>\n",
              "</table>\n",
              "</div>\n",
              "      <button class=\"colab-df-convert\" onclick=\"convertToInteractive('df-068ee8ca-d6bd-47b8-a90e-281851906d5e')\"\n",
              "              title=\"Convert this dataframe to an interactive table.\"\n",
              "              style=\"display:none;\">\n",
              "        \n",
              "  <svg xmlns=\"http://www.w3.org/2000/svg\" height=\"24px\"viewBox=\"0 0 24 24\"\n",
              "       width=\"24px\">\n",
              "    <path d=\"M0 0h24v24H0V0z\" fill=\"none\"/>\n",
              "    <path d=\"M18.56 5.44l.94 2.06.94-2.06 2.06-.94-2.06-.94-.94-2.06-.94 2.06-2.06.94zm-11 1L8.5 8.5l.94-2.06 2.06-.94-2.06-.94L8.5 2.5l-.94 2.06-2.06.94zm10 10l.94 2.06.94-2.06 2.06-.94-2.06-.94-.94-2.06-.94 2.06-2.06.94z\"/><path d=\"M17.41 7.96l-1.37-1.37c-.4-.4-.92-.59-1.43-.59-.52 0-1.04.2-1.43.59L10.3 9.45l-7.72 7.72c-.78.78-.78 2.05 0 2.83L4 21.41c.39.39.9.59 1.41.59.51 0 1.02-.2 1.41-.59l7.78-7.78 2.81-2.81c.8-.78.8-2.07 0-2.86zM5.41 20L4 18.59l7.72-7.72 1.47 1.35L5.41 20z\"/>\n",
              "  </svg>\n",
              "      </button>\n",
              "      \n",
              "  <style>\n",
              "    .colab-df-container {\n",
              "      display:flex;\n",
              "      flex-wrap:wrap;\n",
              "      gap: 12px;\n",
              "    }\n",
              "\n",
              "    .colab-df-convert {\n",
              "      background-color: #E8F0FE;\n",
              "      border: none;\n",
              "      border-radius: 50%;\n",
              "      cursor: pointer;\n",
              "      display: none;\n",
              "      fill: #1967D2;\n",
              "      height: 32px;\n",
              "      padding: 0 0 0 0;\n",
              "      width: 32px;\n",
              "    }\n",
              "\n",
              "    .colab-df-convert:hover {\n",
              "      background-color: #E2EBFA;\n",
              "      box-shadow: 0px 1px 2px rgba(60, 64, 67, 0.3), 0px 1px 3px 1px rgba(60, 64, 67, 0.15);\n",
              "      fill: #174EA6;\n",
              "    }\n",
              "\n",
              "    [theme=dark] .colab-df-convert {\n",
              "      background-color: #3B4455;\n",
              "      fill: #D2E3FC;\n",
              "    }\n",
              "\n",
              "    [theme=dark] .colab-df-convert:hover {\n",
              "      background-color: #434B5C;\n",
              "      box-shadow: 0px 1px 3px 1px rgba(0, 0, 0, 0.15);\n",
              "      filter: drop-shadow(0px 1px 2px rgba(0, 0, 0, 0.3));\n",
              "      fill: #FFFFFF;\n",
              "    }\n",
              "  </style>\n",
              "\n",
              "      <script>\n",
              "        const buttonEl =\n",
              "          document.querySelector('#df-068ee8ca-d6bd-47b8-a90e-281851906d5e button.colab-df-convert');\n",
              "        buttonEl.style.display =\n",
              "          google.colab.kernel.accessAllowed ? 'block' : 'none';\n",
              "\n",
              "        async function convertToInteractive(key) {\n",
              "          const element = document.querySelector('#df-068ee8ca-d6bd-47b8-a90e-281851906d5e');\n",
              "          const dataTable =\n",
              "            await google.colab.kernel.invokeFunction('convertToInteractive',\n",
              "                                                     [key], {});\n",
              "          if (!dataTable) return;\n",
              "\n",
              "          const docLinkHtml = 'Like what you see? Visit the ' +\n",
              "            '<a target=\"_blank\" href=https://colab.research.google.com/notebooks/data_table.ipynb>data table notebook</a>'\n",
              "            + ' to learn more about interactive tables.';\n",
              "          element.innerHTML = '';\n",
              "          dataTable['output_type'] = 'display_data';\n",
              "          await google.colab.output.renderOutput(dataTable, element);\n",
              "          const docLink = document.createElement('div');\n",
              "          docLink.innerHTML = docLinkHtml;\n",
              "          element.appendChild(docLink);\n",
              "        }\n",
              "      </script>\n",
              "    </div>\n",
              "  </div>\n",
              "  "
            ]
          },
          "metadata": {},
          "execution_count": 30
        }
      ]
    },
    {
      "cell_type": "code",
      "source": [
        "print(X.shape, y.shape)"
      ],
      "metadata": {
        "colab": {
          "base_uri": "https://localhost:8080/"
        },
        "id": "fv409GDpB8eM",
        "outputId": "126815bd-d5d1-4713-bbd4-b7274f23607e"
      },
      "execution_count": 31,
      "outputs": [
        {
          "output_type": "stream",
          "name": "stdout",
          "text": [
            "(10000, 13) (10000,)\n"
          ]
        }
      ]
    },
    {
      "cell_type": "code",
      "source": [
        "\n",
        "# Train-Test Separation\n",
        "X_train, X_test, y_train, y_test = train_test_split(X, y, \n",
        "                                                    test_size=0.20, \n",
        "                                                    random_state=10101)\n"
      ],
      "metadata": {
        "id": "CYmJdWuoCiD3"
      },
      "execution_count": 32,
      "outputs": []
    },
    {
      "cell_type": "code",
      "source": [
        "# the usual splitting \n",
        "from sklearn.model_selection import train_test_split\n",
        "\n",
        "X = df.drop(columns='churn').to_numpy()\n",
        "y = df[['churn']].to_numpy()\n",
        "y = y.reshape(len(y),)\n",
        "\n",
        "X_train, X_test, y_train, y_test = train_test_split(X, y, test_size=0.20, random_state=42)"
      ],
      "metadata": {
        "id": "ibVQvFr4Kdhi"
      },
      "execution_count": 34,
      "outputs": []
    },
    {
      "cell_type": "code",
      "source": [
        "# define random forest classifier model\n",
        "from sklearn.ensemble import RandomForestClassifier\n",
        "\n",
        "rf_clf = RandomForestClassifier(random_state=42)"
      ],
      "metadata": {
        "id": "w44h9xDpK3YM"
      },
      "execution_count": 35,
      "outputs": []
    },
    {
      "cell_type": "code",
      "source": [
        "%%time\n",
        "from sklearn.model_selection import GridSearchCV\n",
        "\n",
        "parameters = {\n",
        "    'n_estimators': (10,20,30,40,50),\n",
        "    'max_depth':(1,2,3,4,5)\n",
        "}\n",
        "\n",
        "# note: we use recall\n",
        "rf_clf_gridcv = GridSearchCV(rf_clf, parameters, cv=5, scoring='recall')\n",
        "rf_clf_gridcv.fit(X_train, y_train)"
      ],
      "metadata": {
        "colab": {
          "base_uri": "https://localhost:8080/"
        },
        "id": "ZqEvat9fK4Lc",
        "outputId": "b5334b11-d005-43eb-a754-7e2ac6681524"
      },
      "execution_count": 36,
      "outputs": [
        {
          "output_type": "stream",
          "name": "stdout",
          "text": [
            "CPU times: user 15 s, sys: 5.87 ms, total: 15 s\n",
            "Wall time: 15 s\n"
          ]
        },
        {
          "output_type": "execute_result",
          "data": {
            "text/plain": [
              "GridSearchCV(cv=5, estimator=RandomForestClassifier(random_state=42),\n",
              "             param_grid={'max_depth': (1, 2, 3, 4, 5),\n",
              "                         'n_estimators': (10, 20, 30, 40, 50)},\n",
              "             scoring='recall')"
            ]
          },
          "metadata": {},
          "execution_count": 36
        }
      ]
    },
    {
      "cell_type": "code",
      "source": [
        "# the results\n",
        "cv_result = pd.DataFrame(rf_clf_gridcv.cv_results_)\n",
        "retain_cols = ['params','mean_test_score','rank_test_score']\n",
        "cv_result[retain_cols].sort_values('rank_test_score')"
      ],
      "metadata": {
        "colab": {
          "base_uri": "https://localhost:8080/",
          "height": 833
        },
        "id": "-Oq7VU2zLHGv",
        "outputId": "15b289a1-6a2b-4405-8f46-643b5948ff93"
      },
      "execution_count": 37,
      "outputs": [
        {
          "output_type": "execute_result",
          "data": {
            "text/plain": [
              "                                  params  mean_test_score  rank_test_score\n",
              "24  {'max_depth': 5, 'n_estimators': 50}             0.27                1\n",
              "23  {'max_depth': 5, 'n_estimators': 40}             0.26                2\n",
              "22  {'max_depth': 5, 'n_estimators': 30}             0.25                3\n",
              "21  {'max_depth': 5, 'n_estimators': 20}             0.24                4\n",
              "20  {'max_depth': 5, 'n_estimators': 10}             0.24                5\n",
              "16  {'max_depth': 4, 'n_estimators': 20}             0.23                6\n",
              "15  {'max_depth': 4, 'n_estimators': 10}             0.23                7\n",
              "17  {'max_depth': 4, 'n_estimators': 30}             0.21                8\n",
              "19  {'max_depth': 4, 'n_estimators': 50}             0.21                9\n",
              "18  {'max_depth': 4, 'n_estimators': 40}             0.21               10\n",
              "5   {'max_depth': 2, 'n_estimators': 10}             0.13               11\n",
              "12  {'max_depth': 3, 'n_estimators': 30}             0.11               12\n",
              "13  {'max_depth': 3, 'n_estimators': 40}             0.11               13\n",
              "14  {'max_depth': 3, 'n_estimators': 50}             0.11               14\n",
              "10  {'max_depth': 3, 'n_estimators': 10}             0.11               15\n",
              "11  {'max_depth': 3, 'n_estimators': 20}             0.11               16\n",
              "7   {'max_depth': 2, 'n_estimators': 30}             0.10               17\n",
              "8   {'max_depth': 2, 'n_estimators': 40}             0.09               18\n",
              "6   {'max_depth': 2, 'n_estimators': 20}             0.09               19\n",
              "9   {'max_depth': 2, 'n_estimators': 50}             0.06               20\n",
              "4   {'max_depth': 1, 'n_estimators': 50}             0.00               21\n",
              "3   {'max_depth': 1, 'n_estimators': 40}             0.00               21\n",
              "2   {'max_depth': 1, 'n_estimators': 30}             0.00               21\n",
              "1   {'max_depth': 1, 'n_estimators': 20}             0.00               21\n",
              "0   {'max_depth': 1, 'n_estimators': 10}             0.00               21"
            ],
            "text/html": [
              "\n",
              "  <div id=\"df-8f3ce31e-dffb-4532-a753-09f0229992ca\">\n",
              "    <div class=\"colab-df-container\">\n",
              "      <div>\n",
              "<style scoped>\n",
              "    .dataframe tbody tr th:only-of-type {\n",
              "        vertical-align: middle;\n",
              "    }\n",
              "\n",
              "    .dataframe tbody tr th {\n",
              "        vertical-align: top;\n",
              "    }\n",
              "\n",
              "    .dataframe thead th {\n",
              "        text-align: right;\n",
              "    }\n",
              "</style>\n",
              "<table border=\"1\" class=\"dataframe\">\n",
              "  <thead>\n",
              "    <tr style=\"text-align: right;\">\n",
              "      <th></th>\n",
              "      <th>params</th>\n",
              "      <th>mean_test_score</th>\n",
              "      <th>rank_test_score</th>\n",
              "    </tr>\n",
              "  </thead>\n",
              "  <tbody>\n",
              "    <tr>\n",
              "      <th>24</th>\n",
              "      <td>{'max_depth': 5, 'n_estimators': 50}</td>\n",
              "      <td>0.27</td>\n",
              "      <td>1</td>\n",
              "    </tr>\n",
              "    <tr>\n",
              "      <th>23</th>\n",
              "      <td>{'max_depth': 5, 'n_estimators': 40}</td>\n",
              "      <td>0.26</td>\n",
              "      <td>2</td>\n",
              "    </tr>\n",
              "    <tr>\n",
              "      <th>22</th>\n",
              "      <td>{'max_depth': 5, 'n_estimators': 30}</td>\n",
              "      <td>0.25</td>\n",
              "      <td>3</td>\n",
              "    </tr>\n",
              "    <tr>\n",
              "      <th>21</th>\n",
              "      <td>{'max_depth': 5, 'n_estimators': 20}</td>\n",
              "      <td>0.24</td>\n",
              "      <td>4</td>\n",
              "    </tr>\n",
              "    <tr>\n",
              "      <th>20</th>\n",
              "      <td>{'max_depth': 5, 'n_estimators': 10}</td>\n",
              "      <td>0.24</td>\n",
              "      <td>5</td>\n",
              "    </tr>\n",
              "    <tr>\n",
              "      <th>16</th>\n",
              "      <td>{'max_depth': 4, 'n_estimators': 20}</td>\n",
              "      <td>0.23</td>\n",
              "      <td>6</td>\n",
              "    </tr>\n",
              "    <tr>\n",
              "      <th>15</th>\n",
              "      <td>{'max_depth': 4, 'n_estimators': 10}</td>\n",
              "      <td>0.23</td>\n",
              "      <td>7</td>\n",
              "    </tr>\n",
              "    <tr>\n",
              "      <th>17</th>\n",
              "      <td>{'max_depth': 4, 'n_estimators': 30}</td>\n",
              "      <td>0.21</td>\n",
              "      <td>8</td>\n",
              "    </tr>\n",
              "    <tr>\n",
              "      <th>19</th>\n",
              "      <td>{'max_depth': 4, 'n_estimators': 50}</td>\n",
              "      <td>0.21</td>\n",
              "      <td>9</td>\n",
              "    </tr>\n",
              "    <tr>\n",
              "      <th>18</th>\n",
              "      <td>{'max_depth': 4, 'n_estimators': 40}</td>\n",
              "      <td>0.21</td>\n",
              "      <td>10</td>\n",
              "    </tr>\n",
              "    <tr>\n",
              "      <th>5</th>\n",
              "      <td>{'max_depth': 2, 'n_estimators': 10}</td>\n",
              "      <td>0.13</td>\n",
              "      <td>11</td>\n",
              "    </tr>\n",
              "    <tr>\n",
              "      <th>12</th>\n",
              "      <td>{'max_depth': 3, 'n_estimators': 30}</td>\n",
              "      <td>0.11</td>\n",
              "      <td>12</td>\n",
              "    </tr>\n",
              "    <tr>\n",
              "      <th>13</th>\n",
              "      <td>{'max_depth': 3, 'n_estimators': 40}</td>\n",
              "      <td>0.11</td>\n",
              "      <td>13</td>\n",
              "    </tr>\n",
              "    <tr>\n",
              "      <th>14</th>\n",
              "      <td>{'max_depth': 3, 'n_estimators': 50}</td>\n",
              "      <td>0.11</td>\n",
              "      <td>14</td>\n",
              "    </tr>\n",
              "    <tr>\n",
              "      <th>10</th>\n",
              "      <td>{'max_depth': 3, 'n_estimators': 10}</td>\n",
              "      <td>0.11</td>\n",
              "      <td>15</td>\n",
              "    </tr>\n",
              "    <tr>\n",
              "      <th>11</th>\n",
              "      <td>{'max_depth': 3, 'n_estimators': 20}</td>\n",
              "      <td>0.11</td>\n",
              "      <td>16</td>\n",
              "    </tr>\n",
              "    <tr>\n",
              "      <th>7</th>\n",
              "      <td>{'max_depth': 2, 'n_estimators': 30}</td>\n",
              "      <td>0.10</td>\n",
              "      <td>17</td>\n",
              "    </tr>\n",
              "    <tr>\n",
              "      <th>8</th>\n",
              "      <td>{'max_depth': 2, 'n_estimators': 40}</td>\n",
              "      <td>0.09</td>\n",
              "      <td>18</td>\n",
              "    </tr>\n",
              "    <tr>\n",
              "      <th>6</th>\n",
              "      <td>{'max_depth': 2, 'n_estimators': 20}</td>\n",
              "      <td>0.09</td>\n",
              "      <td>19</td>\n",
              "    </tr>\n",
              "    <tr>\n",
              "      <th>9</th>\n",
              "      <td>{'max_depth': 2, 'n_estimators': 50}</td>\n",
              "      <td>0.06</td>\n",
              "      <td>20</td>\n",
              "    </tr>\n",
              "    <tr>\n",
              "      <th>4</th>\n",
              "      <td>{'max_depth': 1, 'n_estimators': 50}</td>\n",
              "      <td>0.00</td>\n",
              "      <td>21</td>\n",
              "    </tr>\n",
              "    <tr>\n",
              "      <th>3</th>\n",
              "      <td>{'max_depth': 1, 'n_estimators': 40}</td>\n",
              "      <td>0.00</td>\n",
              "      <td>21</td>\n",
              "    </tr>\n",
              "    <tr>\n",
              "      <th>2</th>\n",
              "      <td>{'max_depth': 1, 'n_estimators': 30}</td>\n",
              "      <td>0.00</td>\n",
              "      <td>21</td>\n",
              "    </tr>\n",
              "    <tr>\n",
              "      <th>1</th>\n",
              "      <td>{'max_depth': 1, 'n_estimators': 20}</td>\n",
              "      <td>0.00</td>\n",
              "      <td>21</td>\n",
              "    </tr>\n",
              "    <tr>\n",
              "      <th>0</th>\n",
              "      <td>{'max_depth': 1, 'n_estimators': 10}</td>\n",
              "      <td>0.00</td>\n",
              "      <td>21</td>\n",
              "    </tr>\n",
              "  </tbody>\n",
              "</table>\n",
              "</div>\n",
              "      <button class=\"colab-df-convert\" onclick=\"convertToInteractive('df-8f3ce31e-dffb-4532-a753-09f0229992ca')\"\n",
              "              title=\"Convert this dataframe to an interactive table.\"\n",
              "              style=\"display:none;\">\n",
              "        \n",
              "  <svg xmlns=\"http://www.w3.org/2000/svg\" height=\"24px\"viewBox=\"0 0 24 24\"\n",
              "       width=\"24px\">\n",
              "    <path d=\"M0 0h24v24H0V0z\" fill=\"none\"/>\n",
              "    <path d=\"M18.56 5.44l.94 2.06.94-2.06 2.06-.94-2.06-.94-.94-2.06-.94 2.06-2.06.94zm-11 1L8.5 8.5l.94-2.06 2.06-.94-2.06-.94L8.5 2.5l-.94 2.06-2.06.94zm10 10l.94 2.06.94-2.06 2.06-.94-2.06-.94-.94-2.06-.94 2.06-2.06.94z\"/><path d=\"M17.41 7.96l-1.37-1.37c-.4-.4-.92-.59-1.43-.59-.52 0-1.04.2-1.43.59L10.3 9.45l-7.72 7.72c-.78.78-.78 2.05 0 2.83L4 21.41c.39.39.9.59 1.41.59.51 0 1.02-.2 1.41-.59l7.78-7.78 2.81-2.81c.8-.78.8-2.07 0-2.86zM5.41 20L4 18.59l7.72-7.72 1.47 1.35L5.41 20z\"/>\n",
              "  </svg>\n",
              "      </button>\n",
              "      \n",
              "  <style>\n",
              "    .colab-df-container {\n",
              "      display:flex;\n",
              "      flex-wrap:wrap;\n",
              "      gap: 12px;\n",
              "    }\n",
              "\n",
              "    .colab-df-convert {\n",
              "      background-color: #E8F0FE;\n",
              "      border: none;\n",
              "      border-radius: 50%;\n",
              "      cursor: pointer;\n",
              "      display: none;\n",
              "      fill: #1967D2;\n",
              "      height: 32px;\n",
              "      padding: 0 0 0 0;\n",
              "      width: 32px;\n",
              "    }\n",
              "\n",
              "    .colab-df-convert:hover {\n",
              "      background-color: #E2EBFA;\n",
              "      box-shadow: 0px 1px 2px rgba(60, 64, 67, 0.3), 0px 1px 3px 1px rgba(60, 64, 67, 0.15);\n",
              "      fill: #174EA6;\n",
              "    }\n",
              "\n",
              "    [theme=dark] .colab-df-convert {\n",
              "      background-color: #3B4455;\n",
              "      fill: #D2E3FC;\n",
              "    }\n",
              "\n",
              "    [theme=dark] .colab-df-convert:hover {\n",
              "      background-color: #434B5C;\n",
              "      box-shadow: 0px 1px 3px 1px rgba(0, 0, 0, 0.15);\n",
              "      filter: drop-shadow(0px 1px 2px rgba(0, 0, 0, 0.3));\n",
              "      fill: #FFFFFF;\n",
              "    }\n",
              "  </style>\n",
              "\n",
              "      <script>\n",
              "        const buttonEl =\n",
              "          document.querySelector('#df-8f3ce31e-dffb-4532-a753-09f0229992ca button.colab-df-convert');\n",
              "        buttonEl.style.display =\n",
              "          google.colab.kernel.accessAllowed ? 'block' : 'none';\n",
              "\n",
              "        async function convertToInteractive(key) {\n",
              "          const element = document.querySelector('#df-8f3ce31e-dffb-4532-a753-09f0229992ca');\n",
              "          const dataTable =\n",
              "            await google.colab.kernel.invokeFunction('convertToInteractive',\n",
              "                                                     [key], {});\n",
              "          if (!dataTable) return;\n",
              "\n",
              "          const docLinkHtml = 'Like what you see? Visit the ' +\n",
              "            '<a target=\"_blank\" href=https://colab.research.google.com/notebooks/data_table.ipynb>data table notebook</a>'\n",
              "            + ' to learn more about interactive tables.';\n",
              "          element.innerHTML = '';\n",
              "          dataTable['output_type'] = 'display_data';\n",
              "          await google.colab.output.renderOutput(dataTable, element);\n",
              "          const docLink = document.createElement('div');\n",
              "          docLink.innerHTML = docLinkHtml;\n",
              "          element.appendChild(docLink);\n",
              "        }\n",
              "      </script>\n",
              "    </div>\n",
              "  </div>\n",
              "  "
            ]
          },
          "metadata": {},
          "execution_count": 37
        }
      ]
    },
    {
      "cell_type": "code",
      "source": [
        "%%time\n",
        "# using random search CV\n",
        "from sklearn.model_selection import RandomizedSearchCV\n",
        "\n",
        "parameters = {\n",
        "    'n_estimators': (10,20,30,40,50),\n",
        "    'max_depth':(1,2,3,4,5)\n",
        "}\n",
        "\n",
        "rf_clf_randomcv = RandomizedSearchCV(rf_clf, parameters, cv=5, \n",
        "                                     scoring='recall', n_iter=10)\n",
        "rf_clf_randomcv.fit(X_train, y_train)"
      ],
      "metadata": {
        "colab": {
          "base_uri": "https://localhost:8080/"
        },
        "id": "4NCUvHXnLPQJ",
        "outputId": "4d347dc0-93b1-4796-9f05-7c6f752bb7e3"
      },
      "execution_count": 38,
      "outputs": [
        {
          "output_type": "stream",
          "name": "stdout",
          "text": [
            "CPU times: user 5.99 s, sys: 0 ns, total: 5.99 s\n",
            "Wall time: 6.94 s\n"
          ]
        },
        {
          "output_type": "execute_result",
          "data": {
            "text/plain": [
              "RandomizedSearchCV(cv=5, estimator=RandomForestClassifier(random_state=42),\n",
              "                   param_distributions={'max_depth': (1, 2, 3, 4, 5),\n",
              "                                        'n_estimators': (10, 20, 30, 40, 50)},\n",
              "                   scoring='recall')"
            ]
          },
          "metadata": {},
          "execution_count": 38
        }
      ]
    },
    {
      "cell_type": "code",
      "source": [
        "# results of RandomSearchCV\n",
        "cv_result = pd.DataFrame(rf_clf_randomcv.cv_results_)\n",
        "retain_cols = ['params','mean_test_score','rank_test_score']\n",
        "cv_result[retain_cols].sort_values('rank_test_score')"
      ],
      "metadata": {
        "colab": {
          "base_uri": "https://localhost:8080/",
          "height": 363
        },
        "id": "r3X4XQCnLdC-",
        "outputId": "7ae7cc56-866d-4ba7-c56d-ffcd993ee12c"
      },
      "execution_count": 39,
      "outputs": [
        {
          "output_type": "execute_result",
          "data": {
            "text/plain": [
              "                                 params  mean_test_score  rank_test_score\n",
              "3  {'n_estimators': 10, 'max_depth': 5}             0.24                1\n",
              "9  {'n_estimators': 10, 'max_depth': 4}             0.23                2\n",
              "0  {'n_estimators': 30, 'max_depth': 4}             0.21                3\n",
              "5  {'n_estimators': 50, 'max_depth': 4}             0.21                4\n",
              "6  {'n_estimators': 10, 'max_depth': 3}             0.11                5\n",
              "8  {'n_estimators': 30, 'max_depth': 2}             0.10                6\n",
              "4  {'n_estimators': 40, 'max_depth': 2}             0.09                7\n",
              "1  {'n_estimators': 40, 'max_depth': 1}             0.00                8\n",
              "2  {'n_estimators': 20, 'max_depth': 1}             0.00                8\n",
              "7  {'n_estimators': 50, 'max_depth': 1}             0.00                8"
            ],
            "text/html": [
              "\n",
              "  <div id=\"df-c860f0c6-e768-40fd-9236-a0157d6da8e5\">\n",
              "    <div class=\"colab-df-container\">\n",
              "      <div>\n",
              "<style scoped>\n",
              "    .dataframe tbody tr th:only-of-type {\n",
              "        vertical-align: middle;\n",
              "    }\n",
              "\n",
              "    .dataframe tbody tr th {\n",
              "        vertical-align: top;\n",
              "    }\n",
              "\n",
              "    .dataframe thead th {\n",
              "        text-align: right;\n",
              "    }\n",
              "</style>\n",
              "<table border=\"1\" class=\"dataframe\">\n",
              "  <thead>\n",
              "    <tr style=\"text-align: right;\">\n",
              "      <th></th>\n",
              "      <th>params</th>\n",
              "      <th>mean_test_score</th>\n",
              "      <th>rank_test_score</th>\n",
              "    </tr>\n",
              "  </thead>\n",
              "  <tbody>\n",
              "    <tr>\n",
              "      <th>3</th>\n",
              "      <td>{'n_estimators': 10, 'max_depth': 5}</td>\n",
              "      <td>0.24</td>\n",
              "      <td>1</td>\n",
              "    </tr>\n",
              "    <tr>\n",
              "      <th>9</th>\n",
              "      <td>{'n_estimators': 10, 'max_depth': 4}</td>\n",
              "      <td>0.23</td>\n",
              "      <td>2</td>\n",
              "    </tr>\n",
              "    <tr>\n",
              "      <th>0</th>\n",
              "      <td>{'n_estimators': 30, 'max_depth': 4}</td>\n",
              "      <td>0.21</td>\n",
              "      <td>3</td>\n",
              "    </tr>\n",
              "    <tr>\n",
              "      <th>5</th>\n",
              "      <td>{'n_estimators': 50, 'max_depth': 4}</td>\n",
              "      <td>0.21</td>\n",
              "      <td>4</td>\n",
              "    </tr>\n",
              "    <tr>\n",
              "      <th>6</th>\n",
              "      <td>{'n_estimators': 10, 'max_depth': 3}</td>\n",
              "      <td>0.11</td>\n",
              "      <td>5</td>\n",
              "    </tr>\n",
              "    <tr>\n",
              "      <th>8</th>\n",
              "      <td>{'n_estimators': 30, 'max_depth': 2}</td>\n",
              "      <td>0.10</td>\n",
              "      <td>6</td>\n",
              "    </tr>\n",
              "    <tr>\n",
              "      <th>4</th>\n",
              "      <td>{'n_estimators': 40, 'max_depth': 2}</td>\n",
              "      <td>0.09</td>\n",
              "      <td>7</td>\n",
              "    </tr>\n",
              "    <tr>\n",
              "      <th>1</th>\n",
              "      <td>{'n_estimators': 40, 'max_depth': 1}</td>\n",
              "      <td>0.00</td>\n",
              "      <td>8</td>\n",
              "    </tr>\n",
              "    <tr>\n",
              "      <th>2</th>\n",
              "      <td>{'n_estimators': 20, 'max_depth': 1}</td>\n",
              "      <td>0.00</td>\n",
              "      <td>8</td>\n",
              "    </tr>\n",
              "    <tr>\n",
              "      <th>7</th>\n",
              "      <td>{'n_estimators': 50, 'max_depth': 1}</td>\n",
              "      <td>0.00</td>\n",
              "      <td>8</td>\n",
              "    </tr>\n",
              "  </tbody>\n",
              "</table>\n",
              "</div>\n",
              "      <button class=\"colab-df-convert\" onclick=\"convertToInteractive('df-c860f0c6-e768-40fd-9236-a0157d6da8e5')\"\n",
              "              title=\"Convert this dataframe to an interactive table.\"\n",
              "              style=\"display:none;\">\n",
              "        \n",
              "  <svg xmlns=\"http://www.w3.org/2000/svg\" height=\"24px\"viewBox=\"0 0 24 24\"\n",
              "       width=\"24px\">\n",
              "    <path d=\"M0 0h24v24H0V0z\" fill=\"none\"/>\n",
              "    <path d=\"M18.56 5.44l.94 2.06.94-2.06 2.06-.94-2.06-.94-.94-2.06-.94 2.06-2.06.94zm-11 1L8.5 8.5l.94-2.06 2.06-.94-2.06-.94L8.5 2.5l-.94 2.06-2.06.94zm10 10l.94 2.06.94-2.06 2.06-.94-2.06-.94-.94-2.06-.94 2.06-2.06.94z\"/><path d=\"M17.41 7.96l-1.37-1.37c-.4-.4-.92-.59-1.43-.59-.52 0-1.04.2-1.43.59L10.3 9.45l-7.72 7.72c-.78.78-.78 2.05 0 2.83L4 21.41c.39.39.9.59 1.41.59.51 0 1.02-.2 1.41-.59l7.78-7.78 2.81-2.81c.8-.78.8-2.07 0-2.86zM5.41 20L4 18.59l7.72-7.72 1.47 1.35L5.41 20z\"/>\n",
              "  </svg>\n",
              "      </button>\n",
              "      \n",
              "  <style>\n",
              "    .colab-df-container {\n",
              "      display:flex;\n",
              "      flex-wrap:wrap;\n",
              "      gap: 12px;\n",
              "    }\n",
              "\n",
              "    .colab-df-convert {\n",
              "      background-color: #E8F0FE;\n",
              "      border: none;\n",
              "      border-radius: 50%;\n",
              "      cursor: pointer;\n",
              "      display: none;\n",
              "      fill: #1967D2;\n",
              "      height: 32px;\n",
              "      padding: 0 0 0 0;\n",
              "      width: 32px;\n",
              "    }\n",
              "\n",
              "    .colab-df-convert:hover {\n",
              "      background-color: #E2EBFA;\n",
              "      box-shadow: 0px 1px 2px rgba(60, 64, 67, 0.3), 0px 1px 3px 1px rgba(60, 64, 67, 0.15);\n",
              "      fill: #174EA6;\n",
              "    }\n",
              "\n",
              "    [theme=dark] .colab-df-convert {\n",
              "      background-color: #3B4455;\n",
              "      fill: #D2E3FC;\n",
              "    }\n",
              "\n",
              "    [theme=dark] .colab-df-convert:hover {\n",
              "      background-color: #434B5C;\n",
              "      box-shadow: 0px 1px 3px 1px rgba(0, 0, 0, 0.15);\n",
              "      filter: drop-shadow(0px 1px 2px rgba(0, 0, 0, 0.3));\n",
              "      fill: #FFFFFF;\n",
              "    }\n",
              "  </style>\n",
              "\n",
              "      <script>\n",
              "        const buttonEl =\n",
              "          document.querySelector('#df-c860f0c6-e768-40fd-9236-a0157d6da8e5 button.colab-df-convert');\n",
              "        buttonEl.style.display =\n",
              "          google.colab.kernel.accessAllowed ? 'block' : 'none';\n",
              "\n",
              "        async function convertToInteractive(key) {\n",
              "          const element = document.querySelector('#df-c860f0c6-e768-40fd-9236-a0157d6da8e5');\n",
              "          const dataTable =\n",
              "            await google.colab.kernel.invokeFunction('convertToInteractive',\n",
              "                                                     [key], {});\n",
              "          if (!dataTable) return;\n",
              "\n",
              "          const docLinkHtml = 'Like what you see? Visit the ' +\n",
              "            '<a target=\"_blank\" href=https://colab.research.google.com/notebooks/data_table.ipynb>data table notebook</a>'\n",
              "            + ' to learn more about interactive tables.';\n",
              "          element.innerHTML = '';\n",
              "          dataTable['output_type'] = 'display_data';\n",
              "          await google.colab.output.renderOutput(dataTable, element);\n",
              "          const docLink = document.createElement('div');\n",
              "          docLink.innerHTML = docLinkHtml;\n",
              "          element.appendChild(docLink);\n",
              "        }\n",
              "      </script>\n",
              "    </div>\n",
              "  </div>\n",
              "  "
            ]
          },
          "metadata": {},
          "execution_count": 39
        }
      ]
    },
    {
      "cell_type": "code",
      "source": [
        "# the confusion matrix\n",
        "import matplotlib.pyplot as plt\n",
        "from sklearn.metrics import confusion_matrix, ConfusionMatrixDisplay\n",
        "\n",
        "fig, ax = plt.subplots(figsize=(10,7))\n",
        "y_pred = rf_clf_randomcv.best_estimator_.predict(X_test)\n",
        "\n",
        "cm = confusion_matrix(y_test, y_pred, labels=rf_clf_randomcv.best_estimator_.classes_)\n",
        "disp = ConfusionMatrixDisplay(confusion_matrix=cm,\n",
        "                             display_labels=rf_clf_randomcv.best_estimator_.classes_)\n",
        "disp.plot(ax=ax)\n",
        "plt.show()"
      ],
      "metadata": {
        "colab": {
          "base_uri": "https://localhost:8080/",
          "height": 442
        },
        "id": "jCjcoNrKLdgE",
        "outputId": "ef605c55-37db-40e8-ce9a-68d2a605940f"
      },
      "execution_count": 40,
      "outputs": [
        {
          "output_type": "display_data",
          "data": {
            "text/plain": [
              "<Figure size 720x504 with 2 Axes>"
            ],
            "image/png": "[encoded data removed]"
          },
          "metadata": {
            "needs_background": "light"
          }
        }
      ]
    },
    {
      "cell_type": "code",
      "source": [
        "#classification report\n",
        "from sklearn.metrics import classification_report\n",
        "y_pred = rf_clf_gridcv.best_estimator_.predict(X_test)\n",
        "print(classification_report(y_test, y_pred))"
      ],
      "metadata": {
        "colab": {
          "base_uri": "https://localhost:8080/"
        },
        "id": "l2_GGrNJLdl1",
        "outputId": "af4bb3bd-cbf4-4e98-d461-853c3b8eb664"
      },
      "execution_count": 42,
      "outputs": [
        {
          "output_type": "stream",
          "name": "stdout",
          "text": [
            "              precision    recall  f1-score   support\n",
            "\n",
            "           0       0.84      0.99      0.91      1607\n",
            "           1       0.84      0.25      0.39       393\n",
            "\n",
            "    accuracy                           0.84      2000\n",
            "   macro avg       0.84      0.62      0.65      2000\n",
            "weighted avg       0.84      0.84      0.81      2000\n",
            "\n"
          ]
        }
      ]
    },
    {
      "cell_type": "code",
      "source": [],
      "metadata": {
        "id": "Ip_22vuuLdpj"
      },
      "execution_count": null,
      "outputs": []
    },
    {
      "cell_type": "code",
      "source": [],
      "metadata": {
        "id": "2jRb3rBtLdsa"
      },
      "execution_count": null,
      "outputs": []
    },
    {
      "cell_type": "code",
      "source": [],
      "metadata": {
        "id": "p7ENKQIyLdvF"
      },
      "execution_count": null,
      "outputs": []
    }
  ]
}